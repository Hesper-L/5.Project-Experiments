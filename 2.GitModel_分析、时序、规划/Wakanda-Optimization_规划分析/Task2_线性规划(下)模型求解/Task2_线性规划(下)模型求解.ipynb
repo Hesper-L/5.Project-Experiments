{
 "cells": [
  {
   "cell_type": "markdown",
   "metadata": {},
   "source": [
    "# Task2 线性规划(下) 模型求解\n",
    "## 1.3 线性规划模型的求解方式: 单纯形法\n",
    "\n",
    "在讲解线性规划求解方法之前$,$ 我们引入必要的知识准备.\n",
    "\n",
    "### 1.3.1 必要的知识准备一: 标准形式及化为标准形式的方法\n",
    "\n",
    "对于一个线性规划$,$ 由于其约束是由线性等式以及线性不等式构成的$,$ 而在线性等式中寻找可行点 (比如求线性方程组) 比在线性不等式中寻找可行点的难度要小得多$,$ 对于任意一条线性不等式约束（不妨设为第$i$个约束）\n",
    "\n",
    "$$a_{i1}x_1+a_{i2}x_2+\\cdots+a_{in}x_n\\leqslant b_i,$$\n",
    "\n",
    "我们引入新的变量 $s_i\\geqslant 0$ 使得原约束变为等式约束\n",
    "$$\\tag{1.1}\\label{eq 1}a_{i1}x_1+a_{i2}x_2+\\cdots+a_{in}x_n+s_i=b_i,$$\n",
    "这样的变量 $s_i$ 我们称为松弛变量$,$ 同样的对于 $\\geqslant$ 型的不等式约束的也可引入松弛变量解决问题\n",
    "$$a_{i1}x_1+a_{i2}x_2+\\cdots+a_{in}x_n\\geqslant b_i\\rightarrow a_{i1}x_1+a_{i2}x_2+\\cdots+a_{in}x_n-s_i=b_i.$$\n",
    "\n",
    "将一个线性规划问题中所有不等式约束等式化后我们得到**线性规划的标准形式**\n",
    "\n",
    "\\begin{align}\\tag{1.2}\\label{eq 2}&\\min f(\\boldsymbol{x}) =c_1x_1+c_2x_2+\\cdots+c_nx_n,\\\\\n",
    "s.t.&\\begin{cases}\n",
    "a_{11}x_1+a_{12}x_2+\\cdots+a_{1n}x_n= b_1,\\\\\n",
    "a_{21}x_1+a_{22}x_2+\\cdots+a_{2n}x_n= b_2,\\\\\n",
    "\\vdots\\\\\n",
    "a_{m1}x_1+a_{m2}x_2+\\cdots+a_{mn}x_n= b_m,\\\\\n",
    "x_i\\geqslant 0,i=1,2,\\cdots,n\n",
    "\\end{cases}\n",
    "\\end{align}\n",
    "其中$,$ $a_{ij}\\in R,b_i\\geqslant 0,\\boldsymbol{x}=(x_1,x_2,\\cdots,x_n)\\in R^n$ 是 $n$ 个**连续**的决策变量 (含松弛变量) $,$ 具有 $m$ 条等式约束$,$ 由于松弛变量的存在一般假设 $n\\geqslant m$ 且无法相互线性组合$,$ 我们利用矩阵也可以将其写成如下紧凑形式\n",
    "\n",
    "$$\\tag{1.3}\\label{eq 3}\\min f(\\boldsymbol{x})=\\boldsymbol{c}^T\\boldsymbol{x},$$\n",
    "$$s.t.\\begin{cases}A \\boldsymbol{x}=\\boldsymbol{b}\\\\\n",
    "\\boldsymbol{x}\\geqslant 0,\n",
    "\\end{cases}$$\n",
    "其中 $A$ 为系数矩阵$,$ 从约束无法相互线性组合可知 $A$ 的秩必为 $m$.\n",
    "\n",
    "除开引入松弛变量$,$ 对于一些常见的现实情况$,$ 我们需要一些小操作将其化为<mark>标准形式</mark>:\n",
    "\n",
    "1. 当问题需要求解的最优解是最大值时$,$ 事实上等价于求解如下问题\n",
    "$$\\max c_1x_1+c_2x_2+\\cdots+c_nx_n\\Leftrightarrow \\min - (c_1x_1+c_2x_2+\\cdots+c_nx_n) .$$\n",
    "2. 当问题的决策变量 $x_i$ 是非正的$,$ 或任意值时$,$ 我们做如下操作非负化决策变量\n",
    "$$x_i\\leqslant 0\\rightarrow \\text{引入}x_i'=-x_i,$$\n",
    "$$x_i\\in R^n\\rightarrow \\text{引入}x_i',x_i''\\geqslant 0,x_i=x_i'-x_i''.$$\n",
    "3. 当约束的常数 $b_i$ 非正时$,$ 该约束等价于\n",
    "$$a_{i1}x_1+a_{i2}x_2+\\cdots+a_{in}x_n= b_i\\Leftrightarrow - (a_{i1}x_1+a_{i2}x_2+\\cdots+a_{in}x_n) =-b_i.$$\n",
    "\n",
    "集合 $D=\\{a_{i1}x_1+a_{i2}x_2+\\cdots+a_{in}x_n= b_i\\mid x_i\\geqslant 0,i=1,2,\\cdots,m\\}$ 称为问题的**可行域**$,$ $D$ 中每个点都是问题的一个解$,$ 称为**可行解**$,$ 而使得问题达到最小值的可行解称为**最优解**$,$ 对于一个线性规划问题$,$ 其不一定有最优解$,$ 因为可行域可以无界$,$ 当然$,$ 若存在最优解$,$ 也不一定唯一$,$ 下述二图解释了线性规划无最优解或最优解不唯一的情况 (若我们构建方式不当$,$ 也有可能出现 $D=\\varnothing$ 即不存在可行解的情况$,$ 为下文命题阐述严谨起见提出这一点). \n",
    "\n",
    "<table>\n",
    "<td> \n",
    "<img src=\"fig/fig1.3.1_解的情况.png\" <br>\n",
    "</td> \n",
    "<td> \n",
    "<img src=\"fig/fig1.3.2_解的情况.png\" <br>\n",
    "</td> \n",
    "</table>\n",
    "\n",
    "\n"
   ]
  },
  {
   "cell_type": "markdown",
   "id": "f386af8e",
   "metadata": {},
   "source": [
    "### 1.3.2 单纯形法算法步骤<sup>1</sup>\n",
    "\n"
   ]
  },
  {
   "cell_type": "markdown",
   "id": "b7342b54",
   "metadata": {},
   "source": [
    "### 1.3.3 从二维图解法出发引入单纯形法的思路\n",
    "\n",
    "从优化理论出发$,$ 线性规划本质上是一个约束优化问题$,$ 无法简单地用无约束优化的一二阶条件求导数零点进行判断$,$ 幸运的是由于目标函数以及约束都是线性的$,$ 我们有更加简洁且实用的方法——<b>单纯形法</b>.\n",
    "\n",
    "从高中学的线性规划知识我们知道对于变量数为 $2$ 的线性规划问题可以用图解法迅速解决$,$ 我们从图解法出发构建高维线性规划的解决方式. 事实上$,$ 由图解法我们可以观察得到两个基本事实:\n",
    "\n",
    "1. 线性规划可行域是多边形.\n",
    "2. 大多数存在唯一解的线性规划问题, 其解会在多边形可行域顶点取得.\n",
    "\n",
    "那么对于高维的线性规划问题, 这两个特征会不会被保留下来呢$?$ 答案是会的, 我们需要借用凸集来推广高维的多边形.\n",
    "\n",
    "<mark><b>定义 1.1.1 [凸集]</mark></b> 设 $C$ 是 $R^n (n\\geqslant 2) $ 上的非空子集, 若对于任意 $x_1,x_2\\in C$ 有 $\\alpha x_1+(1-\\alpha)  x_2,\\alpha\\in [0,1]$ 则 $C$ 称为**凸集**. 若凸集 $C$ 上一点 $x$ 满足不存在 $x_1,x_2\\in C$ 使得 $x=\\alpha x_1+(1-\\alpha) x_2(\\alpha \\in (0,1)) $ 则 $x$ 称为凸集的**顶点**.\n",
    "\n",
    "<table>\n",
    "<td> \n",
    "<img src=\"fig/fig6_凸集.png\" <br>\n",
    "</td> \n",
    "<td> \n",
    "<img src=\"fig/fig7_非凸集合.png\" <br>\n",
    "</td> \n",
    "<td> \n",
    "<img src=\"fig/fig8_凸多边形.png\" <br>\n",
    "</td> \n",
    "</table>\n",
    "<itag>凸集与非凸集(<a href=\"https://www.wikiwand.com/zh-sg/%E5%87%B8%E9%9B%86\">引用自网络</a>)</itag>\n",
    "\n",
    "从几何意义上来说$,$ 凸集势必会包含任意集合中两点的连线$,$ 而顶点只能是凸集中线段的端点 (等价于$,$ 只能是边界\"线段\"的交点) . 那么$,$ 可以仅由线段分解的多边形便是高维空间中最简单的非平凡凸集. 对于线性规划与凸集$,$ 显然从几何想象可以得到以下基本事实:\n",
    "\n",
    "<mark><b>命题 1.1.2</mark></b> 线性规划若存在可行解$,$ 则问题可行域必定为凸多边形.\n",
    "\n",
    "而目标函数是线性的其实保证了$,$ 可行域上的函数图像是一个倾斜的 $n$ 维凸多边形面$,$ 那么<b>其最小值必定会在多边形某个顶点取到$!$ </b>\n",
    "\n",
    "<mark><b>命题 1.1.3</mark></b> 线性规划若存在最优解$,$ 则最优解在凸多边形可行域的顶点集中取得.\n",
    "\n",
    "那么$,$ 对于线性规划的最优解搜索范围$,$ 我们缩小到了有限的顶点集中$,$ 自然求解会方便的多$,$ 接下来的问题有二:\n",
    "\n",
    "1. 如何计算线性约束可行域的顶点$?$\n",
    "\n",
    "2. 枚举计算顶点的函数值可以找到最优值$,$ 但随着维数升高计算量太大了$,$ 有没有什么更好的最优顶点筛选方式$?$\n",
    "\n"
   ]
  },
  {
   "cell_type": "markdown",
   "id": "81991c40",
   "metadata": {},
   "source": [
    "### 1.3.4 求解顶点--基可行解\n",
    "\n",
    "从本小节开始$,$ 我们正式开始展开单纯形法的讨论$,$ 由于数学要素较多$,$ 推荐在学习之前积累以下的前置知识:\n",
    "\n",
    "1. 向量的线性相关性.\n",
    "2. 向量组与矩阵的秩$,$ 极大线性无关组.\n",
    "3. 线性方程组解的情况以及对应条件.\n",
    "\n",
    "经过代数学的学习$,$ 我们可以敏感地感知到: 标准形式的线性规划可行域其实就是某个线性方程组的非负解集$,$ 那么自然会诞生这样一个问题: 可行域对应的线性方程组\n",
    "$$\\begin{cases}\n",
    "a_{11}x_1+a_{12}x_2+\\cdots+a_{1n}x_n= b_1\\\\\n",
    "a_{21}x_1+a_{22}x_2+\\cdots+a_{2n}x_n= b_2\\\\\n",
    "\\vdots\\\\\n",
    "a_{m1}x_1+a_{m2}x_2+\\cdots+a_{mn}x_n= b_m\\\\\n",
    "x_i\\geqslant 0,i=1,2,\\cdots,n\\\\\n",
    "\\end{cases}\\Leftrightarrow A\\boldsymbol{x}=\\boldsymbol{b}$$ 中什么样的解才是可行域对应的凸多边形顶点呢$?$ 利用我们高中以及大学的解析几何知识联想一下$,$ 二维空间中$,$ 二元一次方程组的唯一解对应着两条直线的交点$;$ 三维空间中$,$ 三元一次方程组的唯一解对应着三个平面的交点$,$ 那么若 $m$ 元一次方程有唯一解$,$ 则该解必定对应着 $n$ 维空间中 $m$ 个\"超平面\"的交点. \n",
    "\n",
    "<mark>补图</mark>\n",
    "\n",
    "而代数知识告诉我们$,$ 什么样的线性方程组有唯一解$?$ 系数矩阵 $A$ 可逆的呗.可惜 $A$ 是一个长方阵 (列数 $n$ 比行数 $m$ 大) $,$ 仅仅是行满秩的$,$ 并无法保证其具有唯一解$,$ 那么我们将其表达成向量的线性组合形式$,$\n",
    "$$A=\\begin{bmatrix}\\boldsymbol{\\alpha}_1&\\boldsymbol{\\alpha}_2&\\cdots&\\boldsymbol{\\alpha}_n\\end{bmatrix},\\boldsymbol{\\alpha}_i=\\begin{bmatrix}\n",
    "a_{1i}\\\\\n",
    "a_{2i}\\\\\n",
    "\\vdots\\\\\n",
    "a_{ni}\\\\\n",
    "\\end{bmatrix},$$\n",
    "$$\\tag{1.4}\\label{eq 4}A\\boldsymbol{x}=\\boldsymbol{b}\\Leftrightarrow x_1\\boldsymbol{\\alpha}_1+x_2\\boldsymbol{\\alpha}_2+\\cdots+x_n\\boldsymbol{\\alpha}_n=\\boldsymbol{b},$$\n",
    " $A$ 的秩为 $m$ 代表着: 向量组 $\\begin{bmatrix}\\boldsymbol{\\alpha}_1&\\boldsymbol{\\alpha}_2&\\cdots&\\boldsymbol{\\alpha}_n\\end{bmatrix}$ 的秩为 $m,$ 即其中有 $m$ 个线性无关的向量$,$ 我们不妨将其挑出来: $B=\\begin{bmatrix}\\boldsymbol{a}_{i_1}&\\boldsymbol{a}_{i_2}&\\cdots&\\boldsymbol{a}_{i_m}\\end{bmatrix},$ 这也代表着 $A$ 中对应的 $m\\times m$ 子矩阵 $B$ 的秩是 $m$ (满秩) 从而是可逆的$,$ 事实上$,$ 我们只需要取 $x_k=0,k\\ne i_j,j=1,2,\\cdots,m$ 即方程 $\\eqref{eq 4}$ 变为\n",
    "$$\\begin{matrix}\n",
    "\\begin{cases}\n",
    "a_{11}x_1+a_{12}x_2+\\cdots+a_{1n}x_n= b_1\\\\\n",
    "a_{21}x_1+a_{22}x_2+\\cdots+a_{2n}x_n= b_2\\\\\n",
    "\\vdots\\\\\n",
    "a_{m1}x_1+a_{m2}x_2+\\cdots+a_{mn}x_n= b_m\\\\\n",
    "\\end{cases}&\\longrightarrow&\n",
    "\\begin{cases}\n",
    "a_{11}0+\\cdots+a_{1i_1}x_{i_1}+\\cdots+a_{1i_1}x_{i_2}+\\cdots+a_{1i_m}x_{i_m}+\\cdots+a_{1n}0= b_1\\\\\n",
    "a_{21}0+\\cdots+a_{2i_1}x_{i_1}+\\cdots+a_{2i_2}x_{i_2}+\\cdots+a_{2i_m}x_{i_m}+\\cdots+a_{2n}0= b_2\\\\\n",
    "\\vdots\\\\\n",
    "a_{m1}0+\\cdots+a_{mi_1}x_{i_1}+\\cdots+a_{mi_2}x_{i_2}+\\cdots+a_{mi_m}x_{i_m}+\\cdots+a_{mn}0= b_m\\\\\n",
    "\\end{cases}&\\\\\n",
    "\\Updownarrow&&\\Updownarrow&\\\\\n",
    "x_1\\boldsymbol{\\alpha}_1+x_2\\boldsymbol{\\alpha}_2+\\cdots+x_n\\boldsymbol{\\alpha}_n=\\boldsymbol{b}&\\longrightarrow&0\\boldsymbol{\\alpha}_1+\\cdots+x_{i_1}\\boldsymbol{\\alpha}_{i_1}+\\cdots+x_{i_2}\\boldsymbol{\\alpha}_{i_2}+\\cdots+\\cdots+x_{i_m}\\boldsymbol{\\alpha}_{i_m}+\\cdots+0\\boldsymbol{\\alpha}_n=\\boldsymbol{b}\\\\\n",
    "\\Updownarrow&&\\Updownarrow&\\\\\n",
    "A \\boldsymbol{x}=\\boldsymbol{b}&\\longrightarrow& B\\boldsymbol{x}'=\\boldsymbol{b}\\Rightarrow \\boldsymbol{x}'=B^{-1}\\boldsymbol{b}\\ (B\\ \\text{行列满秩故可逆}) \\\\\n",
    "\\end{matrix}$$\n",
    "其中\n",
    "$$B=\\begin{bmatrix}\\boldsymbol{a}_{i_1}&\\boldsymbol{a}_{i_2}&\\cdots&\\boldsymbol{a}_{i_m}\\end{bmatrix}=\\begin{bmatrix}\n",
    "a_{1i_1}&a_{1i_2}&\\cdots&a_{1i_m}\\\\\n",
    "a_{2i_1}&a_{2i_2}&\\cdots&a_{2i_m}\\\\\n",
    "\\vdots&\\vdots&\\ddots&\\vdots\\\\\n",
    "a_{mi_1}&a_{mi_2}&\\cdots&a_{mi_m}\\\\\n",
    "\\end{bmatrix},\\boldsymbol{x}'=\\begin{bmatrix}\n",
    "x_{i1}\\\\\n",
    "x_{i2}\\\\\n",
    "\\vdots\\\\\n",
    "x_{im}\n",
    "\\end{bmatrix}.$$\n",
    "\n",
    "那么$(0,\\cdots,0,x_{i_1},\\cdots,x_{i_m},0,\\cdots,0)$ 便是 $A\\boldsymbol{x}=\\boldsymbol{b}$ 的一组解$,$ 并且也是子方程组 $B\\boldsymbol{x}'=\\boldsymbol{b}$ 的唯一解$,$ 从而是约束 $A\\boldsymbol{x}=\\boldsymbol{b}$ 对应凸多边形的一个顶点$,$ 只要再保证 $x_{i_j}\\geqslant 0,j=1,2,\\cdots,m,$ 那么这样的解便是线性规划可行域凸多边形的一个顶点$!$\n",
    "\n",
    "$A$ 中每组 $m$ 列线性无关的向量 $B=\\begin{bmatrix}\\boldsymbol{a}_{i_1}&\\boldsymbol{a}_{i_2}&\\cdots&\\boldsymbol{a}_{i_m}\\end{bmatrix}$ (亦即$,$ 满秩的 $m\\times m$ 子矩阵 $B$) 对应的子方程 $B\\boldsymbol{x}'=\\boldsymbol{b}$ 唯一解$,$ 只要非负$,$ 便是可行域多边形的顶点之一$,$ 这是因为 $m$ 条等式线性约束在 $n$ 维代表了一个 $m$ 维的超\"平面\"$,$ 再加上变量非负 $x_j\\geqslant 0$ 的限制$,$ 这样的超平面又被无形的\"坐标墙\"框成了多边形$,$ 自然就必须有一些分量为 $0!$  以三维空间为例子$,$ 顶点都是二维平面约束在坐标轴上的交点. \n",
    "\n",
    "<mark>补图</mark>\n",
    "\n",
    "我们将 $A$ 中列满秩的$m\\times m$ 子矩阵 $B$ 称为**基**$,$ 其对应的线性方程组解 $ (0,\\cdots,0,x_{i_1},\\cdots,x_{i_m},0,\\cdots,0) $ 若有 $x_{i_j}\\geqslant 0,j=1,2,\\cdots,m$ 则称为**基可行解**. 基可行解最为重要的意义便是等价于可行域的顶点.\n",
    "\n",
    "可以严谨地证明:\n",
    "\n",
    "<mark><b>命题 1.1.3</mark></b> 线性规划问题 $\\eqref{eq 2},\\eqref{eq 3}$ 中可行域中的点 $\\boldsymbol{x}$ 是基可行解的必要条件是至少有 $n-m$ 个分量为 $0$.\n",
    "\n",
    "<mark><b>命题 1.1.4</mark></b> 线性规划问题 $\\eqref{eq 2},\\eqref{eq 3}$ 中凸多边形可行域的顶点集与线性规划的基可行解一一对应.\n",
    "\n",
    "这边解决了我们在 1.3.3 提出的第一个问题: <center>**凸多边形的顶点可直接计算基可行解求得.**</center>\n",
    "\n",
    "<!--不妨设 $x_{im}=x_i$ (替换变量位置得到) $,$ \n",
    "则 $ (x_1,x_2,\\cdots,x_m,0,0,\\cdots,0) ^T$ 是 $A\\boldsymbol{x}=\\boldsymbol{b}$ 的一组解$,$ 并且 $x_i\\geqslant 0,i=1,2,\\cdots,m,$ 则也必定为可行域多边形的顶点之一.-->\n",
    "\n"
   ]
  },
  {
   "cell_type": "markdown",
   "id": "2a5a0d9f",
   "metadata": {},
   "source": [
    "### 1.3.5 向最佳顶点出发$!$ --单纯形迭代搜索\n",
    "\n",
    "把基可行解都枚举出来是比较笨的——那样子不够\"数学\".\n",
    "\n",
    "我们更希望的是$,$ 能向登山一样$,$ 设计出一条爬山路线$,$ 不断逼近\"山顶\"——而具有这种性质的数学算法应该是迭代的: 一步步搜索顶点$,$ 每搜索到的一个顶点 $\\boldsymbol{x}_n$ 都要比上一次搜索到的顶点 $\\boldsymbol{x}_{n-1}$ 要\"好\"$,$ 由于我们求解的是最小值$,$ 这样的算法统称为**下降算法**\n",
    "\n",
    "<img src=\"fig/fig9_Gradient_descent.gif\">\n",
    "<center><itag>梯度下降——“下山”(<a href=\"https://commons.wikimedia.org/wiki/File:Gradient_descent.gif\">引用自网络</a>)</itag></center>\n",
    "\n",
    "下降算法由以下几步构成:\n",
    "\n",
    "1. 确定初始的迭代点 $\\boldsymbol{x}_0$.\n",
    "\n",
    "2. 确定**迭代步骤**$,$ 即 $\\boldsymbol{x}_{n-1}$ 与 $\\boldsymbol{x}_{n}$ 之间的递推关系 $\\boldsymbol{x}_n=F(\\boldsymbol{x}_{n-1})$ 且保证\"下降\" $f(\\boldsymbol{x}_n)-f(\\boldsymbol{x}_{n-1})\\leqslant 0$.\n",
    "\n",
    "3. 确定如何迭代到什么时候能找到最优解$,$ 即**终止准则**.\n",
    "\n",
    "1.3.4 节中我们已经知道了线性规划问题 $\\eqref{eq 1},\\eqref{eq 2}$ 的最优解必定在顶点 (基可行解) 处取得$,$ 故我们的搜索迭代范围仅限于顶点 (基可行解) 之间$,$ 依照下降算法的步骤$,$ 我们需要先找到一个顶点 (基可行解) 作为初始解 $\\boldsymbol{x}_0$ 再从 $\\boldsymbol{x}_0$ 出发寻找函数值 $f$ 不大于 $f(\\boldsymbol{x}_0)$ 的顶点 (基可行解) $\\boldsymbol{x}_1,$ 接着重复此步骤直到找到无法再下降的顶点 (基可行解) $\\boldsymbol{x}_{N}$.\n",
    "\n",
    "#### 第一部分:初始可行解(人工变量)\n",
    "\n",
    "在最开始的时候$,$ 我们需要找到一个顶点 (基可行解) 作为算法的\"启动资金\"——初始解. 由 1.3.4 我们知道需要计算约束方程 $A\\boldsymbol{x}=\\boldsymbol{b}$ 中的一个基可行解$,$ 这要求我们找到 $A$ 中一个基 $B,$ 枚举基是有一定难度的$,$ 特别是当决策变量个数 $n$ 以及约束矩阵 $A$ 的秩 $m$ 都比较大的时候 (大规模计算的情形)$,$ 我们更希望有一种简单的方式去找到一个基 $B,$ 因为线性规划问题 $\\eqref{eq 2}$ 是经过引入松弛变量松弛化不等式约束的$,$ 如 $\\eqref{eq 1},$ 这相当于在矩阵 $A$ 中增广了如 $(1,0,\\cdots,0)$ 的列向量$,$ 假设 $A$ 的前 $k$ 行都是不等式约束$,$ 那么加入松弛变量后 $A$ 增广为\n",
    "\n",
    "$$\\begin{matrix}\n",
    "\\begin{cases}\n",
    "a_{11}x_1+a_{12}x_2+\\cdots+a_{1n}x_n\\leqslant b_1\\\\\n",
    "a_{21}x_1+a_{22}x_2+\\cdots+a_{2n}x_n\\leqslant b_2\\\\\n",
    "\\vdots\\\\\n",
    "a_{k1}x_1+a_{k2}x_2+\\cdots+a_{kn}x_n\\leqslant b_k\\\\\n",
    "a_{k+1,1}x_1+a_{k+1,2}x_2+\\cdots+a_{k+1,n}x_n= b_{k+1}\\\\\n",
    "\\vdots\\\\\n",
    "a_{m1}x_1+a_{m2}x_2+\\cdots+a_{mn}x_n= b_m\\\\\n",
    "\\end{cases}\n",
    "&\\longrightarrow&\n",
    "\\begin{cases}\n",
    "a_{11}x_1+a_{12}x_2+\\cdots+a_{1n}x_n+s_1=b_1\\\\\n",
    "a_{21}x_1+a_{22}x_2+\\cdots+a_{2n}x_n+s_2=b_2\\\\\n",
    "\\vdots\\\\\n",
    "a_{k1}x_1+a_{k2}x_2+\\cdots+a_{kn}x_n+s_k=b_k\\\\\n",
    "a_{k+1,1}x_1+a_{k+1,2}x_2+\\cdots+a_{k+1,n}x_n= b_{k+1}\\\\\n",
    "\\vdots\\\\\n",
    "a_{m1}x_1+a_{m2}x_2+\\cdots+a_{mn}x_n= b_m\\\\\n",
    "\\end{cases}\\\\\n",
    "\\Updownarrow&&\\Updownarrow\\\\\n",
    "\\begin{bmatrix}\n",
    "a_{11}&a_{12}&\\cdots&a_{1n}\\\\\n",
    "a_{21}&a_{22}&\\cdots&a_{2n}\\\\\n",
    "\\vdots&\\vdots&\\ddots&\\vdots\\\\\n",
    "a_{m1}&a_{m2}&\\cdots&a_{mn}\\\\\n",
    "\\end{bmatrix}&\\longrightarrow&\\begin{bmatrix}\n",
    "a_{11}&a_{12}&\\cdots&a_{1n}&1&0&\\cdots&0&\\cdots&0\\\\\n",
    "a_{21}&a_{22}&\\cdots&a_{2n}&0&1&\\cdots&0&\\cdots&0\\\\\n",
    "\\vdots&\\vdots&\\ddots&\\vdots&\\vdots&\\vdots&\\ddots&\\vdots&\\ddots&\\vdots\\\\\n",
    "a_{k1}&a_{k2}&\\cdots&a_{kn}&0&0&\\cdots&1&\\cdots&0\\\\\n",
    "a_{k+1,1}&a_{k+1,2}&\\cdots&a_{k+1,n}&0&0&\\cdots&0&\\cdots&0\\\\\n",
    "\\vdots&\\vdots&\\ddots&\\vdots&\\vdots&\\vdots&\\ddots&\\vdots&\\ddots&\\vdots\\\\\n",
    "a_{m1}&a_{m2}&\\cdots&a_{mn}&0&0&\\cdots&0&\\cdots&0\\\\\n",
    "\\end{bmatrix}\n",
    "\\end{matrix}$$\n",
    "\n",
    "当 $m$ 行约束全是不等式约束即加入了 $m$ 个松弛变量时$,A$ 的后 $m$ 列自然构成了一个 $m$ 阶的单位阵 $I_m,$ 必定可逆$,$ 这不就是我们所想要的最简单的基吗$?$ \n",
    "\n",
    "因此，单纯形法的第一步是<b>创建人工变量</b>，将标准化后的约束矩阵 $A$存为一个数组，这就是我们最初始的单纯形表，其中后 $m$ 列 $I_m$ 是 $A$ 的基.以下面的模型为例，演示单纯形法及其代码.\n",
    "\n",
    "\\begin{aligned}\n",
    "&\\max z=2 x_{1}+x_{2} \\\\\n",
    "&5 x_{2} \\leqslant 15 \\\\\n",
    "&\\text { s. t. }\\left\\{\\begin{array}{c}\n",
    "6 x_{1}+2 x_{2} \\leqslant 24 \\\\\n",
    "x_{1}+x_{2} \\leqslant 5 \\\\\n",
    "x_{1}, x_{2} \\geqslant 0\n",
    "\\end{array}\\right.\n",
    "\\end{aligned}\n",
    "\n",
    "首先将上述问题依据1.3.1内容进行标准化，得：\n",
    "\n",
    "\\begin{aligned}\n",
    "&\\max z=2 x_{1}+x_{2}+0 x_{3}+0 x_{4}+0 x_{5}\\\\\n",
    "&\\text { s.t. }\\left\\{\\begin{array}{rlr}\n",
    "5 x_{2}+x_{3} & =15 \\\\\n",
    "6 x_{1}+2 x_{2}+x_{4} & =24 \\\\\n",
    "x_{1}+x_{2}+x_{5} & =5 \\\\\n",
    "x_{1}, x_{2}, x_{3}, x_{4}, x_{5} \\geqslant 0 &\n",
    "\\end{array}\\right.\n",
    "\\end{aligned}\n",
    "\n",
    "\n"
   ]
  },
  {
   "cell_type": "code",
   "execution_count": 256,
   "id": "ef854bab",
   "metadata": {
    "ExecuteTime": {
     "end_time": "2022-08-09T15:52:37.771000Z",
     "start_time": "2022-08-09T15:52:37.753047Z"
    }
   },
   "outputs": [],
   "source": [
    "import numpy as np"
   ]
  },
  {
   "cell_type": "code",
   "execution_count": 283,
   "id": "146b9b7c",
   "metadata": {
    "ExecuteTime": {
     "end_time": "2022-08-09T15:59:59.991663Z",
     "start_time": "2022-08-09T15:59:59.973712Z"
    }
   },
   "outputs": [
    {
     "data": {
      "text/plain": [
       "array([[ 0,  5,  1,  0,  0, 15],\n",
       "       [ 6,  2,  0,  1,  0, 24],\n",
       "       [ 1,  1,  0,  0,  1,  5]])"
      ]
     },
     "execution_count": 283,
     "metadata": {},
     "output_type": "execute_result"
    }
   ],
   "source": [
    "# 传入标准化后约束条件系数矩阵\n",
    "A = np.array([[0, 5, 1, 0, 0],\n",
    "              [6, 2, 0, 1, 0],\n",
    "              [1, 1, 0, 0, 1]])\n",
    "b = np.array([15, 24, 5])  # 约束条件常数项\n",
    "c = np.array([2, 1, 0, 0, 0]) # 目标函数系数\n",
    "\n",
    "S = np.c_[A, b]  # 合并为初始表\n",
    "S"
   ]
  },
  {
   "cell_type": "markdown",
   "id": "ba9d732a",
   "metadata": {},
   "source": [
    "<img src=\"fig/fig9_单纯形表结构.png\">\n",
    "<center>单纯形表结构</center>\n",
    "\n",
    "<mark><b>命题 1.1.5</mark></b> 当线性规划问题 $\\eqref{eq 2}$ 中只含有不等式约束时$,$ 标准化后的约束矩阵 $A$ 后 $m$ 列 $I_m$ 是 $A$ 的基.\n",
    "\n",
    "当松弛变量个数小于 $m$ 时$,$ 我们可以耍一耍小学生解题的\"有借有还\"伎俩$,$ 先借几个松弛变量凑到 $m$ 个$,$ 最后求解的时候再还回去$,$ \n",
    "$$\\begin{matrix}\n",
    "\\min c_1x_1+c_2x_2+\\cdots+c_nx_n&&\\min c_1x_1+c_2x_2+\\cdots+c_nx_n+M(s_{k+1}+s_{k+2}+\\cdots+s_{m})\\\\\n",
    "\\begin{cases}\n",
    "a_{11}x_1+a_{12}x_2+\\cdots+a_{1n}x_n\\leqslant b_1\\\\\n",
    "a_{21}x_1+a_{22}x_2+\\cdots+a_{2n}x_n\\leqslant b_2\\\\\n",
    "\\vdots\\\\\n",
    "a_{k1}x_1+a_{k2}x_2+\\cdots+a_{kn}x_n\\leqslant b_k\\\\\n",
    "a_{k+1,1}x_1+a_{k+1,2}x_2+\\cdots+a_{k+1,n}x_n= b_{k+1}\\\\\n",
    "\\vdots\\\\\n",
    "a_{m1}x_1+a_{m2}x_2+\\cdots+a_{mn}x_n= b_m\\\\\n",
    "\\end{cases}\n",
    "&\\longrightarrow&\n",
    "\\begin{cases}\n",
    "a_{11}x_1+a_{12}x_2+\\cdots+a_{1n}x_n+s_1=b_1\\\\\n",
    "a_{21}x_1+a_{22}x_2+\\cdots+a_{2n}x_n+s_2=b_2\\\\\n",
    "\\vdots\\\\\n",
    "a_{k1}x_1+a_{k2}x_2+\\cdots+a_{kn}x_n+s_k=b_k\\\\\n",
    "a_{k+1,1}x_1+a_{k+1,2}x_2+\\cdots+a_{k+1,n}x_n+s_{k+1}= b_{k+1}\\\\\n",
    "\\vdots\\\\\n",
    "a_{m1}x_1+a_{m2}x_2+\\cdots+a_{mn}x_n+s_{m}= b_m\\\\\n",
    "\\end{cases}\n",
    "\\\\\n",
    "\\Updownarrow&&\\Updownarrow\\\\\n",
    "\\begin{bmatrix}\n",
    "a_{11}&a_{12}&\\cdots&a_{1n}\\\\\n",
    "a_{21}&a_{22}&\\cdots&a_{2n}\\\\\n",
    "\\vdots&\\vdots&\\ddots&\\vdots\\\\\n",
    "a_{m1}&a_{m2}&\\cdots&a_{mn}\\\\\n",
    "\\end{bmatrix}&\\longrightarrow&\\begin{bmatrix}\n",
    "a_{11}&a_{12}&\\cdots&a_{1n}&1&0&\\cdots&0&0&\\cdots&0\\\\\n",
    "a_{21}&a_{22}&\\cdots&a_{2n}&0&1&\\cdots&0&0&\\cdots&0\\\\\n",
    "\\vdots&\\vdots&\\ddots&\\vdots&\\vdots&\\vdots&\\ddots&\\vdots&\\vdots&\\ddots&\\vdots\\\\\n",
    "a_{k1}&a_{k2}&\\cdots&a_{kn}&0&0&\\cdots&1&0&\\cdots&0\\\\\n",
    "a_{k+1,1}&a_{k+1,2}&\\cdots&a_{k+1,n}&0&0&\\cdots&0&1&\\cdots&0\\\\\n",
    "\\vdots&\\vdots&\\ddots&\\vdots&\\vdots&\\vdots&\\ddots&\\vdots&\\vdots&\\ddots&\\vdots\\\\\n",
    "a_{m1}&a_{m2}&\\cdots&a_{mn}&0&0&\\cdots&0&0&\\cdots&1\\\\\n",
    "\\end{bmatrix}\n",
    "\\end{matrix}$$\n",
    "增加的松弛变量 $s_i,i=k+1,\\cdots,m$ 我们称为**人工变量**$,$ 其中 $M$ 是充分大的数 ($M>>c_i,i=1,2,\\cdots,n$)$,$ 用于保证增加人工变量后与原问题的等效性 (这是因为借的人工变量 $s_i,i=k+1,\\cdots,m$ 必须为 $0$ 即\"还\"回去$,$ 不会改变原问题的最优解).\n",
    "\n",
    "综上$,$ 单纯形法寻找初始解步骤是<center>(增加人工变量后)求解松弛变量对应构成的基方程 $I_m\\boldsymbol{x}'=\\boldsymbol{b}$ 即取 $(0,0,\\cdots,\\mathop{0}\\limits^{n},b_1,b_2,\\cdots,b_m)$作为初始解 $\\boldsymbol{x}_0$ 迭代.</center>\n",
    "\n"
   ]
  },
  {
   "cell_type": "code",
   "execution_count": 284,
   "id": "075f8538",
   "metadata": {
    "ExecuteTime": {
     "end_time": "2022-08-09T16:00:00.408796Z",
     "start_time": "2022-08-09T16:00:00.396788Z"
    }
   },
   "outputs": [
    {
     "data": {
      "text/plain": [
       "array([[ 0,  5,  1,  0,  0, 15],\n",
       "       [ 6,  2,  0,  1,  0, 24],\n",
       "       [ 1,  1,  0,  0,  1,  5]])"
      ]
     },
     "execution_count": 284,
     "metadata": {},
     "output_type": "execute_result"
    }
   ],
   "source": [
    "S"
   ]
  },
  {
   "cell_type": "markdown",
   "id": "404c16d1",
   "metadata": {},
   "source": [
    "上面的表$S_{m \\times n}$中，前5列对应的是变量，最后一列是约束的常数项. 约束条件有$m$个，也就是说，我们可以通过松弛化，使得基础的这张单纯形表中有 $m$ 列恰好可以构成单位阵 $I_m$. 在该例子中，$m=3$. 由于我们在松弛的过程中，有意识的使得倒数的 $m$ 列刚好可以构成单位阵(不考虑最后一列$b$)，因此，初始的基变量索引就为第$(n-m)$列到$(n-1)$列.注意到 python 是从0开始索引的，所以要退1."
   ]
  },
  {
   "cell_type": "code",
   "execution_count": 285,
   "id": "0cde40a4",
   "metadata": {
    "ExecuteTime": {
     "end_time": "2022-08-09T16:00:00.927998Z",
     "start_time": "2022-08-09T16:00:00.921019Z"
    }
   },
   "outputs": [
    {
     "name": "stdout",
     "output_type": "stream",
     "text": [
      "基索引列表 [2, 3, 4]\n"
     ]
    }
   ],
   "source": [
    "m, n = S.shape\n",
    "basic_index = [i for i in range(n-m-1, n-1)]\n",
    "print(\"基索引列表\", basic_index)"
   ]
  },
  {
   "cell_type": "markdown",
   "id": "cee889b0",
   "metadata": {},
   "source": [
    "#### 第二部分:迭代步骤\n",
    "\n",
    "由 1.3.4 节的命题 1.1.3 我们可知线性规划问题 $\\eqref{eq 1},\\eqref{eq 2}$ 中可行域中的解作为顶点 (基可行解) 的必要条件是至少有 $n-m$ 个分量为 $0,$ 换言之$,$ 基可行解都是由 $m$ 个坐标分量就能决定的$,$ 那么从原来的基可行解 $\\boldsymbol{x}_n$ 出发$,$ 我们就可以通过**替换坐标**的方式$,$ 不改变非 $0$ 分量数 $m，$ 找到新的基可行解 $\\boldsymbol{x}_{n+1}^j$ !  先斩后奏$,$ 我们给出基可行解的迭代方式如下: 不妨设 $\\boldsymbol{x}_n= (x_{1},x_{2},\\cdots,x_{m},0,\\cdots,0) $ 是第 $n$ 步迭代得到的基可行解$,$ 若用第 $j$ 个坐标分量 ($j>m$) 替换 $1\\sim m$ 中某一个坐标分量$,$ 则第 $n+1$ 步的基可行解为\n",
    "$$\\boldsymbol{x}_{n+1}^j= (x_{1}-\\theta a_{1j},x_{2}-\\theta a_{2j},\\cdots,x_{m}-\\theta a_{mj},0,\\cdots,\\mathop{\\theta}\\limits^{j},\\cdots,0) ,$$\n",
    "其中$,$\n",
    "$$\\theta=\\min\\left\\{\\left.\\dfrac{x_{i}}{a_{ij}}\\right|a_{ij}>0\\right\\},$$\n",
    "而设最小的 $\\frac{x_{i}}{a_{ij}}$ 对应的坐标分量是 $l,$ 那么 $\\boldsymbol{x}_{n+1}^j$ 的第 $l$ 个分量 $x_{l}-\\theta a_{lj}=0,$ 这便实现了第 $j$ 个分量到第 $l$ 个分量的替换. 而 $\\theta$ 取最小值的构造保证了 $x_{i}-\\theta a_{ij}\\geqslant 0,$ 此外$,a_{ij}\\leqslant 0$ 的分量会使得 $x_i-\\theta a_{ij}\\geqslant x_i\\geqslant 0,$ 即替换后所有分量非负$,$ 保证了 $\\boldsymbol{x}_{n+1}^j$ 是基可行解.  \n",
    "\n",
    "而用来替换的坐标分量 $j$ 需要满足\n",
    "\n",
    "$$c_j-\\sum\\limits_{i=1}^mc_ia_{ij}<0,$$\n",
    "\n",
    "因为 $\\boldsymbol{x}_n$ 与 $\\boldsymbol{x}_{n+1}^j$ 的目标函数值需满足单调递减性\n",
    "\n",
    "\\begin{align*}\n",
    "&f (\\boldsymbol{x}_{n+1}^j) -f (\\boldsymbol{x}_n) &<0\\\\\n",
    "\\text{上式等于}\\ &\\sum\\limits_{i=1}^mc_i (x_i-\\theta a_{ij}) +c_j\\theta-\\sum\\limits_{i=1}^mc_ix_i&<0\\\\\n",
    "\\text{上式等于}\\ &c_j-\\sum\\limits_{i=1}^mc_ia_{ij}&<0,\n",
    "\\end{align*}\n",
    "\n",
    "而基于贪心的想法$,$ 我们希望函数值能下降的越快越好即 $f (\\boldsymbol{x}_{n+1}^j) -f (\\boldsymbol{x}_n) $ 越小越好$,$ 从而我们每一步都选取如下的分量 $j,$  \n",
    "$$j_0=\\mathrm{argmin}\\left\\{\\left.f (\\boldsymbol{x}_{n+1}^j) -f (\\boldsymbol{x}_n) =c_j-\\sum\\limits_{i=1}^mc_ia_{ij}\\right| j=m+1,\\cdots,n\\right\\}.$$\n",
    "\n",
    "所以$,$ 单纯形法的迭代步骤是\n",
    "$$\\boldsymbol{x}_n=(x_1,x_2,\\cdots,x_m,0,\\cdots,0)\\to \\boldsymbol{x}_{n+1}=\\boldsymbol{x}_{n+1}^{j_0}=(x_{1}-\\theta a_{1j_0},x_{2}-\\theta a_{2j_0},\\cdots,\\cdots,\\mathop{0}\\limits^{l},\\cdots,x_{m}-\\theta a_{mj_0},0,\\cdots,\\mathop{\\theta}\\limits^{j_0},\\cdots,0),$$\n",
    "$$\\theta=\\min\\left\\{\\left.\\dfrac{x_{i}}{a_{ij_0}}\\right|a_{ij_0}>0\\right\\}=\\dfrac{x_l}{a_{lj_0}},j_0=\\mathrm{argmin}\\left\\{\\left.f (\\boldsymbol{x}_{n+1}^j) -f (\\boldsymbol{x}_n) =c_j-\\sum\\limits_{i=1}^mc_ia_{ij}\\right| j=m+1,\\cdots,n\\right\\}.$$\n",
    "\n"
   ]
  },
  {
   "cell_type": "code",
   "execution_count": 286,
   "id": "28d95cb9",
   "metadata": {
    "ExecuteTime": {
     "end_time": "2022-08-09T16:00:01.813887Z",
     "start_time": "2022-08-09T16:00:01.796930Z"
    },
    "run_control": {
     "marked": false
    }
   },
   "outputs": [],
   "source": [
    "# 出入基\n",
    "def in_out():\n",
    "    C = c[basic_index] \n",
    "    sigma = c - (c[basic_index].reshape(-1,1)*S[:,:-1]).sum(axis=0) # 计算检验数\n",
    "\n",
    "    k = np.argmax(sigma) # 换入基向量索引\n",
    "        \n",
    "    # 算出基变量在表中的行索引，用b列除以入基变量列后的值进行比较判断\n",
    "    col_inB = []#入基的基变量的列，看哪个基变量出基\n",
    "    for i in range(m):\n",
    "        if S[i-1][k] == 0:\n",
    "            col_inB.append(np.inf)\n",
    "        else:\n",
    "            col_inB.append(S[i-1][-1] / S[i-1][k])\n",
    "    col_inB = np.array(col_inB)\n",
    "    print(col_inB)\n",
    "    cond1 = np.where(col_inB>0)\n",
    "    cond2 = np.min(col_inB[cond1])\n",
    "    index_outB = np.where(col_inB == cond2)\n",
    "    \n",
    "#     print(col_inB)\n",
    "\n",
    "#     theta = np.argmin(col_inB)\n",
    "#     print(theta)\n",
    "#     index_outB = col_inB.index(min([x for x in col_inB if x > 0]))#取b/aij的最小值，否则其他约束会不可行\n",
    "    \n",
    "    # 替换基变量\n",
    "    c[index_outB] = k #index_outB - 1为实际出基变量在基变量列表中的索引，因为矩阵第一行是c，约束矩阵A从第二行开始\n",
    "    cur_cell_to1 = S[index_outB][k] #新基的应为1的位置当前的数值\n",
    "    print(cur_cell_to1.dtype)\n",
    "    S[index_outB] = S[index_outB] / cur_cell_to1 #该行全部除以该值，使其为1，即该行标准化\n",
    "    print(index_outB)\n",
    "    \n",
    "    for row in [x for x in range(m) if x != index_outB]:\n",
    "        cur_cell_to0 = S[row][k]\n",
    "        print(S[row])\n",
    "        S[row] = S[row,:] - cur_cell_to0 * S[index_outB]\n",
    "    \n",
    "    return S\n",
    "\n",
    "    "
   ]
  },
  {
   "cell_type": "code",
   "execution_count": 287,
   "id": "804c98e7",
   "metadata": {
    "ExecuteTime": {
     "end_time": "2022-08-09T16:00:02.791466Z",
     "start_time": "2022-08-09T16:00:02.772518Z"
    }
   },
   "outputs": [
    {
     "data": {
      "text/plain": [
       "array([ 6,  2,  0,  1,  0, 24])"
      ]
     },
     "execution_count": 287,
     "metadata": {},
     "output_type": "execute_result"
    }
   ],
   "source": [
    "S[1,:]"
   ]
  },
  {
   "cell_type": "code",
   "execution_count": 290,
   "id": "e726a117",
   "metadata": {
    "ExecuteTime": {
     "end_time": "2022-08-10T16:31:15.164228Z",
     "start_time": "2022-08-10T16:31:14.904408Z"
    }
   },
   "outputs": [],
   "source": [
    "# def solve():\n",
    "#     flag = True\n",
    "#     while flag:\n",
    "#         if max(list(S[0][:-1])) <= 0:  # 直至所有系数小于等于0\n",
    "#             flag = False\n",
    "#         else:\n",
    "#             in_out()\n",
    "# solve()"
   ]
  },
  {
   "cell_type": "markdown",
   "id": "6e6d9d66",
   "metadata": {},
   "source": [
    "#### 第三部分:终止准则\n",
    "\n",
    "顶点序列 $\\{\\boldsymbol{x}_n\\}$ 的单调递减是容易满足的$,$ 但是$,$ 怎么判断经有限步找到的最终顶点 $\\boldsymbol{x}_{N}$ 是局部最小值呢$?$ \n",
    "\n",
    "我们以下分情况把所有的 case 都讨论一遍:\n",
    "\n",
    "1. 有唯一解: 直观的想法是$,$ 从 $\\boldsymbol{x}_{N}$ 出发$,$ 无论替换那个分量 $j$ 都已经找不到比它函数值更小的顶点了$,$ 那么也就是\n",
    "$$f (\\boldsymbol{x}_{n+1}^j)-f (\\boldsymbol{x}_N) =c_j-\\sum\\limits_{i=1}^mc_ia_{ij}> 0,j=1,2,\\cdots,n.$$\n",
    "2. 有无穷多解: 从线性规划 1.3.1 的图解例子来看$,$ 至少最小值会在一条线段 (一个平面等...) 取到$,$ 那么势必会存在至少两个顶点都取到函数最小值$,$ 从而\n",
    "$$f (\\boldsymbol{x}_{n+1}^j) -f (\\boldsymbol{x}_n) =c_j-\\sum\\limits_{i=1}^mc_ia_{ij}\\geqslant 0 \\ \\text{且} \\ \\exists\\ j,f (\\boldsymbol{x}_{n+1}^j) -f (\\boldsymbol{x}_n) =0.$$\n",
    "3. 有无界的解: 从线性规划 1.3.1 的图解例子来看$,$ 可行域更像是一个无界的\"多边形\"$,$ 我们可以当作存在无穷远处的顶点$,$ 并且在无穷远处的一个顶点是能满足单调递减条件的$,$ 从而首先会存在一个坐标分量 $j$ 使得 $f (\\boldsymbol{x}_{n+1}^j) -f (\\boldsymbol{x}_n) =c_j-\\sum\\limits_{i=1}^mc_ia_{ij}<0$ 且沿该坐标分量 $j$ 去更新顶点$,$ 无法找到基可行解$,$ 结合命题 1.1.3$,$ 即任意 $\\theta>0$ 都无法使得 $\\boldsymbol{x}_{n+1}^j= (x_{1}-\\theta a_{1j},x_{2}-\\theta a_{2j},\\cdots,x_{m}-\\theta a_{mj},0,\\cdots,\\mathop{\\theta}\\limits^{j},\\cdots,0) $ 中前 $m$ 个分量有下降为 $0$ 的$,$ 亦即 $x_{i}-\\theta a_{ij}>0,i=1,2,\\cdots,m$ 对 $\\theta>0$ 恒成立$,$ 容易推出 $a_{ij}<0,i=1,2,\\cdots,m$ 从而总结为\n",
    "$$\\exists \\ j,f (\\boldsymbol{x}_{n+1}^j) -f (\\boldsymbol{x}_n) =c_j-\\sum\\limits_{i=1}^mc_ia_{ij}<0,a_{ij}<0,i=1,2,\\cdots,m.$$\n",
    "4. 无可行解: 这事实上代表着可行域 $D$ 是空集$,$ 然而在高维的大规模问题面前我们很难在求解前发现$,$ 然而我们有另外的一种判别方式: 利用加入的人工变量 $s_i,$ 若已经出现有唯一解的判别准则 $f (\\boldsymbol{x}_{n+1}^j) -f (\\boldsymbol{x}_n) =c_j-\\sum\\limits_{i=1}^mc_ia_{ij}> 0,j=1,2,\\cdots,n$ 但此时有人工变量 $s_i>0,$ 这即借了人工变量还不回去$,$ 亦即原问题的找不到可行解$,$ 那么无可行解的判别准则即为\n",
    "$$f (\\boldsymbol{x}_{n+1}^j) -f (\\boldsymbol{x}_n) =c_j-\\sum\\limits_{i=1}^mc_ia_{ij}> 0,j=1,2,\\cdots,n,\\exists \\ s_i>0,s_i \\ \\text{是人工变量}.$$\n",
    "\n",
    "**注**: 值得一提的是$,$ 线性规划问题无可行解是一个特殊但不少见的情况$,$ 因为现实生活中我们也经常会遇到各种要求冲突从而找不到两全其美的解$,$ 对于如何解决这样的现实问题我们会在 Task 3 讨论.\n",
    "\n",
    "综上$,$ 我们分析清楚了线性规划问题中解的情况并得到了相应的判别准则$,$ 然而还剩下最后一个问题没有解决:\n",
    "<center>单纯形法生成的迭代点列 $\\{\\boldsymbol{x}_n\\}$ 的终止项 $\\boldsymbol{x}_N$ 只是对于 $\\{\\boldsymbol{x}_n\\}$ 的局部最小值$,$ 能否保证全局最小值呢$?$</center>\n",
    "\n",
    "事实上$,$ 优化理论中$,$ 对于大多数的优化问题而言$,$ 局部最小值并非全局最小值$,$ 然而针对一类性质较好的问题: **凸问题**——目标函数是凸的$,$ 约束可行域也是凸的$,$ 是满足局部最小值即是全局最小值的$,$ 而线性规划就是最典型的凸问题之一$!$ \n",
    "\n",
    "**命题 1.1.6** 线性规划问题 $\\eqref{eq 2},\\eqref{eq 3}$ 中$,$ 单纯形法搜索到的局部最小值即是全局最小值.\n",
    "\n",
    "从上述的讨论中$,$ 我们也发现单纯形法这种下降算法中判断其下降以及终止的标准便是 $f(\\boldsymbol{x}_{n+1}^j)-f(\\boldsymbol{x}_n),$ 我们称其为判别数$,$ 记为 $\\sigma_j$.\n",
    "\n",
    "综上$,$ 我们总结出单纯形法的终止准则:\n",
    "![rat](fig/fig9_终止准则.png)"
   ]
  },
  {
   "cell_type": "markdown",
   "metadata": {},
   "source": [
    "## Reference\n",
    "<div id=\"refer-anchor-1\"><itag>[1]<a href=\"https://blog.csdn.net/weixin_45695491/article/details/120333436?spm=1001.2101.3001.6650.1&utm_medium=distribute.pc_relevant.none-task-blog-2%7Edefault%7ECTRLIST%7ERate-1-120333436-blog-105620784.pc_relevant_multi_platform_whitelistv1&depth_1-utm_source=distribute.pc_relevant.none-task-blog-2%7Edefault%7ECTRLIST%7ERate-1-120333436-blog-105620784.pc_relevant_multi_platform_whitelistv1&utm_relevant_index=2\">博主PeterIsCoding: 线性规划单纯形法python实现与代码详细解读</a></itag></div>"
   ]
  },
  {
   "cell_type": "code",
   "execution_count": null,
   "metadata": {},
   "outputs": [],
   "source": []
  }
 ],
 "metadata": {
  "kernelspec": {
   "display_name": "Python 3",
   "language": "python",
   "name": "python3"
  },
  "language_info": {
   "codemirror_mode": {
    "name": "ipython",
    "version": 3
   },
   "file_extension": ".py",
   "mimetype": "text/x-python",
   "name": "python",
   "nbconvert_exporter": "python",
   "pygments_lexer": "ipython3",
   "version": "3.6.5"
  },
  "latex_envs": {
   "LaTeX_envs_menu_present": true,
   "autoclose": false,
   "autocomplete": true,
   "bibliofile": "biblio.bib",
   "cite_by": "apalike",
   "current_citInitial": 1,
   "eqLabelWithNumbers": true,
   "eqNumInitial": 1,
   "hotkeys": {
    "equation": "Ctrl-E",
    "itemize": "Ctrl-I"
   },
   "labels_anchors": false,
   "latex_user_defs": false,
   "report_style_numbering": false,
   "user_envs_cfg": false
  }
 },
 "nbformat": 4,
 "nbformat_minor": 5
}
