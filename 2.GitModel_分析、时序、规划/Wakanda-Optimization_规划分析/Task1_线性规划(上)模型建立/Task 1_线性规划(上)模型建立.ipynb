{
 "cells": [
  {
   "cell_type": "markdown",
   "metadata": {},
   "source": [
    "# 1 问题引导的线性规划知识"
   ]
  },
  {
   "cell_type": "markdown",
   "metadata": {},
   "source": [
    "## 1.1 题目简介：\n",
    " (源自2000年国赛B题$,$有改动)\n",
    "\n",
    "![rat](fig/fig4.png)\n",
    "\n",
    "### ❓ 问题背景\n",
    "如上图所示$,$要铺设一条 $A_1\\rightarrow A_2\\rightarrow \\cdots\\rightarrow A_{15}$ 的输送天然气的主管道$,$经筛选后可以生产这种主管道钢管的钢厂有 $S_1,S_2,\\cdots,S_7$。图中<!--粗线表示铁路$,$-->单细线表示公路$,$双细线表示要铺设的管道 (假设沿管道或者原来有公路$,$或者建有施工公路)$,$圆圈表示火车站$,$每段<!--铁路、-->公路和管道旁的阿拉伯数字表示里程 (单位km).\n",
    "\n",
    "为方便计$,1$km主管道钢管称为1单位钢管。\n",
    "\n",
    "\n",
    "\n",
    "钢厂 $S_i$ 在指定期限内能生产该钢管的最大数量为 $s_i$ 个单位$,$钢管出厂销价 $1$ 单位钢管为 $p_i$ 万元$,$如下表：\n",
    "\n",
    "$i$|$1$|$2$|$3$|$4$|$5$|$6$|$7$\n",
    ":--:|:--:|:--:|:--:|:--:|:--:|:--:|:--:\n",
    "$s_i$|$800$|$800$|$1000$|$2000$|$2000$|$2000$|$3000$\n",
    "$p_i$|$160$|$155$|$155$|$160$|$155$|$150$|$160$\n",
    "\n",
    "<!-- 1单位钢管的铁路运价如下表：\n",
    "里程 (km)\t|≤300\t|301～350\t|351～400\t|401～450\t|451～500\n",
    "-|-|-|-|-|-\n",
    "运价 (万元)\t|20\t|23\t|26\t|29\t|32\n",
    "里程 (km)\t|501～600\t|601～700\t|701～800\t|801～900\t|901～1000\n",
    "-|-|-|-|-|-\n",
    "运价 (万元)\t|37\t|44\t|50\t|55\t|60\n",
    "1000km以上每增加1至100km运价增加5万元 -->\n",
    "\n",
    "\n",
    "公路运输费用为1单位钢管每公里 $0.1$ 万元 (不足整公里部分按整公里计算)。\n",
    "\n",
    "钢管可由铁路$,$公路运往铺设地点 (不只是运到点 $A_1,A_2,\\cdots,A_{15},$而是管道全线)$,$ 铺设费用为每公里 $0.1$ 万元.\n",
    "\n",
    "<mark>请制定一个主管道钢管的订购和运输计划$,$使总费用最小 (给出总费用).</mark>"
   ]
  },
  {
   "cell_type": "markdown",
   "metadata": {},
   "source": [
    "## 1.2 模型构建: 线性规划模型的引入\n",
    "\n",
    "### 1.2.1 遇到一道建模难题时$,$ 我们究竟要怎么处理$?$\n",
    "\n",
    "看到题目第一感觉怎么样$?$\n",
    "\n",
    "题目好乱$!$\n",
    "\n",
    "国赛下来问题约我等今日决战$,$ 如何对敌$?$ Don't be afraid$!$ 越是复杂的问题越要冷静分析$!$\n",
    "\n",
    "<center><b>理解问题复杂之处$,$作出简化$,$乃是我们面对建模难题的第一要务.</b></center>\n",
    "    \n",
    "- **题目在讲什么:** 求订购以及运输的费用最小方案.\n",
    "- **题目难在哪里:** \n",
    "    1. **抽象之处**: 每相邻两个节点中间的管道是必须只能由一家钢厂供应钢管铺设$,$ 还是可以连续地切分成几块由不同钢厂供应钢管铺设$?$\n",
    "\n",
    "    2. **复杂之处**: 钢厂$,$ 节点$,$ 路线选择众多.\n",
    "\n",
    "我们思考一下$,$ 解决抽象之处的关键是在于搞清楚钢管可以 (但非必须) 怎么运输$,$ 题目告诉我们$,$ 钢管可以经由铁路$,$ 公路运输到整条管道上的**任意一点**铺设$,$ 那么我们可以**合理认为$,$ 钢管运输到节点后$,$ 沿着节点左右连续延伸着边运输边铺设,** 即整条管道是由一段段不同钢厂供应的钢管组成的$,$ 只是运输需要经过节点 $A_i(i=1,2,\\cdots,15)$. 然而$,$ 这么一个简单的机制处理起来可没有想象中的那么简单$,$ 这便是第二个复杂之处的影响: 节点$,$ 钢厂$,$ 路线五花八门$,$ 选择一多起来$,$ 组合的数目便成对增长$,$ 大幅提升求解难度. \n",
    "\n",
    "那怎么办$?$ 摆烂呗$!$ \n",
    "\n",
    "欸$,$ 还真可以摆烂$,$ 题目既然复杂到一下子想不出怎么做$,$ 我们可以手动调节难度呀$,$ 题目复杂之处在于三多: 节点多$,$ 钢厂多$,$ 路线多$,$ 那我们不妨就先简化到最简单的三少情况: 节点少$,$ 钢厂少$,$ 路线少$,$ 解决了简化版的问题之后再慢慢地还原复杂度.\n",
    "\n",
    "### 1.2.2 简化问题后的优化模型建立\n",
    "承上$,$ 这里我们截取整块区域的一小部分$,$ 仅含两个钢厂 $S_3,S_4$ (钢厂少) 以及三个节点 $A_9,A_{10},$ (节点少) 将铁路视为公路后选取了最短的运输路线 (路线选择少) $,$ 并且做了一些~~适合讲解~~的必要性数值改动 (咳咳)$,$ 从而将问题简化为下图\n",
    "\n",
    "![rat](fig/fig3.jpg) \n",
    "\n",
    "其中$,$ 订购上限以及费用如下表\n",
    "\n",
    "$i$|3|4\n",
    ":--:|:--:|:--:\n",
    "$s_i$|800|1600\n",
    "$p_i$|155|160\n",
    "\n",
    "题目需要的是$,$ <u>总费用最小</u>$,$ 而总费用由订购以及运输组成$,$ 我们首先明确自己求的是什么: __建立优化模型第1.1步——目标函数的确定.__\n",
    "\n",
    "令 $W_{total}$ 表示总费用$, W_{order},W_{trans}$ 分别表示订购与运输费用$,$ 那么我们的目标即是求出\n",
    " \n",
    "<center>$\\min W_{total}=\\min \\left (W_{order}+W_{trans}\\right),$\n",
    "    \n",
    "好$,$ 停停$,$ 话是这么说$,$ 我哪知道 $W_{order},W_{trans}$ 怎么算$?$ 换句话说$, W_{order},W_{trans}$ 的函数关系可还没给$,$ 由什么来当自变量也还不知道咧!\n",
    "    \n",
    "这就来到__建立优化模型第1.2步——决策变量的确定.__ 那么我们就需要注意到题目中是如何计算费用的了.\n",
    "\n",
    "事实上看完题目我们大概就会清楚$,$ 所谓的订购计划就是从哪家钢厂订购多少钢管$,$ 由于钢管按单位长度计算费用$,$ 那么 $W_{order}$ 便仅由在钢厂 $S_3,S_4$ 订购的钢管单位 $x_3,x_4$ 决定$;$ 其次是运输费用如何确定: 题目告诉我们$,$ 钢管可以经由公路运输到整条管道上的**任意一点**铺设$,$ 那么我们可以**合理认为$,$ 钢管运输到节点后$,$ 沿着节点左右连续延伸着边运输边铺设.** 从而$,$ 运输费用 (整合上铺设费用) 也仅与 $x_3,x_4$ 有关$,$ 代入数据可得到目标函数关于决策变量的解析式\n",
    "\n",
    "\n",
    "\\begin{align}\n",
    "W_{order}&=155x_3+160x_4,\\\\\n",
    "W_{trans}&= (73.2+0.1) x_3+ (93+0.1) x_4\n",
    "\\end{align}\n",
    "\n",
    "将上面的式子，带入目标函数得\n",
    "<center>$\\min W_{total}=228.2x_3+253.1x_4.$\n",
    "\n",
    "另外的$,$ 心细的同学应该在这里会发现一些端倪: 自变量\"们\"是蕴含内在关系的$!$ 这会影响我们自变量的取值范围$,$ 因此我们还需要做**建立优化模型第1.3步——约束关系的确定.** \n",
    "\n",
    "首先我们很容易发现$,$ 从两家订购的钢管单位 $x_3,x_4$ 应该要等于 $A_9$ 至 $A_{10}$ 的管道长度$,$ 则\n",
    "\n",
    "$$x_3+x_4= 2000,$$\n",
    "\n",
    "再从题目中我们知道每家钢厂都有订购上限 $s_i,$ 即\n",
    "\n",
    "$$x_3\\leqslant s_3,x_4\\leqslant s_4,$$\n",
    "\n",
    "从而我们得到了完整的优化模型\n",
    "\n",
    "$$\\min 228.2x_3+253.1x_4$$\n",
    "$$s.t. \\begin{cases}\n",
    "x_3+x_4=2000,\\\\\n",
    "0\\leqslant x_3\\leqslant 1000,\\\\\n",
    "0\\leqslant x_4\\leqslant 1600,\n",
    "\\end{cases}\n",
    "$$\n",
    "    \n",
    "不看不知道$,$ 一看吓一跳$,$ 这不就是我们高中所学过的线性规划嘛$!$ 解决它不过是有手就行的事$,$ 我们画出 $x_3,x_4$ 的可行域$,$ \n",
    "\n",
    "<img src=\"fig/fig5_可行域.png\">\n",
    "\n",
    "\n",
    "   "
   ]
  },
  {
   "cell_type": "markdown",
   "metadata": {},
   "source": [
    "图解法告诉我们：\n",
    "1. 该优化问题的可行域为一线段，即图中红色部分。我们的目标就是找到**当目标函数与红色线段有交点时，取值最小的点**；\n",
    "2. 显然取值最小的点在$ (1000,1000) $ 处取到，即最优解在 $ (1000,1000) $ 处取得；\n",
    "3. 将 $ (1000,1000) $ 代入目标函数，得最小费用为 $481400$ 万元.\n",
    "\n",
    "下面我们使用Scipy的优化工具，来尝试解决这一简单的问题，并与我们图解法的结果做比较."
   ]
  },
  {
   "cell_type": "code",
   "execution_count": 30,
   "metadata": {
    "ExecuteTime": {
     "end_time": "2022-08-08T12:17:53.991873Z",
     "start_time": "2022-08-08T12:17:53.334055Z"
    }
   },
   "outputs": [],
   "source": [
    "import numpy as np\n",
    "from scipy.optimize import minimize"
   ]
  },
  {
   "cell_type": "code",
   "execution_count": 31,
   "metadata": {
    "ExecuteTime": {
     "end_time": "2022-08-08T12:17:54.103202Z",
     "start_time": "2022-08-08T12:17:53.993870Z"
    }
   },
   "outputs": [
    {
     "name": "stdout",
     "output_type": "stream",
     "text": [
      "最优值： 481299.9999999999\n",
      "最优解： [1000. 1000.]\n"
     ]
    }
   ],
   "source": [
    "fun = lambda x : (228.2 * x[0]) + (253.1 * x[1]) # 目标函数\n",
    "\n",
    "cons = ({'type': 'eq', 'fun': lambda x: x[0] + x[1] - 2000}, # 等式约束，x0+x1-2000 = 0\n",
    "        {'type': 'ineq', 'fun': lambda x: x[0]}, # 不等式约束 x0 >=0 \n",
    "        {'type': 'ineq', 'fun': lambda x: x[1]},\n",
    "        {'type': 'ineq', 'fun': lambda x: 1000 - x[0]}, # 1600-x0 >= 0\n",
    "        {'type': 'ineq', 'fun': lambda x: 1600 - x[1]}\n",
    "       )\n",
    "\n",
    "x0 = np.array((1.0, 1.0)) # 设置初始值(随机设置即可)\n",
    "\n",
    "res = minimize(fun, x0, method='SLSQP', constraints=cons) # 调用最小值模块\n",
    "print(\"最优值：\", res.fun)\n",
    "print(\"最优解：\", res.x)"
   ]
  },
  {
   "cell_type": "markdown",
   "metadata": {},
   "source": [
    "### 1.2.3 逐步还原问题的复杂度——线性规划模型的建立\n",
    "毕竟不是阿Q$,$ 解决了最简单的Boss之后我们就要开始调整难度了$,$ 从上节我们其实也发现了$,$ 这个问题的目标函数$,$ 约束条件$,$ 都是**线性**的$,$ 这样的优化模型我们称之为**线性规划模型**$,$ 其一般形式如下\n",
    "\n",
    "$$\\min z (\\boldsymbol{x}) =c_1x_1+c_2x_2+\\cdots+c_nx_n,$$\n",
    "\n",
    "$$s.t.\\begin{cases}\n",
    "a_{11}x_1+a_{12}x_2+\\cdots+a_{1n}x_n\\leqslant b_1,\\\\\n",
    "a_{21}x_1+a_{22}x_2+\\cdots+a_{2n}x_n\\leqslant b_2,\\\\\n",
    "\\vdots\\\\\n",
    "a_{k1}x_1+a_{k2}x_2+\\cdots+a_{kn}x_n\\leqslant b_k,\\\\\n",
    "a_{k+1,1}x_1+a_{k+1,2}x_2+\\cdots+a_{k+1,n}x_n= b_{k+1},\\\\\n",
    "a_{k+2,1}x_1+a_{k+2,2}x_2+\\cdots+a_{k+2,n}x_n=b_{k+2},\\\\\n",
    "\\vdots\\\\\n",
    "a_{k+l,1}x_1+a_{k+l,2}x_2+\\cdots+a_{k+l,n}x_n=b_{k+l},\\\\\n",
    "x_i\\geqslant 0,i=1,2,\\cdots,n\n",
    "\\end{cases}$$\n",
    "\n",
    "其中 $\\boldsymbol{x}= (x_1,x_2,\\cdots,x_n) $ 为 $n$ 个决策变量 (**取值范围是连续的**) $,$ 含有 $k$ 条线性的不等式约束以及 $l$ 条线性的等式约束$,x_i,b_j$ 皆为**非负数**.<!--而我们会注意到上节的线性规划模型含有除了 $x_i\\geqslant 0$ 的不等式约束$,$ 我们通常会采用增加**松弛变量**的方式把其变为等式约束\n",
    "$$a_{i1}x_1+a_{i2}x_2+\\cdots+a_{in}x_n\\leqslant b_i\\Leftrightarrow a_{i1}x_1+a_{i2}x_2+\\cdots+a_{in}x_n+s_i=b_i,s_i\\geqslant 0.$$-->\n",
    "\n",
    "那变量的个数一旦大于两个$,$ 我们就没办法用图解法求解了$,$ 这个时候怎么办呢$?$ 别着急$,$ 一般的线性规划模型的求解方式早已成熟$,$ 我们可以直接使用各种软件以及代码进行求解$,$ 在下节讲解原理之前$,$ 我们不妨先把求解的方式当成一个黑盒子来看待——仅代入数据求解$,$ 暂不探索其中奥妙.\n",
    "\n",
    "#### 第一步: 简单增加节点数\n",
    "回到问题来$,$ 我们现在需要从上节中最简单的“三少” (厂少$,$ 节点少$,$ 路线少) 情形慢慢还原至题目原本的“三多” (厂多$,$ 节点多$,$ 路线多) 情形了$,$ 先来看看两钢厂三节点的情况\n",
    "\n",
    "![rat](fig/fig2.jpg)\n",
    "\n",
    "该情形与上节的情形本质的不同便是我们需要考虑 $S_3,S_4$ 对中间节点 $A_{10}$ 的运输计划$,$ $S_3,S_4$ 分别该往 $A_{10}$ 运输多少$,$ 运输后是往左边铺设还是右边铺设亦或两边一起铺设都是我们需要考虑的$,$ 因此对于三节点的情形$,$ 我们需要考虑第 $i$ 个钢厂对中间节点 $A_{10}$ 运输钢管后从该节点出发$,$ 左边铺设的钢管量 $z_{i,10-}$ 以及右边铺设的钢管量 $z_{i,10+}$. 这里的正（负）号表示从节点 $A_{10}$的左边（右边）开始铺管。\n",
    "\n",
    "<!--并且从实际出发$,$ 我们合理猜测两家钢厂不能同时对一个节点的一个方向进行铺设$,$ 即 $z_{3,10-},z_{4,10-}$ 是互斥的$,$ 必须有一个为 $0$ ($z_{3,10+},z_{4,10+}$同理) . 从而$$\\min\\{z_{3,10+},z_{4,10+}\\}=0,$$$$\\min\\{z_{3,10-},z_{4,10-}\\}=0,$$-->\n",
    "而同样的$,$ 我们也可以引入 $S_3$ 运输至 $A_9$ 往右边铺设的钢管长度 $z_{3,9+}$ 以及 $S_4$ 运输至 $A_{11}$ 往左边铺设的钢管长度 $z_{4,11-}$ (<mark>**思考一下**: 为什么不考虑 $z_{3,11-},z_{4,9+}$</mark>)  从而替代掉整体的订购钢管长度 $x_3,x_4,$ 那么新的优化模型即为\n",
    "\n",
    "$$\\min W_{order}+W_{trans}$$\n",
    "$$s.t.\\begin{cases}\n",
    "x_3=z_{3,9+}+z_{3,10+}+z_{3,10-},\\\\\n",
    "x_4=z_{4,10+}+z_{4,10-}+z_{4,11-},\\\\\n",
    "x_i\\leqslant s_i,i=3,4,\\\\\n",
    "x_3+x_4=780,\\\\\n",
    "z_{3,9+}\\geqslant 0,z_{4,11-}\\geqslant 0,\\\\\n",
    "z_{i,10+}\\geqslant 0,z_{i,10-}\\geqslant 0,i=3,4,\\\\\n",
    "\\end{cases}$$\n",
    "\n",
    "其中\n",
    "\n",
    "$$W_{order}=155x_3+160x_4,$$\n",
    "$$W_{trans}=73.3z_{3,9+}+101.1 (z_{3,10+}+z_{3,10-}) +93.1 (z_{4,10+}+z_{4,10-}) +78.9z_{4,11-}.$$\n",
    "\n",
    "尽管变量数多又怎么样呢$?$ 这仍然是一个线性规划模型$,$ 在成熟的求解方法面前$,$ 不过是一只纸糊的老虎.\n",
    "\n",
    "为了适应Scipy的表达语法，一共是八个变量，我们将其对应转化为一个长度为8的变量数组，我们先来将变量做一个对应\n",
    "\n",
    "| | 0     | 1     | 2             | 3              | 4              | 5              | 6              | 7              |\n",
    "| -------- | ----- | ----- | ------------- | -------------- | -------------- | -------------- | -------------- | -------------- |\n",
    "| 模型变量 | $x_3$ | $x_4$ | $z_{3,9^{+}}$ | $z_{3,10^{-}}$ | $z_{3,10^{-}}$ | $z_{4,10^{-}}$ | $z_{4,10^{+}}$ | $z_{4,11^{-}}$ |\n",
    "| 数组索引 | 0     | 1     | 2             | 3              | 4              | 5              | 6              | 7              |\n"
   ]
  },
  {
   "cell_type": "code",
   "execution_count": 13,
   "metadata": {
    "ExecuteTime": {
     "end_time": "2022-08-07T08:07:59.810195Z",
     "start_time": "2022-08-07T08:07:59.631623Z"
    }
   },
   "outputs": [
    {
     "data": {
      "text/plain": [
       "     fun: 178074.00000014115\n",
       "     jac: array([155.        , 160.        ,  73.30078125, 101.09960938,\n",
       "       101.09960938,  93.09960938,  93.09960938,  78.90039062])\n",
       " message: 'Optimization terminated successfully'\n",
       "    nfev: 99\n",
       "     nit: 11\n",
       "    njev: 11\n",
       "  status: 0\n",
       " success: True\n",
       "       x: array([ 7.80000000e+02,  9.27798283e-10,  7.80000000e+02,  1.58856217e-09,\n",
       "        1.58850488e-09,  1.51388813e-09,  1.51349067e-09, -2.09962536e-09])"
      ]
     },
     "execution_count": 13,
     "metadata": {},
     "output_type": "execute_result"
    }
   ],
   "source": [
    "fun = lambda x : (155 * x[0] +160 * x[1]) + (73.3 * x[2] + 101.1 * (x[3] + x[4]) + 93.1*(x[5] + x[6]) + 78.9*x[7])# 目标函数\n",
    "\n",
    "cons = ({'type': 'eq', 'fun': lambda x: x[0] - x[2] - x[3] - x[4]}, # 等式约束\n",
    "        {'type': 'eq', 'fun': lambda x: x[1] - x[5] - x[6] - x[7]},\n",
    "        {'type': 'eq', 'fun': lambda x: x[0] + x[1] - 780},\n",
    "        {'type': 'ineq', 'fun': lambda x: 1000 - x[0]}, # 不等式约束\n",
    "        {'type': 'ineq', 'fun': lambda x: 2000 - x[1]},\n",
    "        {'type': 'ineq', 'fun': lambda x: x[2]},\n",
    "        {'type': 'ineq', 'fun': lambda x: x[3]},\n",
    "        {'type': 'ineq', 'fun': lambda x: x[4]},\n",
    "        {'type': 'ineq', 'fun': lambda x: x[5]},\n",
    "        {'type': 'ineq', 'fun': lambda x: x[6]},\n",
    "        {'type': 'ineq', 'fun': lambda x: x[7]},\n",
    "       )\n",
    "\n",
    "x0 = np.array((1.0, 1.0, 1.0, 1.0, 1.0, 1.0, 1.0, 1.0)) # 设置初始值(随机设置即可)\n",
    "\n",
    "res = minimize(fun, x0, method='SLSQP', constraints=cons) # 调用最小值模块\n",
    "res"
   ]
  },
  {
   "cell_type": "markdown",
   "metadata": {},
   "source": [
    "解得最终的结果为\n",
    "$x_4 = 780, z_{3,9^+} = 780$，其他全为0."
   ]
  },
  {
   "cell_type": "markdown",
   "metadata": {},
   "source": [
    "#### 第二步: 完全还原“三多”\n",
    "\n",
    "我们发现$,$ 节点数增加后的情形不过是将决策变量细化为了每个节点的左右钢管铺设量 $z_{ij+},z_{ij-},$ 其目标函数以及约束条件还是线性的$,$ 同样的道理在钢厂数的调节上也适用$,$ 只不过是将上面具体的模型变成了抽象的废话而已$,$ 在考虑 $15$ 个节点以及 $7$ 个钢厂的情况下$,$ 我们的决策变量是第 $i$ 个钢厂 $S_i$ 运输至第 $j$ 个节点 $A_j$ 后从该节点出发分别沿着左右方向铺设的钢管量 $z_{ij-},z_{ij+},i=1,2,\\cdots,7,j=1,2,\\cdots,15$ 其中起点终点有一边不需要铺设即 $z_{i1-}=z_{i,15+}=0,$ 约束条件仍然参照上文. 如图所示\n",
    "\n",
    "![rat](fig/fig4.png) \n",
    "\n",
    " 我们需要深入考虑的是$,$ 第 $i$ 个钢厂 $S_i$ 运输至第 $j$ 个节点 $A_j$ 的路线选择有限$,$ 因此也必定存在最短路径 $c'_{ij}$ 以及其最小运输费用 $0.1c_{ij}'=c_{ij},$ 指定最短路线进行运输即可$,$ 此处通过计算机有限次计算即可事先得到 $c_{ij}$ 的数据进行储存如下\n",
    " \n",
    "目标函数的解析式增广为\n",
    "$$W_{order}=\\sum\\limits_{i=1}^{7}\\left (p_i\\sum\\limits_{j=1}^{15} (z_{ij+}+z_{ij-}) \\right) ,W_{trans}=\\sum\\limits_{i=1}^7\\sum\\limits_{j=1}^{15}c_{ij} (z_{ij+}+z_{ij-}) ,$$\n",
    "完善所有节点数以及钢厂数之后的线性规划模型如下\n",
    "$$\\min \\sum\\limits_{i=1}^{7}\\left (p_i\\sum\\limits_{j=1}^{15} (z_{ij+}+z_{ij-}) \\right) +\\sum\\limits_{i=1}^7\\sum\\limits_{j=1}^{15}c_{ij} (z_{ij+}+z_{ij-}) $$\n",
    "$$s.t. \\begin{cases}\n",
    "\\sum\\limits_{j=1}^{15} (z_{ij+}+z_{ij-}) \\leqslant s_i,i=1,2,\\cdots,15,\\\\\n",
    "\\sum\\limits_{i=1}^7\\sum\\limits_{j=1}^{15} (z_{ij+}+z_{ij-}) =L,\\\\\n",
    "z_{ij+}\\geqslant 0,z_{ij-}\\geqslant 0,i=1,2,\\cdots,7,j=1,2,\\cdots,15\\\\\n",
    "z_{i1-}=z_{i,15+}=0,i=1,2,\\cdots,15\n",
    "\\end{cases}\n",
    "$$\n",
    "其中$,p_{i}$ 是 $S_i$ 的钢管单位订购价$,s_i$ 是 $S_i$ 的订购上限$,c_{ij}$ 是 $S_i$ 到 $A_j$ 的公路最短路线费用$,L$ 是管道总长$,$ **皆为常数**. 从结构上来看$,$ 尽管它的决策变量与约束条件都非常多 (光是决策变量就有 $15\\times 7=105$ 个) $,$ 本质上还是一个线性规划问题$,$ 在计算出 $c_{ij}$ 后即可实现其求解.\n",
    "\n",
    "<h3><mark style=\"background-color:#FBE251\">🎯作业一：请你仿照上面模型二的代码，尝试求解上述模型？</mark></h3>\n",
    "\n"
   ]
  },
  {
   "cell_type": "code",
   "execution_count": null,
   "metadata": {},
   "outputs": [],
   "source": [
    "# 请写下你的代码\n",
    "\n"
   ]
  },
  {
   "cell_type": "markdown",
   "metadata": {},
   "source": [
    "### 1.2.4 使用Google ORTools求解线性规划模型\n",
    "事实上，我们在求解线性规划时，Scipy已经足够用了。但为了后续的学习平滑性，我们在此先介绍Google ORTools优化求解器的安装与简单实用，让大家提前熟悉.\n",
    "[请点击此处，阅读如何安装Google ORTools.](https://kgakmh4ktc.feishu.cn/docx/doxcnF2t6HNgECgZPuL1lVVZNAb)\n",
    "\n",
    "对于第一个优化模型\n",
    "\n",
    "$$\\min 228.2x_3+253.1x_4$$\n",
    "$$s.t. \\begin{cases}\n",
    "x_3+x_4=2000,\\\\\n",
    "0\\leqslant x_3\\leqslant 1000,\\\\\n",
    "0\\leqslant x_4\\leqslant 1600,\n",
    "\\end{cases}\n",
    "$$\n",
    "\n",
    "我们已经介绍过Scipy优化模块的求解方法，接下来我们来尝试使用Google ORTools进行求解.要解决线性规划问题，你的求解程序应该包括：\n",
    "\n",
    "1. 导入线性求解器包装器 \n",
    "2. 声明 LP 求解器，  \n",
    "3. 定义变量，\n",
    "4. 定义约束，\n",
    "5. 定义目标，\n",
    "6. 调用 LP 求解器\n",
    "7. 输出解决方案\n"
   ]
  },
  {
   "cell_type": "code",
   "execution_count": 5,
   "metadata": {
    "ExecuteTime": {
     "end_time": "2022-08-08T10:54:49.317383Z",
     "start_time": "2022-08-08T10:54:49.300426Z"
    }
   },
   "outputs": [],
   "source": [
    "# 导入线性求解器，线性和整数求解的API都在其中\n",
    "from ortools.linear_solver import pywraplp"
   ]
  },
  {
   "cell_type": "code",
   "execution_count": 16,
   "metadata": {
    "ExecuteTime": {
     "end_time": "2022-08-08T10:59:32.710992Z",
     "start_time": "2022-08-08T10:59:32.694036Z"
    }
   },
   "outputs": [],
   "source": [
    "# 声明求解器\n",
    "solver = pywraplp.Solver.CreateSolver('GLOP')"
   ]
  },
  {
   "cell_type": "code",
   "execution_count": 17,
   "metadata": {
    "ExecuteTime": {
     "end_time": "2022-08-08T10:59:32.993291Z",
     "start_time": "2022-08-08T10:59:32.982277Z"
    }
   },
   "outputs": [
    {
     "name": "stdout",
     "output_type": "stream",
     "text": [
      "变量个数 = 2\n"
     ]
    }
   ],
   "source": [
    "# 创建变量 \n",
    "x3 = solver.NumVar(0, 1000, 'x3') \n",
    "x4 = solver.NumVar(0, 1600, 'x4')\n",
    "\n",
    "print('变量个数 =', solver.NumVariables())"
   ]
  },
  {
   "cell_type": "markdown",
   "metadata": {},
   "source": [
    "`NumVar`说明该变量是连续型变量，前面两个参数分别是该变量取值的上下界.如果没有上界的话设置为`solver.infinity()`. "
   ]
  },
  {
   "cell_type": "code",
   "execution_count": 22,
   "metadata": {
    "ExecuteTime": {
     "end_time": "2022-08-08T10:59:41.931437Z",
     "start_time": "2022-08-08T10:59:41.911522Z"
    }
   },
   "outputs": [
    {
     "name": "stdout",
     "output_type": "stream",
     "text": [
      "约束个数 = 1\n"
     ]
    }
   ],
   "source": [
    "# 添加约束\n",
    "# Constraint 0: x3 + x4 == 2000.\n",
    "solver.Add(x3 + x4 == 2000)\n",
    "print('约束个数 =', solver.NumConstraints())"
   ]
  },
  {
   "cell_type": "code",
   "execution_count": 23,
   "metadata": {
    "ExecuteTime": {
     "end_time": "2022-08-08T10:59:42.621673Z",
     "start_time": "2022-08-08T10:59:42.612665Z"
    }
   },
   "outputs": [],
   "source": [
    "# 定义目标函数\n",
    "solver.Minimize(228.2 * x3 + 253.1 * x4)"
   ]
  },
  {
   "cell_type": "code",
   "execution_count": 24,
   "metadata": {
    "ExecuteTime": {
     "end_time": "2022-08-08T10:59:42.934134Z",
     "start_time": "2022-08-08T10:59:42.923070Z"
    }
   },
   "outputs": [],
   "source": [
    "# 调用求解器\n",
    "status = solver.Solve()"
   ]
  },
  {
   "cell_type": "code",
   "execution_count": 28,
   "metadata": {
    "ExecuteTime": {
     "end_time": "2022-08-08T12:02:36.596237Z",
     "start_time": "2022-08-08T12:02:36.577286Z"
    }
   },
   "outputs": [
    {
     "name": "stdout",
     "output_type": "stream",
     "text": [
      "Solution:\n",
      "最优值 = 481300.0\n",
      "x3 1000.0\n",
      "x4 1000.0\n"
     ]
    }
   ],
   "source": [
    "if status == pywraplp.Solver.OPTIMAL:\n",
    "    print('最优值 =', solver.Objective().Value())\n",
    "    print('x3', x3.solution_value())\n",
    "    print('x4', x4.solution_value())\n",
    "else:\n",
    "    print('The problem does not have an optimal solution.')"
   ]
  },
  {
   "cell_type": "markdown",
   "metadata": {},
   "source": [
    "ORTools的语法风格很贴合模型的建立：\n",
    "1. 首先是确立决策变量，你可以根据自己模型的设置给变量设置别名，避免了多变量的情况下还需要列表格对应模型变量；\n",
    "2. 约束条件的书写与数学表达式完全一致，只要你可以建模，那么你就可以求解；\n",
    "3. 后续还提供了很多场景的应用，满足多场景的优化需求；\n",
    "总而言之，ORTools对初学者非常友好，这也是为什么我们选择它来进行优化求解的原因！"
   ]
  },
  {
   "cell_type": "markdown",
   "metadata": {},
   "source": [
    "<h3><mark style=\"background-color:#FBE251\">🎯作业二：请你仿照上面代码，尝试求解以下模型？</mark></h3>\n",
    "\n",
    "$$\\min W_{order}+W_{trans}$$\n",
    "$$s.t.\\begin{cases}\n",
    "x_3=z_{3,9+}+z_{3,10+}+z_{3,10-},\\\\\n",
    "x_4=z_{4,10+}+z_{4,10-}+z_{4,11-},\\\\\n",
    "x_i\\leqslant s_i,i=3,4,\\\\\n",
    "x_3+x_4=780,\\\\\n",
    "z_{3,9+}\\geqslant 0,z_{4,11-}\\geqslant 0,\\\\\n",
    "z_{i,10+}\\geqslant 0,z_{i,10-}\\geqslant 0,i=3,4,\\\\\n",
    "\\end{cases}$$\n",
    "其中\n",
    "$$W_{order}=155x_3+160x_4,$$\n",
    "$$W_{trans}=73.3z_{3,9+}+101.1 (z_{3,10+}+z_{3,10-}) +93.1 (z_{4,10+}+z_{4,10-}) +78.9z_{4,11-}.$$"
   ]
  },
  {
   "cell_type": "code",
   "execution_count": null,
   "metadata": {},
   "outputs": [],
   "source": [
    "# 请写下你的代码\n",
    "\n"
   ]
  }
 ],
 "metadata": {
  "kernelspec": {
   "display_name": "Python 3",
   "language": "python",
   "name": "python3"
  },
  "language_info": {
   "codemirror_mode": {
    "name": "ipython",
    "version": 3
   },
   "file_extension": ".py",
   "mimetype": "text/x-python",
   "name": "python",
   "nbconvert_exporter": "python",
   "pygments_lexer": "ipython3",
   "version": "3.6.5"
  },
  "latex_envs": {
   "LaTeX_envs_menu_present": true,
   "autoclose": false,
   "autocomplete": true,
   "bibliofile": "biblio.bib",
   "cite_by": "apalike",
   "current_citInitial": 1,
   "eqLabelWithNumbers": true,
   "eqNumInitial": 1,
   "hotkeys": {
    "equation": "Ctrl-E",
    "itemize": "Ctrl-I"
   },
   "labels_anchors": false,
   "latex_user_defs": false,
   "report_style_numbering": false,
   "user_envs_cfg": false
  }
 },
 "nbformat": 4,
 "nbformat_minor": 2
}
