{
 "cells": [
  {
   "cell_type": "markdown",
   "metadata": {},
   "source": [
    "# 4 问题引导的灵敏性分析"
   ]
  },
  {
   "cell_type": "markdown",
   "metadata": {},
   "source": [
    "## 4.1 题目简介：2000年国赛B题 Quadra Kill\n",
    "\n",
    "![rat](fig/fig4.1.png)\n",
    "\n",
    "如上图所示$,$要铺设一条 $A_1\\rightarrow A_2\\rightarrow \\cdots\\rightarrow A_{15}$ 的输送天然气的主管道$,$经筛选后可以生产这种主管道钢管的钢厂有 $S_1,S_2,\\cdots,S_7$。图中粗线表示铁路$,$单细线表示公路$,$双细线表示要铺设的管道(假设沿管道或者原来有公路$,$或者建有施工公路)$,$圆圈表示火车站$,$每段铁路、公路和管道旁的阿拉伯数字表示里程(单位km).\n",
    "\n",
    "为方便计$,1$ km 主管道钢管称为 $1$ 单位钢管.\n",
    "\n",
    "一个钢厂如果承担制造这种钢管$,$ 至少需要生产 $500$ 个单位.钢厂 $S_i$ 在指定期限内能生产该钢管的最大数量为 $s_i$ 个单位$,$钢管出厂销价 $1$ 单位钢管为 $p_i$ 万元$,$ 如下表：\n",
    "\n",
    "$i$|$1$|$2$|$3$|$4$|$5$|$6$|$7$\n",
    ":--:|:--:|:--:|:--:|:--:|:--:|:--:|:--:\n",
    "$s_i$|$800$|$800$|$1000$|$2000$|$2000$|$2000$|$3000$\n",
    "$p_i$|$160$|$155$|$155$|$160$|$155$|$150$|$160$\n",
    "$1$ 单位钢管的铁路运价如下表：\n",
    "\n",
    "里程(km)\t|$\\leqslant 300$\t|$301$~$350$\t|$351$~$400$\t|$401$~$450$\t|$451$~$500$\n",
    ":--:|:--:|:--:|:--:|:--:|:--:\n",
    "运价(万元)\t|$20$\t|$23$\t|$26$\t|$29$\t|$32$\n",
    "\n",
    "里程(km)\t|$501$～$600$\t|$601$～$700$\t|$701$～$800$\t|$801$～$900$\t|$901$～$1000$\n",
    ":--:|:--:|:--:|:--:|:--:|:--:\n",
    "运价(万元)\t|$37$\t|$44$\t|$50$\t|$55$\t|$60$\n",
    "\n",
    "$1000$ km以上每增加 $1$ 至 $100$ km 运价增加 $5$ 万元.\n",
    "\n",
    "公路运输费用为1单位钢管每公里 $0.1$ 万元 (不足整公里部分按整公里计算)$,$ 铺设费用为每公里 $0.1$ 万元.\n",
    "\n",
    "钢管可由铁路$,$公路运往铺设地点 (不只是运到点 $A_1,A_2,\\cdots,A_{15},$而是管道全线).\n",
    "\n",
    "**问题一(已解决):** 请制定一个主管道钢管的订购和运输计划$,$使总费用最小(给出总费用).\n",
    "\n",
    "**问题四:** 请就问题一的模型分析：哪个钢厂钢管的销价的变化对购运计划和总费用影响最大，哪个钢厂钢管的产量的上限的变化对购运计划和总费用的影响最大，并给出相应的数字结果."
   ]
  },
  {
   "cell_type": "markdown",
   "metadata": {},
   "source": [
    "## 4.2 灵敏性分析的引入\n",
    "\n",
    "### 4.2.1 如何探究参数 (钢管销价 $p_i$ 以及产量上线 $s_i$) 对结果的影响\n",
    "\n",
    "我们回顾 Task 3 中建立起来的完善的混合整数规划模型\n",
    "\n",
    "\\begin{align}\n",
    "&\\min \\sum\\limits_{i=1}^{7}\\left(p_i\\sum\\limits_{j=1}^{15}(z_{ij+}+z_{ij-})\\right)+\\sum\\limits_{i=1}^7\\sum\\limits_{j=1}^{15}c_{ij}(z_{ij+}+z_{ij-}),\\\\\n",
    "s.t. &\\begin{cases}\n",
    "500 y_i\\leqslant \\sum\\limits_{j=1}^{15}(z_{ij+}+z_{ij-}),i=1,2,\\cdots,15\\\\\n",
    "\\sum\\limits_{j=1}^{15}(z_{ij+}+z_{ij-})\\leqslant s_iy_i,i=1,2,\\cdots,15\\\\\n",
    "\\sum\\limits_{i=1}^7\\sum\\limits_{j=1}^{15}(z_{ij+}+z_{ij-})\\leqslant L\\\\\n",
    "z_{ij+}\\geqslant 0,z_{ij-}\\geqslant 0,i=1,2,\\cdots,7,j=1,2,\\cdots,15\\\\\n",
    "z_{i1-}=z_{i,15+}=0,i=1,2,\\cdots,15\\\\\n",
    "y_i=0,1,i=1,2,\\cdots,7\\\\\n",
    "\\end{cases}\n",
    "\\end{align}\n",
    "\n",
    "问题四希望我们分析的是 $p_i$ 以及 $s_i$ 变化对购运计划的影响并且量化相应结果$,$ 那么既然是探究变化$,p_i,s_i$ 就从固定的数值变成了变动的参数值$,$ 记购运计划的最小总成本为 $W_{total-min},$ 本质上我们便是在分析函数 $W_{total-min}(\\boldsymbol{p},\\boldsymbol{s}),$ 其中 $\\boldsymbol{p}=(p_1,p_2,\\cdots,p_7),\\boldsymbol{s}=(s_1,s_2,\\cdots,s_7)$.\n",
    "\n",
    "直接的想法并非那么容易实现: 尽管 $W_{total-min}$ 看似是 $p_i$ 的线性函数$,$ 但却嵌套了一个求最小值的操作$,$\n",
    "$$W_{total-min}(\\boldsymbol{p})=\\min \\sum\\limits_{i=1}^{7}\\left(p_i\\sum\\limits_{j=1}^{15}(z_{ij+}+z_{ij-})\\right)+\\sum\\limits_{i=1}^7\\sum\\limits_{j=1}^{15}c_{ij}(z_{ij+}+z_{ij-}),$$\n",
    "这使得函数形式表达起来非常麻烦$,$ 更别说出现在约束中的 $s_i$ 了$!$ 我们需要找到另外的捷径去分析 $\\boldsymbol{p},\\boldsymbol{s}$ 对 $W_{total-min}$ 的影响——既然分析的是变化的影响$,$ 我们用 $\\Delta W_{total-min},\\Delta \\boldsymbol{p},\\Delta \\boldsymbol{s}$ 来表示 $W_{total-min},\\boldsymbol{p},\\boldsymbol{s}$ 的变化量$,$ 这不就是变化率 $\\dfrac{\\Delta W_{total-min}}{\\Delta \\boldsymbol{p}},\\dfrac{\\Delta W_{total-min}}{\\Delta \\boldsymbol{s}}$ 吗$?$ 那么我们可以从两种方式入手:\n",
    "\n",
    "1. 求 $W_{total-min}$ 关于 $\\boldsymbol{p},\\boldsymbol{s}$ 的梯度$,$ 这依赖函数有简单明确的表达式$,$ 所以不适合解决问题四.\n",
    "\n",
    "2. 离散化: 不求函数的微分$,$ 而是将 $\\Delta \\boldsymbol{p},\\Delta \\boldsymbol{s}$ 看作一个非常小的常数$,$ 求差分 $\\Delta W_{total-min}$. \n",
    "\n",
    "方式 2 其实是我们非常熟悉的——物理实验中分析变化的常用手段控制变量法$,$ 分析单个变量 $p_i$ 或 $s_i$ 可以固定其他变量不变$,$ 只让分析的变量开始变动$,$ 如$,$ 限制其他参数不变$,$ 让 $p_5$ 以 $1$ 万元/单位为变动步长在 $140\\sim 165$ 上变动$,$ 接着求解出相应的 $W_{total-min}$ 后将数据整理在如下表格中:\n",
    "\n",
    "<mark style=\"color: white; background-color:yellow\"> <mark> **求解数据** </mark>\n",
    "\n",
    "相似的$,$ 我们可以求出其他参数对最优值 $W_{total-min}$ 的变化影响$,$ 再利用比值 $\\dfrac{\\Delta W_{total-min}}{\\Delta p_i},\\dfrac{\\Delta W_{total-min}}{\\Delta s_i}$ 消除量纲之间的影响来统一比较$,$ 此处列表如下:\n",
    "\n",
    "<mark style=\"color: white; background-color:yellow\"> <mark> **给出每个参数等间隔变化对 $W_{total-min}$差分数据** </mark>\n",
    "\n",
    "### 4.2.2 为什么要做这样的参数分析呢$?$\n",
    "\n",
    "对于赛题我们仅仅只是将其看作一道需要解决的数学题目$,$ 然而建模是需要贴近现实的$,$ 我们需要考虑的不仅仅是得出一个答案$,$ 还要做更完善的分析: 以该题为例$,$ 钢厂由于现实生活中不断在变动的供需情况$,$ 供应上限以及销价是不稳定的$,$ 抑或是在运输过程中还会产生其他的费用如钢管在运输途中的损耗$,$ 突发情况的支出$,$ 这些是无法估计的. 在这种不稳定的情况下$,$ 我们需要确保能分析出: 模型对什么因素的变动是敏感的$,$ 有多敏感$?$ 而模型在参数变动后会不会在结果上稳定 (与原结果偏离量是否大 $?$ 会不会出现特异的结果$?$)$?$ 这便是建模中不可或缺的一环——**(参数)灵敏性$,$ (模型)鲁棒性分析**.\n",
    "\n",
    "经过 4.2.1 求解之后$,$ 我们也可以从数据上挖掘出来一些有用的信息:\n",
    "\n",
    "<mark style=\"color: white; background-color:yellow\"> <mark> **4.2.1结果分析** </mark>"
   ]
  },
  {
   "cell_type": "markdown",
   "metadata": {},
   "source": [
    "## 4.3 后记与作业\n",
    "\n",
    "### 4.3.1 后记\n",
    "\n",
    "### 4.3.2 作业"
   ]
  },
  {
   "cell_type": "code",
   "execution_count": null,
   "metadata": {},
   "outputs": [],
   "source": []
  }
 ],
 "metadata": {
  "kernelspec": {
   "display_name": "Python 3",
   "language": "python",
   "name": "python3"
  },
  "language_info": {
   "codemirror_mode": {
    "name": "ipython",
    "version": 3
   },
   "file_extension": ".py",
   "mimetype": "text/x-python",
   "name": "python",
   "nbconvert_exporter": "python",
   "pygments_lexer": "ipython3",
   "version": "3.8.8"
  },
  "latex_envs": {
   "LaTeX_envs_menu_present": true,
   "autoclose": false,
   "autocomplete": true,
   "bibliofile": "biblio.bib",
   "cite_by": "apalike",
   "current_citInitial": 1,
   "eqLabelWithNumbers": true,
   "eqNumInitial": 1,
   "hotkeys": {
    "equation": "Ctrl-E",
    "itemize": "Ctrl-I"
   },
   "labels_anchors": false,
   "latex_user_defs": false,
   "report_style_numbering": false,
   "user_envs_cfg": false
  }
 },
 "nbformat": 4,
 "nbformat_minor": 2
}
