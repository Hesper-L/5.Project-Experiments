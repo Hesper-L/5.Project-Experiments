print("月末最低收盘价：", month_close['close'].min())
