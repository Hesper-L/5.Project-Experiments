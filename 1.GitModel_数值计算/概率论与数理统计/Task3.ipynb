{
 "cells": [
  {
   "cell_type": "markdown",
   "metadata": {},
   "source": [
    "### 10.数学建模综合案例分析：投资组合风险分析"
   ]
  },
  {
   "cell_type": "markdown",
   "metadata": {},
   "source": [
    "### 10.数学建模综合案例分析：投资组合风险分析"
   ]
  },
  {
   "cell_type": "markdown",
   "metadata": {},
   "source": [
    "<div class=\"alert alert-warning\" role=\"alert\">\n",
    "  <h3>📋任务</h3> \n",
    "</div>\n",
    "\n",
    "GitModel公司是一家专业的投资银行，志在帮助客户更好地管理资产。客户手头上有一笔100万的资金，希望将这笔钱投入股票市场进行投资理财，投资人看中了两个股票$A$、$B$，股票分析师通过对股票$A$、$B$的历史数据分析发现：股票$A$的平均收益近似服从$N(0.1,0.01)$，股票B的平均收益近似服从$N(0.3,0.04)$。现在客户希望通过分析得出投资股票$A$、$B$的最佳组合（在预期收益确定情况下最小风险时，需要投资$A$、$B$的份额）。\n",
    "\n",
    "分析：\n",
    "\n",
    "首先，我们先来分析投资组合的收益应该如何计算：设$A$、$B$的投资收益率为随机变量$X$、$Y$，因此$X～N(0.1,0.01)$，$Y～N(0.3,0.04)$。设$x_1$为投资A的份额，$y_1=1-x_1$为投资B的份额，因此投资组合的收益率为：$Z = x_1*X + y_1*Y$，投资组合的平均收益率为：$E(Z) = x_1*E(X) + y_1*E(Y)$。\n",
    "\n",
    "接下来，我们来分析投资组合的风险应该如何计算：何为风险，最简单来说就是收益的不确定性，如果收益是确定且固定的，就无所谓的风险可言。根据对风险的直观描述，我们可以定义风险为收益率的方差，因此：股票A的风险为$\\sigma_x^2 = 0.01$，股票B的风险为$\\sigma_y^2 = 0.04$,而投资组合的风险为\n",
    "$$\n",
    "\\begin{aligned}\n",
    "Var(Z) &= Var(x_1*X + y_1*Y)\\\\\n",
    "&=x_{1}^{2} \\operatorname{Var}(X)+y_{1}^{2} \\operatorname{Var}(Y)+2 x_{1}y_{1} \\operatorname{Cov}(X, Y)\n",
    "\\end{aligned}\n",
    "$$\n",
    "因此，最佳的投资组合应该是风险最小时的投资组合，即：\n",
    "$$\n",
    "\\begin{aligned}\n",
    "&min \\quad Var(Z) \\\\\n",
    "&= min \\quad x_{1}^{2} \\operatorname{Var}(X)+y_{1}^{2} \\operatorname{Var}(Y)+2 x_{1}y_{1} \\operatorname{Cov}(X, Y)\\\\\n",
    "&=\\frac{d(Var(Z))}{d(x_1)} = 0\n",
    "\\end{aligned}\n",
    "$$"
   ]
  },
  {
   "cell_type": "code",
   "execution_count": 23,
   "metadata": {},
   "outputs": [],
   "source": [
    "from sympy import *\n",
    "from scipy.stats import norm\n",
    "\n",
    "# 投资份额,它们的相关系数\n",
    "x = symbols('x')\n",
    "y = symbols('y')\n",
    "corr_xy = symbols('corr_xy')\n",
    "Cov_xy = symbols('Cov_xy')\n",
    "y = 1-x\n",
    "\n",
    "\n",
    "# 随机变量\n",
    "X = norm(loc=0.1,scale=0.1)\n",
    "Y = norm(loc=0.3,scale=0.2)\n",
    "Dx, Dy = X.var(), Y.var()"
   ]
  },
  {
   "cell_type": "code",
   "execution_count": 26,
   "metadata": {},
   "outputs": [],
   "source": [
    "## 请根据var_Z的定义写出相应的公式代码\n",
    "Cov_xy = corr_xy*sqrt(Dx*Dy)\n",
    "var_z = (x**2*Dx + y**2*Dy + 2*x*y*Cov_xy)\n",
    "\n",
    "# 计算最小风险的投资组合\n",
    "def min_risk_group(var_z,corr_xy):\n",
    "    # 求驻点\n",
    "    var_z_df1 = diff(var_z,x)\n",
    "    x_value = solve(var_z_df1)\n",
    "    # 二阶导在该点的值>0为极小值\n",
    "    var_z_df2 = diff(var_z_df1,x)\n",
    "    x_value2 = var_z_df2.evalf(subs={x:x_value[0]})\n",
    "    \n",
    "    if x_value2 < 0:\n",
    "        x_value.delete(x_value[0])\n",
    "    # 极小值的最小值者\n",
    "    var_z_min  = var_z.evalf(subs={x:x_value[0]})\n",
    "    return   x_value[0],var_z_min"
   ]
  },
  {
   "cell_type": "code",
   "execution_count": 27,
   "metadata": {},
   "outputs": [
    {
     "name": "stdout",
     "output_type": "stream",
     "text": [
      "因此，根据风险最小化原则，应该投资A股票：100w * 0.941176470588235, 而投资B股票：100w *0.0588235294117647\n"
     ]
    }
   ],
   "source": [
    "## 请根据相应的优化分析写出代码\n",
    "# 寻找最佳投资组合\n",
    "corr_xy = 0.4   # 假设corr_xy = 0.4\n",
    "\n",
    "x,var_z_min = min_risk_group(var_z,corr_xy)\n",
    "y = 1-x\n",
    "# 判断相关系数对方案份额分配有无实际意义\n",
    "if (x > 1)  or (x < 0):\n",
    "    print(\"当相关系数corr_xy为{:.2f}时，投资方案无意义。\".format(corr_xy))\n",
    "else:\n",
    "    print(\"因此，根据风险最小化原则，应该投资A股票：100w * {}, 而投资B股票：100w *{}\".format(x, y))"
   ]
  },
  {
   "cell_type": "markdown",
   "metadata": {},
   "source": [
    "因此，根据风险最小化原则，应该投资A股票$10w \\times 0.94$元，而投资B股票$10w \\times 0.06$元。\n",
    "<div class=\"alert alert-success\" role=\"alert\">\n",
    "  <h4 class=\"alert-heading\">Well done!</h4>\n",
    "  <p>恭喜你，完成了《动手学概率论》的学习，希望在日后的数模竞赛中，通过本课程的学习，你可以更加灵活分析不确定性世界，取得优异的成绩.</p>\n",
    "  <hr>\n",
    "</div>"
   ]
  }
 ],
 "metadata": {
  "kernelspec": {
   "display_name": "Python 3.8.5 ('base')",
   "language": "python",
   "name": "python3"
  },
  "language_info": {
   "codemirror_mode": {
    "name": "ipython",
    "version": 3
   },
   "file_extension": ".py",
   "mimetype": "text/x-python",
   "name": "python",
   "nbconvert_exporter": "python",
   "pygments_lexer": "ipython3",
   "version": "3.8.5"
  },
  "orig_nbformat": 4,
  "vscode": {
   "interpreter": {
    "hash": "ad2bdc8ecc057115af97d19610ffacc2b4e99fae6737bb82f5d7fb13d2f2c186"
   }
  }
 },
 "nbformat": 4,
 "nbformat_minor": 2
}
