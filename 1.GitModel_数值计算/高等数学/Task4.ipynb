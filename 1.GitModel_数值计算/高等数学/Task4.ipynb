{
 "cells": [
  {
   "cell_type": "markdown",
   "metadata": {},
   "source": [
    "## 数理统计专题"
   ]
  },
  {
   "cell_type": "code",
   "execution_count": null,
   "metadata": {},
   "outputs": [],
   "source": [
    "# 引入相关工具库\n",
    "import numpy as np \n",
    "import pandas as pd \n",
    "import matplotlib.pyplot as plt\n",
    "%matplotlib inline\n",
    "plt.style.use(\"ggplot\")\n",
    "import warnings \n",
    "warnings.filterwarnings(\"ignore\")\n",
    "plt.rcParams['font.sans-serif']=['SimHei','Songti SC','STFangsong']\n",
    "plt.rcParams['axes.unicode_minus'] = False  # 用来正常显示负号\n",
    "import seaborn as sns "
   ]
  },
  {
   "cell_type": "markdown",
   "metadata": {},
   "source": [
    "前面的概率论专题，我们已经详细地学习了概率论的相关知识，并且针对某些特定问题使用概率论进行建模。但是在概率论的建模中，我们往往假设随机变量的分布已知，但是这个假设在实际中时很难做到的。现在，我们使用投资组合风险分析来说明：在前面的案例中，我们假设A、B股票的收益率服从$N(0.1,0.01)$和$N(0.3,0.04)$，但是现实时市场上并不会告诉我们股票的收益分布是什么，我们能做的只有根据历史数据进行合理的猜测与估算，而不同的股票的收益率分布都不一样。那么统计学能做的就是对不同的股票合理估算和猜测相应的收益率的分布，找到最佳的参数，如正态分布的$\\mu$和$\\sigma^2$。不仅如此，统计学关心的不只有$\\mu$和$\\sigma^2$是多少，也会关心比如$\\mu$和$\\sigma^2$是否符合符合相关要求等等。\n",
    "\n",
    "使用一个更通俗的例子来说，由于概率论的建模，现在假设中国人的身高近似服从正态分布，那究竟这个正态分布中的$\\mu$和$\\sigma^2$的值是多少就是统计学做的事情，而这个工作也叫做参数估计，后面的内容会详细介绍。\n",
    "\n",
    "**一般认为，统计学是收集、分析、表述和解释数据的科学，统计学是一门处理数据的方法和技术的学科。**"
   ]
  },
  {
   "cell_type": "markdown",
   "metadata": {},
   "source": [
    "### 1.总体和样本"
   ]
  },
  {
   "cell_type": "markdown",
   "metadata": {},
   "source": [
    "在一个统计问题中, 我们把研究对象的全体称为**总体**， 构成总体的每个成员称为**个体**。对大多数实际问题, 总体中的个体是一些实在的人或物，如：假如我们想要研究中国人的身高情况，那么全体中国人构成该研究问题的总体，而每一个中国人就是构成该研究问题的个体。但是，在实际的操作中，我们只关心每个中国人的身高，并不关心每个中国人的年龄、性别等。因此，每个中国人的**数量指标**————身高就变成了个体，而全体中国人的所有身高也就构成了总体。因此总体和个体就是一堆数字，这堆数字有大有小，每个数字出现的可能性又不太一样，看似有某个规律。因此，我们使用一个概率分布描述和归纳总体是合适的且合理的，换句话来说：**总体就是一个概率分布，总体的数量指标就是服从该概率分布的一个随机变量**。因此，从总体中抽样与从某个分布中抽样的含义是一样的。\n",
    "\n",
    "举个例子：去银行排队办理业务，队伍中排了非常多的人，我们想要研究队伍中每个人的排队等待的时间情况。因此，这个问题的研究总体为队伍里排队的所有人，个体是每一个排队等待的人，我们想要关心的数量指标是排队的时间，有人排5min，有人排3.2min等等，因此队伍里排队的所有人的一个数量指标：等待时间构成了一个随机变量，假设这个随机变量服从参数为$\\lambda$的指数分布$Exp(\\lambda)$。但是分布中的参数$\\lambda$是未知的，$\\lambda$的大小决定了银行服务系统的质量，它直接影响了银行的声誉。\n",
    "\n",
    "本例中总体分布的类型是明确的, 是指数分布, 但是总体含有末知参数 $\\lambda$, 因此总体不是一个特定的泊松分布。 要确定最终的总体分布, 就是要确定符合具体某个队伍的 $\\lambda$， 这是统计学科的任务之一。\n",
    "\n",
    "**一般来说，总体分为：有限总体和无限总体, 大多数我们说的总体是无限总体**。"
   ]
  },
  {
   "cell_type": "markdown",
   "metadata": {},
   "source": [
    "由于总体是无限的，又或者说总体的个体数量太多，我们如果对每一个个体的数量指标都进行研究所花费的成本将是十分巨大的。为了了解总体的分布， 我们从总体中随机地抽取 $n$ 个个体， 记其指标值为 $x_{1}, x_{2}, \\cdots$, $x_{n}$, 则 $x_{1}, x_{2}, \\cdots, x_{n}$ 称为总体的一个样本， $n$ 称为样本容量， 或简称样本量， 样本中的个体称为样品。\n",
    "\n",
    "<div>\n",
    "<img src=\"./images/13.svg\" width=\"400\" align=\"middle\"/>\n",
    "</div>\n",
    "\n",
    "下面这段描述样本的概念是非常重要的，希望大家牢牢谨记！！！\n",
    "\n",
    "样本具有所谓的二重性：一方面, 由于样本是从总体中随机抽取的， 抽取前无法预知它们的数值， 因此， 样本是一个随机变量， 用大写字母 $X_{1}, X_{2}, \\cdots, X_{n}$ 表示；另一方面， 样本在抽取以后经观测就有确定的观测值， 因此， 样本又是一组数值， 此时用小写字母 $x_{1}, x_{2}, \\cdots, x_{n}$ 表示是合适的。 为了描述的简单，我们只用小写字母表示样本$x_{1}, x_{2}, \\cdots, x_{n}$，不管样本是随机变量还是具体的数值，都用小写字母表示。\n",
    "\n",
    "举个例子：某个肉类产品的规定净重为1kg，由于生产过程中具有随机性，不可能让所有实际生产的肉类品都是1kg，现在从同一批次生产的肉类产品随机抽取10份肉类品进行质量检查并称重，称重结果如下：\n",
    "$$\n",
    "\\begin{array}{llllllllll}\n",
    "0.98 & 0.99 & 0.95 & 1.01 & 1.04 & 0.96 & 0.96 & 1.03 & 0.98 & 1.00\n",
    "\\end{array}\n",
    "$$\n",
    "这是一个容量为 10 的样本的观测值，对应的总体为该厂生产的肉类产品的净重。"
   ]
  },
  {
   "cell_type": "markdown",
   "metadata": {},
   "source": [
    "从总体中抽取样本的方式多种多样，随心所欲，如：从大到小抽取、随机抽取等等。 为了能由样本对总体作出较可靠的推断, 就希望样本能很好地代表总体. 需要对抽样的方法提出一些要求,最常用的抽样方法就是“简单随机抽样”，简单随机抽样需要满足两个要求：\n",
    "   - 从总体中抽取的样本具有代表性：具有代表性要求总体中每一个个体都有同等机会被选入样本中，也就意味着样本中的每一个样品$x_i$与总体X有相同的分布，简称“同分布”。\n",
    "   - 从总体中抽取的样本具有独立性：具有独立性即要求样本中每一样品的取值不影响其他样品的取值， 也就意味着 $x_{1}, x_{2}, \\cdots, x_{n}$ 之间相互独立。\n",
    "\n",
    "总结起来：**在简单随机抽样这种抽样方法下，样本中的每一个样品$x_{1}, x_{2}, \\cdots, x_{n}$之间独立同分布，同分布于总体分布，简称：iid**。用简单随机抽样方法得到的样本称为简单随机样本，也简称样本。\n",
    "\n",
    "设总体 $X$ 具有分布函数 $F(x), x_{1}, x_{2}, \\cdots, x_{n}$ 为取自该总体的容量为 $n$ 的样本，则样本联合分布函数为\n",
    "$$\n",
    "F\\left(x_{1}, x_{2}, \\cdots, x_{n}\\right)=\\prod_{i=1}^{n} F\\left(x_{i}\\right) .\n",
    "$$\n",
    "这个公式在极大似然估计的时候会再次碰到，是一条十分重要的公式！\n",
    "\n",
    "有没有情况是不符合独立同分布的假设呢？其实很多情况下是不满足独立同分布的假设的，比如：时间序列数据，前后之间存在关联，因此不是相互独立的。"
   ]
  },
  {
   "cell_type": "markdown",
   "metadata": {},
   "source": [
    "### 2.经验分布函数与直方图"
   ]
  },
  {
   "cell_type": "markdown",
   "metadata": {},
   "source": [
    "（1）经验分布函数：\n",
    "\n",
    "统计学的一个重要核心就是使用样本信息估计总体信息，有的时候总体往往是未知的，我们只能通过多次试验的样本（即实际值）来推断总体。经验分布函数就是使用样本信息构造的分布函数近似未知的总体分布函数：\n",
    "\n",
    "设 $x_{1}, x_{2}, \\cdots, x_{n}$ 是取自总体分布函数为 $F(x)$ 的样本， 若将样本观测值由小到大进行排列， 记为 $x_{(1)}, x_{(2)}, \\cdots, x_{(n)}$, 则 $x_{(1)}, x_{(2)}, \\cdots, x_{(n)}$ 称为有序样本， 用有序样本定义如下函数\n",
    "$$\n",
    "F_{n}(x)= \\begin{cases}0, & \\text { 当 } x<x_{(1)}, \\\\ k / n, & \\text { 当 } x_{(k)} \\leqslant x<x_{(k+1)}, k=1,2, \\cdots, n-1, \\\\ 1, & \\text { 当 } x \\geqslant x_{(n)},\\end{cases}\n",
    "$$\n",
    "则 $F_{n}(x)$ 是一非减右连续函数， 且满足\n",
    "$$\n",
    "F_{n}(-\\infty)=0 \\text { 和 } F_{n}(\\infty)=1 .\n",
    "$$\n",
    "由此可见， $F_{n}(x)$ 是一个分布函数， 称 $F_{n}(x)$ 为该样本的经验分布函数。\n",
    "\n",
    "为什么样本信息可以用来推断总体呢？格纹利柯定理给我们指明了一个方向：\n",
    "\n",
    "设 $x_{1}, x_{2}, \\cdots, x_{n}$ 是取自总体分布函数为 $F(x)$ 的样本， $F_{n}(x)$ 是其经验分布函数， 当 $n \\rightarrow \\infty$ 时， 有\n",
    "$$\n",
    "P\\left(\\sup _{-\\infty<x<\\infty}\\left|F_{n}(x)-F(x)\\right| \\rightarrow 0\\right)=1 \n",
    "$$\n",
    "当 $n$ 相当大时，经验分布函数是总体分布函数 $F(x)$ 的一个良好的近似。 因此，在经典统计学中一切统计推断都是以样本为依据推断总体。"
   ]
  },
  {
   "cell_type": "markdown",
   "metadata": {},
   "source": [
    "例子：随机观察总体X, 得到一个容量为 10 的样本:\n",
    "$$\n",
    "3.2, \\quad 2.5, \\quad-2, \\quad 2.5, \\quad 0,\\quad 3,\\quad 2 ,\\quad 2.5, \\quad 2, \\quad 4\n",
    "$$\n",
    "求 $\\mathrm{X}$ 经验分布函数。\n",
    "\n",
    "解：首先，将样本排序 $-2<0<2=2<2.5=2.5=2.5<3<3.2<4$\n",
    "\n",
    "于是，根据公式可以得到经验分布函数：\n",
    "$$\n",
    "F_{10}(x)=\\left\\{\\begin{array}{cc}\n",
    "0, & x<-2 \\\\\n",
    "1 / 10, & -2 \\leq x<0 \\\\\n",
    "2 / 10, & 0 \\leq x<2 \\\\\n",
    "4 / 10, & 2 \\leq x<2.5 \\\\\n",
    "7 / 10, & 2.5 \\leq x<3 \\\\\n",
    "8 / 10, & 3 \\leq x<3.2 \\\\\n",
    "9 / 10, & 3.2 \\leq x<4 \\\\\n",
    "1, & x \\ge 4\n",
    "\\end{array},\\right.\n",
    "$$\n"
   ]
  },
  {
   "cell_type": "markdown",
   "metadata": {},
   "source": [
    "（2）直方图：频数直方图和频率直方图\n",
    "\n",
    "直方图是数值数据分布的精确图形表示， 这是一个连续变量（定量变量）的概率分布的估计，被卡尔·皮尔逊（Karl Pearson）首先引入。"
   ]
  },
  {
   "cell_type": "code",
   "execution_count": null,
   "metadata": {},
   "outputs": [],
   "source": [
    "# 频数直方图\n",
    "x_samples = np.random.randn(1000)\n",
    "plt.hist(x_samples, bins=10,color='blue',alpha=0.6)  # bins=10代表10根柱子\n",
    "plt.xlabel(\"x\")\n",
    "plt.ylabel(\"频数 n\")\n",
    "plt.title(\"频数直方图\")\n",
    "plt.show()"
   ]
  },
  {
   "cell_type": "code",
   "execution_count": null,
   "metadata": {},
   "outputs": [],
   "source": [
    "# 频率直方图\n",
    "x_samples = np.random.randn(1000)\n",
    "plt.hist(x_samples, bins=10,color='blue',alpha=0.6,density=True)  # bins=10代表10根柱子\n",
    "plt.xlabel(\"x\")\n",
    "plt.ylabel(\"频率 p\")\n",
    "plt.title(\"频率直方图\")\n",
    "plt.show()"
   ]
  },
  {
   "cell_type": "markdown",
   "metadata": {},
   "source": [
    "### 3.统计量与三大抽样分布"
   ]
  },
  {
   "cell_type": "markdown",
   "metadata": {},
   "source": [
    "（1）统计量：\n",
    "\n",
    "在统计学中，我们希望使用样本信息推断总体，而且样本也来源于总体，但是样本的信息较为分散，有时候还会显得杂乱无章。为了将这些信息分散的样本中有关总体的那部分信息汇集起来，从而反映总体的某些特征，需要对样本进行加工。前面的直方图就是一个很好的加工方式，但是直方图这样的图形化方式有一个致命的缺点就是无法数值化进行研究（例如比较两个总体某个特征的大小）。进行数值化最有效的方式就是构造关于样本的函数，函数是数值化最直接的办法，而且不同的关于样本的函数反映了总体的不同特征。统计量就是在这样的背景中诞生的：\n",
    "\n",
    "设 $x_{1}, x_{2}, \\cdots, x_{n}$ 为取自某总体的样本， 若样本函数 $T=T\\left(x_{1}, x_{2}, \\cdots, x_{n}\\right)$ 中**不含有任何末知参数**， 则称 $T$ 为统计量。统计量的分布称为抽样分布。\n",
    "\n",
    "例如：若 $x_{1}, x_{2}, \\cdots, x_{n}$ 为样本， 则 $\\sum_{i=1}^{n} x_{i}, \\sum_{i=1}^{n} x_{i}^{2}$ 以及  $F_{n}(x)$ 都是统计量，我们中学开始学习的样本平均数$\\bar{x}=\\frac{x_{1}+x_{2}+\\cdots+x_{n}}{n}=\\frac{1}{n} \\sum_{i=1}^{n} x_{i}$和样本方差$s_{n}^{2}=\\frac{1}{n} \\sum_{i=1}^{n}\\left(x_{i}-\\bar{x}\\right)^{2}$都是统计量，因为这些函数都是只关于样本的函数，不含未知参数。而当 $\\mu, \\sigma^{2}$ 未知时， $x_{1}-\\mu, x_{1} / \\sigma$ 等均不是统计量。值得注意的是：统计量由样本决定，从而统计量因样本而异，对于同一总体，由于抽取样本是具有随机性的，因此抽取不同的样本，统计量就不同，从而统计量也是一个随机变量。统计量的分布称为抽样分布。虽然统计量不依赖于任何参数，但统计量的分布一般依赖于未知参数。\n",
    "\n",
    "<div>\n",
    "<img src=\"./images/14.svg\" width=\"600\" align=\"middle\"/>\n",
    "</div>"
   ]
  },
  {
   "cell_type": "markdown",
   "metadata": {},
   "source": [
    "下面介绍几个常用的统计量及其对应的抽样分布：\n",
    "- （1.1）样本均值：\n",
    "\n",
    "设 $x_{1}, x_{2}, \\cdots, x_{n}$ 为取自某总体的样本， 其算术平均值称为样本均值，一 般用 $\\bar{x}$ 表示，即\n",
    "$$\n",
    "\\bar{x}=\\frac{x_{1}+x_{2}+\\cdots+x_{n}}{n}=\\frac{1}{n} \\sum_{i=1}^{n} x_{i} \n",
    "$$\n",
    "如果把样本中的数据与样本均值的差称为偏差， 则样本所有偏差之和为 0， 即 $\\sum_{i=1}^{n}\\left(x_{i}-\\bar{x}\\right)=0$。"
   ]
  },
  {
   "cell_type": "code",
   "execution_count": null,
   "metadata": {},
   "outputs": [],
   "source": [
    "# 从总体/总体的分布中抽取样本并计算样本均值和计算偏差\n",
    "## （1）从总体中抽取样本\n",
    "X = np.array([1,2,3,4,5,6,7,8,9,10,11,12,13,14,15,16,17,18,19,20])   # 假设总体为X\n",
    "x_i = np.random.choice(X, 10, replace=False)  # 从总体X中抽取10个样本\n",
    "x_mean = np.mean(x_i) # 计算样本均值\n",
    "x_bias = np.sum(x_i-x_mean)  # 计算偏差和\n",
    "print(\"样本均值为：\",x_mean)\n",
    "# # 数值过滤\n",
    "# x_bias[np.abs(x_bias) <1e-6] = 0 # 将绝对值小于10的-6次方的值设为0\n",
    "print(\"偏差和为：\",x_bias)"
   ]
  },
  {
   "cell_type": "code",
   "execution_count": null,
   "metadata": {},
   "outputs": [],
   "source": [
    "## （2）从总体分布中抽取样本，假设总体分布为N（0，1）\n",
    "x_i = np.random.randn(10)  # 从总体分布N(0,1)中抽取10个样本\n",
    "x_mean = np.mean(x_i) # 计算样本均值\n",
    "x_bias = np.sum(x_i-x_mean)  # 计算偏差和\n",
    "print(\"样本均值为：\",x_mean)\n",
    "print(\"偏差和为：\",x_bias)"
   ]
  },
  {
   "cell_type": "markdown",
   "metadata": {},
   "source": [
    "接下来，我们来看看样本均值的分布是什么？我们使用一个实验给大家说明：\n",
    "   - （a）假设现在有20个数组成的总体；\n",
    "   - （b）每次从总体中抽取5个样本，计算样本均值；\n",
    "   - （c）重复b步骤5次，10次，20次，100次，1000次，10000次，100000次，观察不同重复次数的抽样的样本均值的分布情况。"
   ]
  },
  {
   "cell_type": "code",
   "execution_count": null,
   "metadata": {},
   "outputs": [],
   "source": [
    "def GetSampleDist(n, X):\n",
    "    x_mean_list = []\n",
    "    for i in range(n):\n",
    "        x_i = np.random.choice(X, 5, replace=False)\n",
    "        x_mean = np.mean(x_i)\n",
    "        x_mean_list.append(x_mean)\n",
    "    plt.hist(x_mean_list,color='blue',alpha=0.6,density=True)\n",
    "    plt.xlabel(\"x\")\n",
    "    plt.ylabel(\"频率 p\")\n",
    "    plt.title(\"n=\"+str(n))\n",
    "    plt.show()\n",
    "\n",
    "X = np.array([1,2,3,4,5,6,7,8,9,10,11,12,13,14,15,16,17,18,19,20])   # 假设总体为X, size=20\n",
    "GetSampleDist(5, X)\n",
    "GetSampleDist(10, X)\n",
    "GetSampleDist(20, X)\n",
    "GetSampleDist(100, X)\n",
    "GetSampleDist(1000, X)\n",
    "GetSampleDist(10000, X)\n",
    "GetSampleDist(100000, X)\n"
   ]
  },
  {
   "cell_type": "markdown",
   "metadata": {},
   "source": [
    "因此，从上面的实验可以看到，统计量——样本均值的分布，即样本均值的抽样分布当n越来越大时近似服从正态分布，具体来说：\n",
    "\n",
    "设 $x_{1}, x_{2}, \\cdots, x_{n}$ 是来自某个总体的样本， $\\bar{x}$ 为样本均值。\n",
    "\n",
    "（1）若总体分布为 $N\\left(\\mu, \\sigma^{2}\\right)$， 则 $\\bar{x}$ 的精确分布为 $N\\left(\\mu, \\sigma^{2} / n\\right)$;\n",
    "\n",
    "（2） 若总体分布末知或不是正态分布， $E(x)=\\mu, \\operatorname{Var}(x)=\\sigma^{2}$ 存在， 则 $n$ 较大时 $\\bar{x}$ 的渐近分布为 $N\\left(\\mu, \\sigma^{2} / n\\right)$。 这里渐近分布是指 $n$ 较大时的近似分布。"
   ]
  },
  {
   "cell_type": "markdown",
   "metadata": {},
   "source": [
    "- （1.2）样本方差与样本标准差：\n",
    "\n",
    "设 $x_{1}, x_{2}, \\cdots, x_{n}$ 为取自某总体的样本，则它关于样本均值 $\\bar{x}$ 的平均偏差平方和\n",
    "$$\n",
    "s_{n}^{2}=\\frac{1}{n} \\sum_{i=1}^{n}\\left(x_{i}-\\bar{x}\\right)^{2}\n",
    "$$\n",
    "称为样本方差。\n",
    "\n",
    "样本标准差就是样本方差的算术平方根，即：$s_{n}=\\sqrt{s_{n}^{2}}$。\n",
    "\n",
    "在实际的应用中，我们往往不会直接使用样本方差，更倾向于使用样本标准差，因为样本方差的量纲（单位）与样本均值不一致，无法与样本均值进行加减运算。实际上，样本标准差可以与均值发生计算关系，表示数据的范围，如：$(\\bar{x}-3s_n, \\bar{x}+3s_n)$表示数据的范围在样本均值的三个标准差范围，而方差由于量纲不一致做不到与样本均值的联动。\n",
    "\n",
    "另外，样本方差除了上述的表达式，还有另一个表达式：$s^{2}=\\frac{1}{n-1} \\sum_{i=1}^{n}\\left(x_{i}-\\bar{x}\\right)^{2}$。$s^{2}$常被称为无偏方差，什么是无偏将在后面的内容讲解，这里大家只需要知道的就是：当样本量较大时，$s_n^2$与$s^2$相差不大，可以随意使用，当样本量较小时，计算样本方差最好使用无偏样本方差$s^2$。\n",
    "\n",
    "**值得注意的是：后面我们所说的样本方差都是指无偏样本方差$s^2$而不是$s_n^2$，请大家注意。**"
   ]
  },
  {
   "cell_type": "code",
   "execution_count": null,
   "metadata": {},
   "outputs": [],
   "source": [
    "# 从总体/总体的分布中抽取样本并计算样本方差与样本标准差\n",
    "## （1）从总体中抽取样本\n",
    "X = np.array([1,2,3,4,5,6,7,8,9,10,11,12,13,14,15,16,17,18,19,20])   # 假设总体为X\n",
    "x_i = np.random.choice(X, 10, replace=False)  # 从总体X中抽取10个样本\n",
    "x_sn2 = np.var(x_i,ddof=0) #样本方差\n",
    "x_s2 = np.var(x_i,ddof=1) # 无偏样本方差\n",
    "x_sn = np.std(x_i,ddof=0) # 样本标准差\n",
    "x_s = np.std(x_i,ddof=1) # 无偏样本标准差\n",
    "print(\"样本方差sn^2为：\",x_sn2)\n",
    "print(\"样本方差s^2为：\",x_s2)\n",
    "print(\"样本标准差sn^2为：\",x_sn)\n",
    "print(\"样本标准差s^2为：\",x_s)"
   ]
  },
  {
   "cell_type": "code",
   "execution_count": null,
   "metadata": {},
   "outputs": [],
   "source": [
    "## （2）从总体分布中抽取样本，假设总体分布为N（0，1）\n",
    "x_i = np.random.randn(10)  # 从总体分布N(0,1)中抽取10个样本\n",
    "x_sn2 = np.var(x_i,ddof=0) #样本方差\n",
    "x_s2 = np.var(x_i,ddof=1) # 无偏样本方差\n",
    "x_sn = np.std(x_i,ddof=0) # 样本标准差\n",
    "x_s = np.std(x_i,ddof=1) # 无偏样本标准差\n",
    "print(\"样本方差sn^2为：\",x_sn2)\n",
    "print(\"样本方差s^2为：\",x_s2)\n",
    "print(\"样本标准差sn^2为：\",x_sn)\n",
    "print(\"样本标准差s^2为：\",x_s)"
   ]
  },
  {
   "cell_type": "markdown",
   "metadata": {},
   "source": [
    "样本方差/样本标准差的分布：\n",
    "\n",
    "事实上，样本方差/样本标准差的分布并没有像样本均值那样有完美的渐近分布，不同总体下的样本方差/样本标准差的分布都不一样，我们在下一节内容给大家介绍当总体服从正态分布条件下的与样本方差/样本标准差有关的分布，他是三大抽样分布中著名的卡方分布。在这里，我们可以发现如下规律：\n",
    "\n",
    "设总体为 $X$ 方差存在， 即 $E(X)=\\mu, \\operatorname{Var}(X)=\\sigma^{2}<\\infty, x_{1}, x_{2}, \\cdots, x_{n}$ 为 从该总体得到的样本， $\\bar{x}$ 和 $s^{2}$ 分别是样本均值和样本方差, 则\n",
    "$$\n",
    "\\begin{gathered}\n",
    "E(\\bar{x})=\\mu, \\quad \\operatorname{Var}(\\bar{x})=\\sigma^{2} / n, \\\\\n",
    "E\\left(s^{2}\\right)=\\sigma^{2} .\n",
    "\\end{gathered}\n",
    "$$\n",
    "此定理表明， 样本均值的期望与总体均值相同， 而样本均值的方差是总体方差的 $1 / n$。\n",
    "\n",
    "下面，我们使用一个实验来验证以上的观点：\n",
    "   - （a）假设总体为$X$，为了方便起见，$X～N（0，1）$；\n",
    "   - （b）对$X$抽取10个样本，计算10个样本的样本均值；\n",
    "   - （c）重复（b）步骤10000次，计算这10000个样本均值的样本均值和样本方差；"
   ]
  },
  {
   "cell_type": "code",
   "execution_count": null,
   "metadata": {},
   "outputs": [],
   "source": [
    "x_mean_list = []\n",
    "for i in range(10000):\n",
    "    x_i = np.random.randn(10)\n",
    "    x_mean_list.append(np.mean(x_i))\n",
    "print(\"标准正态分布的均值和方差为：\",0,1)\n",
    "print(\"10000个样本均值的样本均值为：\",np.mean(x_mean_list))\n",
    "print(\"10000个样本均值的样本方差为：\",np.var(x_mean_list,ddof=1))\n"
   ]
  },
  {
   "cell_type": "markdown",
   "metadata": {},
   "source": [
    "- （1.3）次序统计量及其分布（了解）\n",
    "\n",
    "设 $x_{1}, x_{2}, \\cdots, x_{n}$ 是取自总体 $X$ 的样本， $x_{(i)}$ 称为该样本的第 $i$ 个次序统计量， 它的取值是将样本观测值由小到大排列后得到的第 $i$ 个观测值。 其中 $x_{(1)}=$ $\\min \\left\\{x_{1}, x_{2}, \\cdots, x_{n}\\right\\}$ 称为该样本的最小次序统计量， $x_{(n)}=\\max \\left\\{x_{1}, x_{2}, \\cdots, x_{n}\\right\\}$ 称为该样本的最大次序统计量。\n",
    "\n",
    "以上的定义十分难理解，我们使用一个实验说明什么是次序统计量，特别强调最小、最大次序统计量：\n",
    "\n",
    "（a）最小次序统计量及其分布：\n",
    "   - （a.1）假设总体X服从以下分布：\n",
    "  $$\n",
    "  \\begin{array}{c|ccc}\n",
    "  x & 1 & 2 & 3 \\\\\n",
    "  \\hline p & 1 / 3 & 1 / 3 & 1 / 3\n",
    "  \\end{array}\n",
    "  $$\n",
    "  - （a.2）现在从总体中抽取10个样本，每次取10个样本中最小的那个样品值为最小次序统计量。\n",
    "  - （a.3）重复（a.2）步骤5次，10次，20次，100次，1000次，10000次，观察$n$越来越大时的最小次序统计量的稳定后分布。\n",
    "\n",
    "理论计算的最小次序统计量的分布：\n",
    "$$\n",
    "\\begin{array}{c|ccc}\n",
    "\\hline x_{(1)} & 1 & 2 & 3 \\\\\n",
    "\\hline p & \\frac{19}{27}= 0.703& \\frac{7}{27}=0.259 & \\frac{1}{27} =0.038\\\\\n",
    "\\hline\n",
    "\\end{array}\n",
    "$$\n",
    "（b）最小次序统计量及其分布：\n",
    "   - （b.1）假设总体$X$服从以下分布：\n",
    "  $$\n",
    "  \\begin{array}{c|ccc}\n",
    "  x & 1 & 2 & 3 \\\\\n",
    "  \\hline p & 1 / 3 & 1 / 3 & 1 / 3\n",
    "  \\end{array}\n",
    "  $$\n",
    "  - （b.2）现在从总体中抽取10个样本，每次取10个样本中最大的那个样品值为最大次序统计量。\n",
    "  - （b.3）重复（a.2）步骤5次，10次，20次，100次，1000次，10000次，观察n越来越大时的最大次序统计量的稳定后分布。\n",
    "\n",
    "理论计算的最大次序统计量的分布：\n",
    "$$\n",
    "\\begin{array}{c|ccc}\n",
    "\\hline x_{(3)} & 1 & 2 & 3 \\\\\n",
    "\\hline p & \\frac{1}{27}= 0.038& \\frac{7}{27}=0.259 & \\frac{19}{27} =0.703\\\\\n",
    "\\hline\n",
    "\\end{array}\n",
    "$$"
   ]
  },
  {
   "cell_type": "code",
   "execution_count": null,
   "metadata": {},
   "outputs": [],
   "source": [
    "# 最小次序统计量及其分布\n",
    "from scipy.stats import rv_discrete  # 自定义离散分布\n",
    "x_k = np.arange(3)+1\n",
    "p_k = np.array([1/3]*3)\n",
    "X = rv_discrete(name='min', values=(x_k, p_k))\n",
    "def Get_Min_Dist(n, X):\n",
    "    Min_list = []\n",
    "    for i in range(n):\n",
    "        min_value = np.min(X.rvs(size=3))\n",
    "        Min_list.append(min_value)\n",
    "    # 统计每个值出现的次数\n",
    "    xk_count = []\n",
    "    for v in x_k:\n",
    "        xk_count.append(np.sum(Min_list==v))\n",
    "    # 画图\n",
    "    plt.bar(x_k,np.array(xk_count)/n,color='blue',alpha=0.6)\n",
    "    plt.xlabel(\"x\")\n",
    "    plt.ylabel(\"频率 p\")\n",
    "    plt.xlim(0,4)\n",
    "    plt.title(\"n=\"+str(n))\n",
    "    plt.show()\n",
    "\n",
    "Get_Min_Dist(5, X)\n",
    "Get_Min_Dist(10, X)\n",
    "Get_Min_Dist(20, X)\n",
    "Get_Min_Dist(100, X)\n",
    "Get_Min_Dist(1000, X)\n",
    "Get_Min_Dist(10000, X)"
   ]
  },
  {
   "cell_type": "code",
   "execution_count": null,
   "metadata": {},
   "outputs": [],
   "source": [
    "# 最大次序统计量及其分布\n",
    "from scipy.stats import rv_discrete  # 自定义离散分布\n",
    "x_k = np.arange(3)+1\n",
    "p_k = np.array([1/3]*3)\n",
    "X = rv_discrete(name='min', values=(x_k, p_k))\n",
    "def Get_Max_Dist(n, X):\n",
    "    Max_list = []\n",
    "    for i in range(n):\n",
    "        max_value = np.max(X.rvs(size=3))\n",
    "        Max_list.append(max_value)\n",
    "    # 统计每个值出现的次数\n",
    "    xk_count = []\n",
    "    for v in x_k:\n",
    "        xk_count.append(np.sum(Max_list==v))\n",
    "    # 画图\n",
    "    plt.bar(x_k,np.array(xk_count)/n,color='blue',alpha=0.6)\n",
    "    plt.xlabel(\"x\")\n",
    "    plt.ylabel(\"频率 p\")\n",
    "    plt.xlim(0,4)\n",
    "    plt.title(\"n=\"+str(n))\n",
    "    plt.show()\n",
    "\n",
    "Get_Max_Dist(5, X)\n",
    "Get_Max_Dist(10, X)\n",
    "Get_Max_Dist(20, X)\n",
    "Get_Max_Dist(100, X)\n",
    "Get_Max_Dist(1000, X)\n",
    "Get_Max_Dist(10000, X)"
   ]
  },
  {
   "cell_type": "markdown",
   "metadata": {},
   "source": [
    "- （1.4）样本分位数与样本中位数及其抽样分布\n",
    "\n",
    "在概率论中，我们知道中位数是指累计概率$p=0.5$时对应的随机变量值$x$，而样本抽样后的一组离散个数的取值，因此，我们定义样本中位数只需要查找抽样后的样本中排在中间的那个样品，具体来说：\n",
    "$$\n",
    "m_{0.5}= \\begin{cases}x\\left(\\frac{n+1}{2}\\right), & n \\text { 为奇数, } \\\\ \\left.\\frac{1}{2}\\left(\\frac{x}{2}\\right)+x\\left(\\frac{n}{2}+1\\right)\\right), & n \\text { 为偶数. }\\end{cases}\n",
    "$$\n",
    "若 $n=5$， 则 $m_{0.5}=x_{(3)}$， 若 $n=6$, 则 $m_{0.5}=\\frac{1}{2}\\left(x_{(3)}+x_{(4)}\\right)$。"
   ]
  },
  {
   "cell_type": "code",
   "execution_count": null,
   "metadata": {},
   "outputs": [],
   "source": [
    "# 从总体/总体的分布中抽取样本并计算样本样本中位数\n",
    "## （1）从总体中抽取样本\n",
    "X = np.array([1,2,3,4,5,6,7,8,9,10,11,12,13,14,15,16,17,18,19,20])   # 假设总体为X\n",
    "x_i = np.random.choice(X, 10, replace=False)  # 从总体X中抽取10个样本\n",
    "x_mid = np.median(x_i) # 计算样本中位数\n",
    "print(\"样本中位数为：\",x_mid)"
   ]
  },
  {
   "cell_type": "code",
   "execution_count": null,
   "metadata": {},
   "outputs": [],
   "source": [
    "## （2）从总体分布中抽取样本，假设总体分布为N（0，1）\n",
    "x_i = np.random.randn(10)  # 从总体分布N(0,1)中抽取10个样本\n",
    "x_mid = np.median(x_i) # 计算样本中位数\n",
    "print(\"样本中位数为：\",x_mid)"
   ]
  },
  {
   "cell_type": "markdown",
   "metadata": {},
   "source": [
    "接下来，我们来看看样本p分位数是什么？\n",
    "\n",
    "样本 $p$ 分位数 $m_{p}$ 可如下定义:\n",
    "$$\n",
    "m_{p}= \\begin{cases}x_{([n p+1])}, & \\text { 若 } n p \\text { 不是整数, } \\\\ \\frac{1}{2}\\left(x_{(n p)}+x_{(n p+1)}\\right), & \\text { 若 } n p \\text { 是整数. }\\end{cases}\n",
    "$$\n",
    "用普通的语言理解就是：先将抽样的$n$个样本按从小到大排序，样本$p$分位数就是排在第$n\\times p$位的样品值，当然有可能$n\\times p$不是整数，按上述公式处理。"
   ]
  },
  {
   "cell_type": "code",
   "execution_count": null,
   "metadata": {},
   "outputs": [],
   "source": [
    "# 从总体/总体的分布中抽取样本并计算样本样本中位数\n",
    "## （1）从总体中抽取样本\n",
    "X = np.array([1,2,3,4,5,6,7,8,9,10,11,12,13,14,15,16,17,18,19,20])   # 假设总体为X\n",
    "x_i = np.random.choice(X, 10, replace=False)  # 从总体X中抽取10个样本\n",
    "x_low = np.percentile(x_i,25) # 计算样本下四分位数\n",
    "x_high = np.percentile(x_i,75) # 计算样本上四分位数\n",
    "print(\"样本下四分位数为：\",x_low)\n",
    "print(\"样本上四分位数为：\",x_high)"
   ]
  },
  {
   "cell_type": "markdown",
   "metadata": {},
   "source": [
    "接下来，我们使用一组实验观察下样本p分位数/样本中位数的抽样分布：\n",
    "   - （a）假设总体为$X$，为了方便起见，$X$取1～20；\n",
    "   - （b）对$X$抽取10个样本，计算10个样本的样本中位数；\n",
    "   - （c）重复（b）步骤10次，20次，100次，1000次，10000次，100000次，观察样本中位数的分布；"
   ]
  },
  {
   "cell_type": "code",
   "execution_count": null,
   "metadata": {},
   "outputs": [],
   "source": [
    "def GetMidDist(n, X):\n",
    "    x_mid_list = []\n",
    "    for i in range(n):\n",
    "        x_i = np.random.choice(X, 10, replace=False)\n",
    "        x_mid = np.median(x_i)\n",
    "        x_mid_list.append(x_mid)\n",
    "    plt.hist(x_mid_list,color='blue',alpha=0.6,density=True)\n",
    "    plt.xlabel(\"x\")\n",
    "    plt.ylabel(\"频率 p\")\n",
    "    plt.title(\"n=\"+str(n))\n",
    "    plt.show()\n",
    "\n",
    "X = np.array([1,2,3,4,5,6,7,8,9,10,11,12,13,14,15,16,17,18,19,20])   # 假设总体为X, size=20\n",
    "GetMidDist(5, X)\n",
    "GetMidDist(10, X)\n",
    "GetMidDist(20, X)\n",
    "GetMidDist(100, X)\n",
    "GetMidDist(1000, X)\n",
    "GetMidDist(10000, X)\n",
    "GetMidDist(100000, X)\n"
   ]
  },
  {
   "cell_type": "markdown",
   "metadata": {},
   "source": [
    "因此，样本分位数的抽样分布的渐近分布为正态分布，当n越来越大时。具体来说：\n",
    "\n",
    "设总体密度函数为 $p(x), x_{p}$ 为其 $p$ 分位数， $p(x)$ 在 $x_{p}$ 处连续且 $p\\left(x_{p}\\right)>$ 0 ， 则当 $n \\rightarrow \\infty$ 时样本 $p$ 分位数 $m_{p}$ 的渐近分布为\n",
    "$$\n",
    " N\\left(x_{p}, \\frac{p(1-p)}{n \\cdot p^{2}\\left(x_{p}\\right)}\\right) \n",
    "$$\n",
    "特别地, 对于样本中位数来说, 当 $n \\rightarrow \\infty$ 时有\n",
    "$$\n",
    "N\\left(x_{0.5}, \\frac{1}{4 n \\cdot p^{2}\\left(x_{0.5}\\right)}\\right) \n",
    "$$"
   ]
  },
  {
   "cell_type": "markdown",
   "metadata": {},
   "source": [
    "（2）三大抽样分布：\n",
    "\n",
    "以上关于统计量及其分布的介绍，我们已经学习了几种常用的统计量及其分布，包括：样本均值、样本方差/样本标准差以及分位数/中位数。在这些统计量的构造以及抽样分布的探索上，我们并没有对总体分布的形式进行限定，这是一件好事，也是一件不好的事，因为如果对总体的分布做限定，会得出特定条件下的统计量及其抽样分布，但是会降低使用的广泛性。实际上，有很多实际问题都是以标准正态分布的前提下讨论的，因此基于此，讨论以标准正态分布为总体而构造的统计量及其抽样分布具有广泛的应用。以标准正态分布为总体构造的三个著名统计量：卡方统计量、F统计量与t统计量在实际中有广泛的用途。下面，我们来一一学习！"
   ]
  },
  {
   "cell_type": "markdown",
   "metadata": {},
   "source": [
    "- （2.1）卡方统计量与卡方分布：\n",
    "\n",
    "假设$x_1,x_2,...x_n$是标准正态分布$N(0,1)$为总体抽样的得到的样本（$x_1,x_2,...x_n$独立同分布于$N(0,1)$），则\n",
    "$$\n",
    "\\chi^{2}=x_{1}^{2}+x_{2}^{2}+\\cdots+x_{n}^{2}\n",
    "$$\n",
    "的分布为自由度为n的$\\chi^{2}$分布，简称$\\chi^{2} \\sim \\chi^{2}(n)$，$\\chi^{2}$分布的密度函数为：\n",
    "$$\n",
    "p(y)=\\frac{(1 / 2)^{\\frac{n}{2}}}{\\Gamma(n / 2)} y^{\\frac{n}{2}-1} \\mathrm{e}^{-\\frac{y}{2}}, \\quad y>0\n",
    "$$\n",
    "**可以用一句话记住卡方分布：$n$个标准正态分布的平方和服从自由度为$n$的卡方分布**。\n",
    "\n",
    "有同学可能会问，什么是自由度，这个概念不用深究，可以简单理解为可以自由变化的变量个数。有一个例子很好地阐述了自由度的概念：在无偏样本方差$s^{2}=\\frac{1}{n-1} \\sum_{i=1}^{n}\\left(x_{i}-\\bar{x}\\right)^{2}$中，为什么分母是$n-1$而不是$n$呢？是因为在这个式子中只有$n-1$个可以自由变化的变量数，$n$个样本，其中在计算样本均值时需要花费一个方程，即$\\bar{x}=\\frac{x_{1}+x_{2}+\\cdots+x_{n}}{n}$，因此样本方差就只剩下$n-1$个自由度了。\n",
    "\n",
    "\n",
    "我们使用python画出不同自由度$n$下的密度函数图："
   ]
  },
  {
   "cell_type": "code",
   "execution_count": null,
   "metadata": {},
   "outputs": [],
   "source": [
    "# 使用scipy计算pdf画图(非自定义函数)\n",
    "from scipy.stats import chi2\n",
    "x = np.linspace(0.01,30,10000)  \n",
    "plt.plot(x, chi2.pdf(x,df=4),'r-', lw=5, alpha=0.6, label='chi2(4)',c='red')\n",
    "plt.plot(x, chi2.pdf(x,df=6),'r-', lw=5, alpha=0.6, label='chi2(6)',c='blue')\n",
    "plt.plot(x, chi2.pdf(x,df=10),'r-', lw=5, alpha=0.6, label='chi2(10)',c='orange')\n",
    "plt.xlabel(\"X\")\n",
    "plt.ylabel(\"p (x)\")\n",
    "plt.legend()\n",
    "plt.show()"
   ]
  },
  {
   "cell_type": "code",
   "execution_count": null,
   "metadata": {},
   "outputs": [],
   "source": [
    "# 使用卡方分布的定义演示卡方分布\n",
    "from scipy.stats import norm\n",
    "n = 10\n",
    "chi2_list = []\n",
    "for i in range(100000):\n",
    "    x_i = norm.rvs(loc=0,scale=1,size=10)\n",
    "    chi2_T = np.sum(np.square(x_i))\n",
    "    chi2_list.append(chi2_T)\n",
    "sns.distplot(chi2_list,color='blue')\n",
    "plt.xlabel(\"x\")\n",
    "plt.ylabel(\"频率 p\")\n",
    "plt.title(\"n=\"+str(n))\n",
    "plt.show()\n"
   ]
  },
  {
   "cell_type": "markdown",
   "metadata": {},
   "source": [
    "该密度函数的图像是取非负值的偏态分布， 其数学期望等于自由度n， 方差等于 2 倍自由度即2n， 即 $E\\left(\\chi^{2}\\right)=n, \\operatorname{Var}\\left(\\chi^{2}\\right)=2 n$。"
   ]
  },
  {
   "cell_type": "markdown",
   "metadata": {},
   "source": [
    "为什么$\\chi^{2}$分布很重要呢？我们在学习样本方差时，一直没有给出样本方差的抽样分布，是因为在不同的总体分布假设下，样本方差的抽样分布都是不一样的，而在正态分布总体假设下，样本方差经过变换可以与卡方分布产生关系，具体来说就是：\n",
    "\n",
    "设 $x_{1}, x_{2}, \\cdots, x_{n}$ 是来自正态总体 $N\\left(\\mu, \\sigma^{2}\\right)$ 的样本， 其样本均值和样本方差分别为\n",
    "$$\n",
    "\\bar{x}=\\frac{1}{n} \\sum_{i=1}^{n} x_{i} \\text { 和 } s^{2}=\\frac{1}{n-1} \\sum_{i=1}^{n}\\left(x_{i}-\\bar{x}\\right)^{2},\n",
    "$$\n",
    "那么，$\\frac{(n-1) s^{2}}{\\sigma^{2}} \\sim \\chi^{2}(n-1)$。\n",
    "\n",
    "我们使用python对这个结论进行验证："
   ]
  },
  {
   "cell_type": "code",
   "execution_count": null,
   "metadata": {},
   "outputs": [],
   "source": [
    "# 假设总体为N（0，1），抽样的样本容量为n=11,抽样的次数为N\n",
    "from scipy.stats import norm\n",
    "def S2_Chi2(N):\n",
    "    mu,sig = 0,1\n",
    "    n = 11\n",
    "    T_list = []\n",
    "    for i in range(N):\n",
    "        x_i = norm.rvs(loc=mu,scale=sig,size=n)  # 正态分布总体抽样\n",
    "        T = (n-1)*np.var(x_i,ddof=1)/sig**2  # 构造卡方统计量\n",
    "        T_list.append(T)\n",
    "    sns.distplot(T_list,color='blue')\n",
    "    plt.xlabel(\"x\")\n",
    "    plt.ylabel(\"频率 p\")\n",
    "    plt.title(\"chi2(10)\")\n",
    "    plt.show()\n",
    "\n",
    "S2_Chi2(100000)"
   ]
  },
  {
   "cell_type": "markdown",
   "metadata": {},
   "source": [
    "- （2.2）F统计量与F分布：\n",
    "\n",
    "设随机变量 $X_{1} \\sim \\chi^{2}(m), X_{2} \\sim \\chi^{2}(n), X_{1}$ 与 $X_{2}$ 独立， 则称 $F=\\frac{X_{1} / m}{X_{2} / n}$ 的分布是自由度为 $m$ 与 $n$ 的 $F$ 分布， 记为 $F \\sim F(m, n)$， 其中 $m$ 称为分子自由度， $n$ 称为分母自由度。F分布的密度函数为：\n",
    "$$\n",
    "\\begin{aligned}\n",
    "p_{F}(y) &=\\frac{\\Gamma\\left(\\frac{m+n}{2}\\right)\\left(\\frac{m}{n}\\right)^{\\frac{m}{2}} y^{\\frac{m}{2}-1}\\left(1+\\frac{m}{n} y\\right)^{-\\frac{m+n}{2}}}{\\Gamma\\left(\\frac{m}{2}\\right) \\Gamma\\left(\\frac{n}{2}\\right)} \\cdot\n",
    "\\end{aligned}\n",
    "$$"
   ]
  },
  {
   "cell_type": "code",
   "execution_count": null,
   "metadata": {},
   "outputs": [],
   "source": [
    "# 使用scipy与matplotlib绘制不同的m，n下的F分布的密度函数\n",
    "from scipy.stats import f\n",
    "x = np.linspace(0.01,5,10000)  \n",
    "plt.plot(x, f.pdf(x,4,4000),'r-', lw=5, alpha=0.6, label='F(4,4000)',c='red')\n",
    "plt.plot(x, f.pdf(x,4,10),'r-', lw=5, alpha=0.6, label='F(4,10)',c='blue')\n",
    "plt.plot(x, f.pdf(x,4,4),'r-', lw=5, alpha=0.6, label='F(4,4)',c='orange')\n",
    "plt.plot(x, f.pdf(x,4,1),'r-', lw=5, alpha=0.6, label='F(4,1)',c='yellow')\n",
    "plt.xlabel(\"X\")\n",
    "plt.ylabel(\"p (x)\")\n",
    "plt.legend()\n",
    "plt.show()"
   ]
  },
  {
   "cell_type": "code",
   "execution_count": null,
   "metadata": {},
   "outputs": [],
   "source": [
    "# 使用F统计量的定义演示：\n",
    "from scipy.stats import norm\n",
    "m,n = 4,4000\n",
    "F_list = []\n",
    "for i in range(100000):\n",
    "    chi2_m_sample = np.sum(np.square(norm.rvs(loc=0,scale=1,size=m))) # 卡方m统计量\n",
    "    chi2_n_sample = np.sum(np.square(norm.rvs(loc=0,scale=1,size=n))) # 卡方n统计量\n",
    "    F_T = (chi2_m_sample/m) / (chi2_n_sample/n)  # # F（m，n）统计量\n",
    "    F_list.append(F_T)\n",
    "sns.distplot(F_list,color='blue')\n",
    "plt.xlabel(\"x\")\n",
    "plt.ylabel(\"频率 p\")\n",
    "plt.title(\"F(4,4000)\")\n",
    "plt.show()"
   ]
  },
  {
   "cell_type": "markdown",
   "metadata": {},
   "source": [
    "F分布的密度函数的图像是一个只取非负值的偏态分布。接下来，我们来看看之前学过的样本均值和样本方差与F分布的联系：\n",
    "\n",
    "设 $x_{1}, x_{2}, \\cdots, x_{m}$ 是来自 $N\\left(\\mu_{1}, \\sigma_{1}^{2}\\right)$ 的样本， $y_{1}, y_{2}, \\cdots, y_{n}$ 是来自 $N\\left(\\mu_{2}, \\sigma_{2}^{2}\\right)$ 的样本， 且此两样本相互独立， 记：\n",
    "$$\n",
    "s_{x}^{2}=\\frac{1}{m-1} \\sum_{i=1}^{m}\\left(x_{i}-\\bar{x}\\right)^{2}, \\quad s_{y}^{2}=\\frac{1}{n-1} \\sum_{i=1}^{n}\\left(y_{i}-\\bar{y}\\right)^{2},\n",
    "$$\n",
    "其中\n",
    "$$\n",
    "\\bar{x}=\\frac{1}{m} \\sum_{i=1}^{m} x_{i}, \\quad \\bar{y}=\\frac{1}{n} \\sum_{i=1}^{n} y_{i},\n",
    "$$\n",
    "则有\n",
    "$$\n",
    "F=\\frac{s_{x}^{2} / \\sigma_{1}^{2}}{s_{y}^{2} / \\sigma_{2}^{2}} \\sim F(m-1, n-1) \n",
    "$$\n",
    "特别， 若 $\\sigma_{1}^{2}=\\sigma_{2}^{2}$， 则 $F=s_{x}^{2} / s_{y}^{2} \\sim F(m-1, n-1)$。\n",
    "\n",
    "下面，我们使用python模拟这个定理："
   ]
  },
  {
   "cell_type": "code",
   "execution_count": null,
   "metadata": {},
   "outputs": [],
   "source": [
    "# x1,x2,...,xn ~ N(0,1), y1,y2,...,yn ~ N(0,4)\n",
    "from scipy.stats import norm\n",
    "F_list = []\n",
    "for i in range(100):\n",
    "    x_mu, x_sigma2 = 0, 1\n",
    "    y_mu, y_sigma2 = 0, 4\n",
    "    norm_xi = norm.rvs(loc=x_mu,scale=x_sigma2,size=5)\n",
    "    norm_yi = norm.rvs(loc=y_mu,scale=y_sigma2,size=5)\n",
    "    sx_2 = np.var(norm_xi,ddof=1)\n",
    "    sy_2 = np.var(norm_yi,ddof=1)\n",
    "    F_T = (sx_2/x_sigma2) / (sy_2/y_sigma2)\n",
    "    F_list.append(F_list)\n",
    "sns.distplot(F_list,color='red')\n",
    "plt.xlabel(\"x\")\n",
    "plt.ylabel(\"频率 p\")\n",
    "plt.title(\"F(4,4)\")\n",
    "plt.show()"
   ]
  },
  {
   "cell_type": "markdown",
   "metadata": {},
   "source": [
    "- （2.3）t分布及其统计量：\n",
    "\n",
    "设随机变量 $X_{1}$ 与 $X_{2}$ 独立且 $X_{1} \\sim N(0,1), X_{2} \\sim \\chi^{2}(n)$, 则称 $t=\\frac{X_{1}}{\\sqrt{X_{2} / n}}$ 的分布为自由度为 $n$ 的 $t$ 分布， 记为 $t \\sim t(n)$。\n",
    "\n",
    "下面，我们使用scipy绘制t分布的密度函数："
   ]
  },
  {
   "cell_type": "code",
   "execution_count": null,
   "metadata": {},
   "outputs": [],
   "source": [
    "# 使用scipy与matplotlib绘制不同的n下的t分布的密度函数\n",
    "from scipy.stats import t\n",
    "from scipy.stats import norm \n",
    "x = np.linspace(-6,6,10000)  \n",
    "plt.plot(x, t.pdf(x,4),'--', lw=5, alpha=0.6, label='t (4)',c='red')\n",
    "plt.plot(x, norm.pdf(x,loc=0,scale=1),'r-', lw=5, alpha=0.6, label='N (0,1)',c='yellow')\n",
    "plt.plot(x, t.pdf(x,100),'--', lw=5, alpha=0.6, label='t (100)',c='blue')\n",
    "plt.xlabel(\"X\")\n",
    "plt.ylabel(\"p (x)\")\n",
    "plt.legend()\n",
    "plt.show()"
   ]
  },
  {
   "cell_type": "markdown",
   "metadata": {},
   "source": [
    "可以看到：当自由度较大 $($ 如 $n \\geqslant 30)$ 时, $t$ 分布可以用 $N(0,1)$ 分布近似（图中$t(100)$几乎与$N(0,1)$重合）。下面，我们使用样本均值和样本方差构造t统计量：\n",
    "\n",
    "设 $x_{1}, x_{2}, \\cdots, x_{n}$ 是来自正态分布 $N\\left(\\mu, \\sigma^{2}\\right)$ 的一个样本， $\\bar{x}$ 与 $s^{2}$ 分别是该样本的样本均值与样本方差， 则有\n",
    "$$\n",
    "t=\\frac{\\sqrt{n}(\\bar{x}-\\mu)}{s} \\sim t(n-1) \n",
    "$$\n",
    "\n",
    "这个统计量的由来十分具有故事性：在1980年以前，统计学主要的工作时解决社会统计，如人口问题等，后来生物统计问题异军突起，这类问题的主要特点是：数据量一般较大，所用的方法大多数是以中心极限定理为依据的，因此由于中心极限定理总是会联系到正态分布，正态分布在那时候大行其道。皮尔逊认为：正态分布是上帝赐予人类唯一正确的分布类型。到了20世纪初期，越来越多农业、工业试验的统计数据，这些统计数据的特点是：数据量一般不大，没办法使用中心极限定理近似。1898年，酿酒化学技师戈塞特平时的工作接触的数据量很小，只有几个，他通过大量的实验数据发现：$t=\\frac{\\sqrt{n}(\\bar{x}-\\mu)}{s} \\sim t(n-1)$ 的分布与标准正态分布$N(0,1)$并不一致，但是由于数学和统计学功底不够，并不能解决这个问题。于是，他到皮尔逊那里学习，着重研究少量数据的统计分析，在1908年终于以Student为笔名发表了有关论文，并提出：设 $x_{1}, x_{2}, \\cdots, x_{n}$ 是来自正态分布 $N\\left(\\mu, \\sigma^{2}\\right)$ 的一个样本， $\\bar{x}$ 与 $s^{2}$ 分别是该样本的样本均值与样本方差， 则有：$t=\\frac{\\sqrt{n}(\\bar{x}-\\mu)}{s} \\sim t(n-1) $。\n",
    "\n",
    "$t$ 分布的发现在统计学史上具有划时代的意义, 因为$t$分布的出现打破了正态分布一统天下的局面，$t$分布 开创了小样本统计推断的新纪元， 小样本统计分析由此引起了广大统计科研工作者的重视。事实上，戈塞特的证明存在着漏洞， 费希尔（Fisher）注意到这个问题并于 1922 年给出了此问题的完整证明。"
   ]
  },
  {
   "cell_type": "code",
   "execution_count": null,
   "metadata": {},
   "outputs": [],
   "source": [
    "from scipy.stats import norm \n",
    "from scipy.stats import t \n",
    "t_list = []\n",
    "for i in range(300000):\n",
    "    mu,sigma2 = 0,1\n",
    "    x_i = norm.rvs(loc=mu, scale=sigma2, size=5)\n",
    "    x_mean = np.mean(x_i)\n",
    "    x_s = np.std(x_i,ddof=1)\n",
    "    t_T = np.sqrt(4)*(x_mean-mu) / x_s\n",
    "    t_list.append(t_T)\n",
    "sns.distplot(t_list,color='blue',label='t (4)')\n",
    "x = np.linspace(-6,6,10000)  \n",
    "plt.plot(x, norm.pdf(x,loc=0,scale=1),'r-', lw=5, alpha=0.6, label='N (0,1)',c='yellow')\n",
    "plt.xlabel(\"x\")\n",
    "plt.ylabel(\"频率 p\")\n",
    "plt.title(\"t (4)\")\n",
    "plt.xlim(-6,6)\n",
    "plt.legend()\n",
    "plt.show()"
   ]
  },
  {
   "cell_type": "markdown",
   "metadata": {},
   "source": [
    "### 4.参数估计之点估计的概念"
   ]
  },
  {
   "cell_type": "markdown",
   "metadata": {},
   "source": [
    "在之前的学习中，我们主要学习了统计量以及统计量的抽样分布，回到最本质的问题，为什么需要学习统计量呢？引入统计量的目的就是想使用样本信息取推断总体的信息，而统计量只含有样本的信息，不含未知的总体参数。如何对未知的总体进行推断呢？在之前的讨论中，我们知道总体是一个随机变量，而描述随机变量最完整的莫过于随机变量的分布，而在实际中我们感兴趣的多是分布中未知参数有关，如：全中国人的身高服从均值为$\\mu$、方差为$\\sigma^2$的正态分布$N(\\mu, \\sigma^2)$，而总体中的均值$\\mu$、方差$\\sigma^2$都是未知的，我们需要在总体中抽样，去估计总体中的未知参数均值$\\mu$和方差$\\sigma^2$，因此总结下：\n",
    "\n",
    "估计：通过样本统计量对总体分布的未知参数进行估计。\n",
    "\n",
    "估计的方法有点估计与区间估计，点估计希望使用一个数估计总体中的位置参数，如$\\mu = 0$就是指使用一个数0去估计总体中的参数$\\mu$，而0是由抽样后计算某个样本统计量得来的。换句话说，区间估计指的是使用一个区间估计总体中的参数，区间估计解决了点估计无法评价估计的精度的问题，这点我们在后面详细看，我们先学习点估计。\n",
    "\n",
    "设 $x_{1}, x_{2}, \\cdots, x_{n}$ 是来自总体的一个样本， 用于估计未知参数 $\\theta$ 的统计量 $\\hat{\\theta}=\\hat{\\theta}\\left(x_{1}, x_{2}, \\cdots, x_{n}\\right)$ 称为 $\\theta$ 的估计量， 或称为 $\\theta$ 的点估计， 简称估计。\n",
    "\n",
    "点估计的方法有很多，接下来主要学习：矩估计和极大似然估计。事实上，还有很多其他的方法进行点估计，如：贝叶斯估计等。"
   ]
  },
  {
   "cell_type": "markdown",
   "metadata": {},
   "source": [
    "### 5.参数估计之点估计的方法：矩估计"
   ]
  },
  {
   "cell_type": "markdown",
   "metadata": {},
   "source": [
    "（1）总体矩和中心矩"
   ]
  },
  {
   "cell_type": "markdown",
   "metadata": {},
   "source": [
    "在学习矩估计的方法前，我们先来看看什么是矩的概念。对于一个随机变量X来说，随机变量X的矩可以分为原点矩和中心矩，具体来说：\n",
    "\n",
    "设 $X$ 为随机变量， $k$ 为正整数。 如果以下的数学期望都存在， 则称\n",
    "$$\n",
    "\\mu_{k}=E\\left(X^{k}\\right)\n",
    "$$\n",
    "为 $X$ 的 $k$ 阶原点矩。 称\n",
    "$$\n",
    "\\nu_{k}=E(X-E(X))^{k}\n",
    "$$\n",
    "为 $X$ 的 $k$ 阶中心矩。\n",
    "\n",
    "显然，数学期望是随机变量的1阶原点矩，方差是随机变量的2阶中心矩。随机变量的矩是随机变量的一类数字特征，随机变量的原点矩刻画了随机变量$X$偏离原点$(0,0)$的程度，而中心矩描述了随机变量$X$偏离“中心”的程度，可以使用数学期望和方差做类比。\n",
    "\n",
    "与此同时，一类常见的统计量就是样本矩，具体来说：\n",
    "设 $x_{1}, x_{2}, \\cdots, x_{n}$ 是样本， $k$ 为正整数， 则统计量\n",
    "$$\n",
    "a_{k}=\\frac{1}{n} \\sum_{i=1}^{n} x_{i}^{k}\n",
    "$$\n",
    "称为样本 $k$ 阶原点矩。 特别地， 样本一阶原点矩就是样本均值。 统计量\n",
    "$$\n",
    "b_{k}=\\frac{1}{n} \\sum_{i=1}^{n}\\left(x_{i}-\\bar{x}\\right)^{k}\n",
    "$$\n",
    "称为样本 $k$ 阶中心矩。 特别地， 样本二阶中心矩就是样本方差。\n",
    "\n",
    "下面，我们来看看在python如何计算样本矩：\n",
    "\n"
   ]
  },
  {
   "cell_type": "code",
   "execution_count": null,
   "metadata": {},
   "outputs": [],
   "source": [
    "# 假设总体是标准正态分布，求3阶原点矩和中心矩\n",
    "from scipy.stats import norm\n",
    "x_i = norm.rvs(loc=0, scale=1, size=10000)\n",
    "a3 = np.mean(np.power(x_i,3))\n",
    "b3 = np.mean(np.power((x_i-np.mean(x_i)), 3))\n",
    "print(\"3阶原点矩：\",a3)\n",
    "print(\"3阶中心矩：\",b3)"
   ]
  },
  {
   "cell_type": "markdown",
   "metadata": {},
   "source": [
    "（2）矩估计"
   ]
  },
  {
   "cell_type": "markdown",
   "metadata": {},
   "source": [
    "1900年，皮尔逊提出了替换原理，具体来说就是：使用样本矩（样本原点矩和样本中心矩）替换总体矩（原点矩和中心矩），如：使用样本均值$\\bar{x}$替换总体均值$E(X)$、使用样本方差$s^2$替换总体方差$Var(X)$。\n",
    "\n",
    "当然，我们也可以拓展下替换原理就是矩估计，如：使用样本均值$\\bar{x}$估计总体均值$E(X)$、使用样本方差$s^2$估计总体方差$Var(X)$、用事件的频率估计事件的概率、使用样本分位数估计总体分位数等。\n",
    "\n",
    "为什么矩估计能够让人接受呢？原因就是格利纹科定理：使用经验分布函数替换总体分布。\n",
    "\n",
    "【例子】假设总体服从指数分布，其密度函数为\n",
    "$$\n",
    "p(x ; \\lambda)=\\lambda \\mathrm{e}^{-\\lambda x}, \\quad x \\geqslant 0\n",
    "$$\n",
    "从该总体中抽样1000个样本，估计总体分布的参数$\\lambda$。\n",
    "\n",
    "解：\n",
    "\n",
    "$k=1$， 由于 $E(X)=1 / \\lambda$，即 $\\lambda=1 / E(X)$，因此，$\\lambda$的矩估计为：$\\hat{\\lambda}=\\frac{1}{\\bar{x}} $"
   ]
  },
  {
   "cell_type": "code",
   "execution_count": null,
   "metadata": {},
   "outputs": [],
   "source": [
    "# 假设真实值lambda = 5\n",
    "from scipy.stats import expon\n",
    "real_lmd = 5\n",
    "x_i = np.random.exponential(scale=1/real_lmd, size=1000)\n",
    "print(\"矩估计为：\",1/np.mean(x_i))"
   ]
  },
  {
   "cell_type": "markdown",
   "metadata": {},
   "source": [
    "### 6.参数估计之点估计的方法：极大似然估计"
   ]
  },
  {
   "cell_type": "markdown",
   "metadata": {},
   "source": [
    "极大似然估计的思想非常有意思，充分利用了样本的二重性，即：可以把样本想象成黑盒子，打开前样本是一个随机变量，打开后就是确定的值。具体来说：极大似然估计就是利用已知的样本结果信息，反推最有可能（最大概率）导致这些样本结果出现的模型参数值。下面举例子说明：\n",
    "\n",
    "假设我们有一个罐子（总体），罐子里有黑白两色球，假设黑球为记为1，白球记为0，球的比例未知，假设黑球的比例为$p$，白球的比例时$1-p$。为了估计总体罐子的参数$p$，我们对总体进行抽样，采样的结果如下：\n",
    "$$\n",
    "1, 1, 0, 1, 1, 1, 0, 0, 1, 1\n",
    "$$\n",
    "为了使用我们的样本信息估计总体参数$p$，我们计算这组样本出现的概率（似然函数）\n",
    "$$\n",
    "\\begin{gathered}\n",
    "P(p) &= p\\times p\\times (1-p) \\times p \\times p \\times p \\times (1-p) \\times (1-p) \\times p \\times p\\\\\n",
    "&= p^7 \\times (1-p)^3\n",
    "\\end{gathered}\n",
    "$$\n",
    "由于不同的$p$会导致样本发生的概率发生改变，可能是“冥冥之中自有天意”，有一股无形的力量迫使我们从总体中采样刚好采到这个样本，因此样本发生的概率应该是最大才对。接下来，我们需要把样本发生的概率最大化：\n",
    "$$\n",
    "max_p\\quad P(p) = p^7 \\times (1-p)^3\n",
    "$$\n",
    "由于直接求解$n$个连乘的式子是十分困难的，但是我们比较习惯求解加法的式子，因此可以使用对数把以上的式子$P(p)$简化为连加式子$ln(P(p))$（对数似然函数），即：\n",
    "$$\n",
    "ln(P(p)) = 7ln(p) \\times 3ln(1-p)\n",
    "$$\n",
    "最大值的求解需要使用导数的知识，即导函数为0：\n",
    "$$\n",
    "\\begin{gathered}\n",
    "&\\frac{d ln(P)}{d p} = 0\\\\\n",
    "&\\frac{7}{p}-\\frac{3}{1-p} = 0\\\\\n",
    "&p = 0.7\n",
    "\\end{gathered}\n",
    "$$\n",
    "求解的最大值对应的$p=0.7$就是我们所要估计的p。下面我们使用python求解："
   ]
  },
  {
   "cell_type": "code",
   "execution_count": null,
   "metadata": {},
   "outputs": [],
   "source": [
    "# 使用sympy演示极大似然估计的案例\n",
    "from sympy import *\n",
    "p = Symbol('p')  #定义总体参数\n",
    "P_p = p**7*(1-p)**3  # 定义似然函数\n",
    "lnP_p = ln(P_p) # 化简为对数似然\n",
    "d_ln_P = diff(lnP_p, p) # 求导函数\n",
    "p_hat = solve(d_ln_P, p) # 导函数为0\n",
    "print(\"p的极大似然估计为：\",p_hat)"
   ]
  },
  {
   "cell_type": "markdown",
   "metadata": {},
   "source": [
    "下面，我们来实践一个更加有意义的案例：对正态总体 $N\\left(\\mu, \\sigma^{2}\\right), \\theta=\\left(\\mu, \\sigma^{2}\\right)$ 是二维参数， 设有样本 $x_{1}, x_{2}, \\cdots, x_{n}$，求总体参数$\\mu$和$\\sigma^2$。\n",
    "$$\n",
    "\\begin{aligned}\n",
    "L\\left(\\mu, \\sigma^{2}\\right)=& \\prod_{i=1}^{n}\\left(\\frac{1}{\\sqrt{2 \\pi} \\sigma} \\exp \\left\\{-\\frac{\\left(x_{i}-\\mu\\right)^{2}}{2 \\sigma^{2}}\\right\\}\\right)=\\left(2 \\pi \\sigma^{2}\\right)^{-n / 2} \\exp \\left\\{-\\frac{1}{2 \\sigma^{2}} \\sum_{i=1}^{n}\\left(x_{i}-\\mu\\right)^{2}\\right\\} \\\\\n",
    "& \\ln L\\left(\\mu, \\sigma^{2}\\right)=-\\frac{1}{2 \\sigma^{2}} \\sum_{i=1}^{n}\\left(x_{i}-\\mu\\right)^{2}-\\frac{n}{2} \\ln \\sigma^{2}-\\frac{n}{2} \\ln (2 \\pi)\n",
    "\\end{aligned}\n",
    "$$\n",
    "为了求解对数似然函数的最大化，需要$ln L(\\mu, \\sigma^2)$对$\\mu$和$\\sigma^2$求偏导函数，然后求偏导函数的零点。\n",
    "$$\n",
    "\\begin{gathered}\n",
    "\\frac{\\partial \\ln L\\left(\\mu, \\sigma^{2}\\right)}{\\partial \\mu}=\\frac{1}{\\sigma^{2}} \\sum_{i=1}^{n}\\left(x_{i}-\\mu\\right)=0 \\\\\n",
    "\\frac{\\partial \\ln L\\left(\\mu, \\sigma^{2}\\right)}{\\partial \\sigma^{2}}=\\frac{1}{2 \\sigma^{4}} \\sum_{i=1}^{n}\\left(x_{i}-\\mu\\right)^{2}-\\frac{n}{2 \\sigma^{2}}=0 .\n",
    "\\end{gathered}\n",
    "$$\n",
    "解这个方程组，就可以得到：\n",
    "$$\n",
    "\\hat{\\mu}=\\frac{1}{n} \\sum_{i=1}^{n} x_{i}=\\bar{x}\n",
    "$$\n",
    "和\n",
    "$$\n",
    "\\hat{\\sigma}^{2}=\\frac{1}{n} \\sum_{i=1}^{n}\\left(x_{i}-\\bar{x}\\right)^{2}=s_{n}^{2}\n",
    "$$\n",
    "我们可以惊讶地发现，正态分布的$\\mu$和$\\sigma^2$的极大似然估计竟然是样本均值$\\bar{x}$和有偏样本方差$s_n^2$，这就将我们的估计与统计量连接起来了。**一般来说，估计的结果都与从该分布抽样的样本组成的样本统计量有关，如样本均值$\\bar{x}$样本方差$s^2$** 等等。\n",
    "\n",
    "【例子】指数分布通常用来描述事件之间的时间，假如在银行排队，每个客户排队的等待时间服从参数为$\\lambda$的指数分布。指数分布的密度函数为：\n",
    "$$\n",
    "p(x)=\\left\\{\\begin{array}{r}\n",
    "\\lambda e^{-\\lambda x}, x \\geqslant 0 \\\\\n",
    "0, x<0\n",
    "\\end{array}\\right.\n",
    "$$\n",
    "参数$\\lambda$代表发生率，如：$\\lambda=1$代表平均每分钟有1个人完成服务，$\\lambda=2$代表平均1分钟有两位客户完成服务，$\\lambda=0.5$代表每2分钟有1位客户完成服务（也可以说是每分钟有0.5位客户完成服务。）\n",
    "\n",
    "为了估计银行的服务速度，我们随机在银行的客户进行抽样，询问本次服务的时间长度，得到5位客户的回答：$x_1=2, x_2=3, x_3=0.5, x_4=5, x_5=2$，下面我们使用极大似然估计去估计总体分布（指数分布）中的参数$\\lambda$。\n",
    "\n",
    "解：\n",
    "\n",
    "似然函数：\n",
    "$$\n",
    "L(\\lambda|x_1,x_2,...x_5)=\\lambda^{\\mathrm{n}}\\left[e^{-\\lambda\\left(x_{1}+x_{2}+\\ldots+x_{\\mathrm{5}}\\right)}\\right]\n",
    "$$\n",
    "对数似然函数为：\n",
    "$$\n",
    "ln(L(\\lambda|x_1,x_2,...,x_5)) = 5 \\log (\\lambda)-\\lambda\\left(x_{1}+x_{2}+\\ldots+x_{5}\\right)\n",
    "$$\n",
    "对数似然函求导：\n",
    "$$\n",
    "\\frac{d\\quad ln(L(\\lambda|x_1,x_2,...,x_5))}{d\\quad \\lambda} = n \\frac{1}{\\lambda}-\\left(x_{1}+x_{2}+\\ldots+x_{5}\\right)\n",
    "$$\n",
    "导函数为0：\n",
    "$$\n",
    "\\begin{gathered}\n",
    "& n \\frac{1}{\\lambda}-\\left(x_{1}+x_{2}+\\ldots+x_{5}\\right) = 0 \\\\\n",
    "& \\lambda=\\frac{n}{\\left(x_{1}+x_{2}+\\ldots+x_{5}\\right)} = \\frac{1}{\\bar{x}}\n",
    "\\end{gathered}\n",
    "$$"
   ]
  },
  {
   "cell_type": "code",
   "execution_count": null,
   "metadata": {},
   "outputs": [],
   "source": [
    "from sympy.abc import lamda\n",
    "x_1,x_2,x_3,x_4,x_5 = symbols('x_1:6') # 定义多个样本变量\n",
    "x_1,x_2,x_3,x_4,x_5 = 2, 3, 0.5, 5, 2\n",
    "f_lmd = lamda*E**(-lamda*x_1) * lamda*E**(-lamda*x_2) * lamda*E**(-lamda*x_3) * lamda*E**(-lamda*x_4) * lamda*E**(-lamda*x_5) # 定义似然函数\n",
    "ln_f_lmd = ln(f_lmd) # 定义对数似然函数\n",
    "d_ln_f = diff(ln_f_lmd, lamda) # 求导\n",
    "lmd_hat = solve(d_ln_f, lamda) # 导数为0\n",
    "print(\"指数分布参数lamda的极大似然估计值为：\",lmd_hat)\n",
    "print(\"指数分布参数lamda的极大似然公式求解为：\", 5 / (x_1+x_2+x_3+x_4+x_5))"
   ]
  },
  {
   "cell_type": "markdown",
   "metadata": {},
   "source": [
    "因此，$\\lambda=0.4$表示银行队伍每分钟有0.4位客户完成服务，也就是说银行队伍2.5分钟有1人完成服务。"
   ]
  },
  {
   "cell_type": "markdown",
   "metadata": {},
   "source": [
    "### 7.参数估计之点估计的评价：无偏性与有效性"
   ]
  },
  {
   "cell_type": "markdown",
   "metadata": {},
   "source": [
    "在前面的案例中，可以发现：正态分布$N(\\mu, \\sigma^2)$的极大似然估计的估计统计量为样本均值$\\bar{x}$和有偏样本方差$s_n^2$，而指数分布的参数$\\lambda$的极大似然估计的估计统计量为$\\frac{1}{\\bar{x}}$，因此如何构造统计量去估计总体参数并没有一个明确的规定。换句话来说，对于同一个总体参数的估计统计量的构造方式多种多样，那么如何评价这些统计量的估计好坏呢？下面给出两个准则，分别是：无偏性和有效性。\n",
    "\n",
    "（1）无偏性：\n",
    "\n",
    "使用某个统计量估计总体参数时，由于样本具有随机性，统计量始终与总体参数有一定的差距，这种差距时而偏大，时而偏小，但是平均起来统计量与总体参数之间的差距为0。可以想像成一个箭靶，箭靶中心是总体参数，我们最想要的就是一击必中靶心，但是由于各种因素，我们每次实际的射击（统计量）与实际靶心有一定的差距，有时射出的箭位于靶心上方，有时射出的箭位于靶心的下方，但是平均起来这种差距会被抵消为0。即：\n",
    "\n",
    "设 $\\hat{\\theta}=\\hat{\\theta}\\left(x_{1}, x_{2}, \\cdots, x_{n}\\right)$ 是 $\\theta$ 的一个估计， $\\theta$ 的参数空间为 $\\Theta$， 若对任意的 $\\theta \\in \\Theta$， 有\n",
    "$$\n",
    "E_{\\theta}(\\hat{\\theta})=\\theta,\n",
    "$$\n",
    "则称 $\\hat{\\theta}$ 是 $\\theta$ 的无偏估计， 否则称为有偏估计。\n",
    "\n",
    "<div>\n",
    "<img src=\"./images/15.png\" width=\"100\" align=\"middle\"/>\n",
    "<img src=\"./images/16.png\" width=\"100\" align=\"middle\"/>\n",
    "</div>\n",
    "\n",
    "左图代表无偏，右图则是有偏估计。"
   ]
  },
  {
   "cell_type": "markdown",
   "metadata": {},
   "source": [
    "（2）有效性：\n",
    "\n",
    "对于同一个总体参数的估计统计量的构造方式多种多样，同时对于同一个总体参数的无偏估计也有很多个统计量进行估计，因此如何从众多的无偏估计统计量中选择合适的统计量估计总体参数呢？其实，最直观的方式是：如果该统计量围绕总体分布的参数值波动越小越好，因此波动越小，由于随机性导致的统计量每次估计总体分布参数时不会差别太大。波动可以使用方差来衡量，因此应该选择无偏估计的统计量中方差最小的统计量作为最有效的统计量。具体来说：\n",
    "\n",
    "设 $\\hat{\\theta}_{1}, \\hat{\\theta}_{2}$ 是 $\\theta$ 的两个无偏估计， 如果对任意的 $\\theta \\in \\Theta$ 有\n",
    "$$\n",
    "\\operatorname{Var}\\left(\\hat{\\theta}_{1}\\right) \\leqslant \\operatorname{Var}\\left(\\hat{\\theta}_{2}\\right),\n",
    "$$\n",
    "且至少有一个 $\\theta \\in \\Theta$ 使得上述不等号严格成立， 则称 $\\hat{\\theta}_{1}$ 比 $\\hat{\\theta}_{2}$ 有效。\n",
    "\n",
    "<div>\n",
    "<img src=\"./images/17.png\" width=\"200\" align=\"middle\"/>\n",
    "</div>\n",
    "\n",
    "左图的统计量比右图的统计量更有效。"
   ]
  },
  {
   "cell_type": "markdown",
   "metadata": {},
   "source": [
    "【例子】我们使用一个案例说明无偏性和有效性的重要性：\n",
    "\n",
    "在正态分布$N(\\mu, \\sigma^2)$估计数学期望$\\mu$时，使用极大似然估计的结果为$\\bar{x}$。除此以外，我们也能使用第一个样本$x_1$估计$\\mu$，当然我们也能使用样本统计量的最小值作为$\\mu$的估计，下面我们使用python看看这几种方式的无偏性和有效性："
   ]
  },
  {
   "cell_type": "code",
   "execution_count": null,
   "metadata": {},
   "outputs": [],
   "source": [
    "# 使用三种估计统计量估计标准正态总体的参数mu=0，试验次数为1000次，每次抽100个样品\n",
    "N = 1000\n",
    "## 使用样本均值估计正态总体的参数mu\n",
    "mean_list = []\n",
    "for i in range(1000):\n",
    "    x_i = np.random.randn(100)\n",
    "    x_mean = np.mean(x_i)\n",
    "    mean_list.append(x_mean)\n",
    "E_x_mean = np.mean(mean_list)\n",
    "Var_x_mean = np.var(mean_list)\n",
    "plt.scatter(np.arange(N)+1, np.array(mean_list), color='b', alpha=0.6, label='Var = '+str(Var_x_mean))\n",
    "plt.axhline(y=E_x_mean, ls='--')\n",
    "plt.ylim(-3,3)\n",
    "plt.title(\"样本均值估计总体mu (无偏估计)\")\n",
    "plt.legend()\n",
    "plt.show()\n",
    "\n",
    "## 使用第一个样本估计正态总体的参数mu\n",
    "x1_list = []\n",
    "for i in range(1000):\n",
    "    x_i = np.random.randn(100)\n",
    "    x1 = x_i[0]\n",
    "    x1_list.append(x1)\n",
    "E_x_1 = np.mean(x1_list)\n",
    "Var_x_1 = np.var(x1_list)\n",
    "plt.scatter(np.arange(N)+1, np.array(x1_list), color='b', alpha=0.6, label='Var = '+str(Var_x_1))\n",
    "plt.axhline(y=E_x_1, ls='--')\n",
    "plt.ylim(-3,3)\n",
    "plt.title(\"使用第一个样本估计总体mu（无偏估计）\")\n",
    "plt.legend()\n",
    "plt.show()\n",
    "\n",
    "## 使用最小值估计正态总体的参数mu\n",
    "xmin_list = []\n",
    "for i in range(1000):\n",
    "    x_i = np.random.randn(100)\n",
    "    x_min = np.min(x_i)\n",
    "    xmin_list.append(x_min)\n",
    "E_x_min = np.mean(xmin_list)\n",
    "plt.scatter(np.arange(N)+1, np.array(xmin_list), color='b', alpha=0.6)\n",
    "plt.axhline(y=E_x_min, ls='--')\n",
    "plt.ylim(-3,3)\n",
    "plt.title(\"使用样本最小值估计总体mu（有偏估计）\")\n",
    "plt.show()"
   ]
  },
  {
   "cell_type": "markdown",
   "metadata": {},
   "source": [
    "在以上的三种估计方式中，由于标准正态分布的$\\mu=0$，因此，使用样本均值和使用第一个样本估计正态总体$\\mu$是无偏估计，而使用样本最小值估计正态总体$\\mu$则是有偏的；在使用样本均值和使用第一个样本估计正态总体$\\mu$的两种无偏估计方法中，使用样本均值估计正态总体$\\mu$的方差显著小于使用样本最小值估计正态总体$\\mu$。事实上，$Var(\\bar{x}) = \\frac{\\sigma^2}{n}$而$Var(x_1) = \\sigma^2$，n为样本量。因此，使用样本均值估计正态总体$\\mu$总是无偏且有效的！"
   ]
  },
  {
   "cell_type": "markdown",
   "metadata": {},
   "source": [
    "### 8.参数估计之区间估计（了解）"
   ]
  },
  {
   "cell_type": "markdown",
   "metadata": {},
   "source": [
    "参数的点估计是使用一个具体的数值（统计量）估计总体分布的参数值，这样做的有点就是方便计算与方便使用，但是点估计的精度如何，点估计本身是无法回答的。解决这个问题一个比较复杂的是方法是：构造统计量的分布，即抽样分布，然后使用一个区间估计总体分布的参数，这就是区间估计。设 $\\theta$ 是总体的一个参数， $x_{1}, x_{2}, \\cdots, x_{n}$ 是抽样的样本， 区间估计就是要找到两个统计量 $\\hat{\\theta}_{L}=\\hat{\\theta}_{L}\\left(x_{1}, x_{2}, \\cdots, x_{n}\\right)$ 和 $\\hat{\\theta}_{U}=\\hat{\\theta}_{U}\\left(x_{1}, x_{2}, \\cdots, x_{n}\\right)$， 使得 $\\hat{\\theta}_{L}<\\hat{\\theta}_{U}$， 在得到样本观测值之后， 就把 $\\theta$ 估计在区间 $\\left[\\hat{\\theta}_{L}, \\hat{\\theta}_{V}\\right]$ 内。 样本是具有随机性的, 区间 $\\left[\\hat{\\theta}_{L}, \\hat{\\theta}_{V}\\right]$ 盖住未知参数 $\\theta$ 的可能性并不确定， 人们通常要求区间 $\\left[\\hat{\\theta}_{L}, \\hat{\\theta}_{v}\\right]$ 盖住 $\\theta$ 的概率 $P\\left(\\hat{\\theta}_{L} \\leqslant \\theta \\leqslant \\hat{\\theta}_{U}\\right)$ 尽可能大， 但是只要无限增大区间的范围就好了，然后区间越小是估计得越好的。 为解决此矛盾，把区间 $\\left[\\hat{\\theta}_{L}, \\hat{\\theta}_{V}\\right]$ 盖住 $\\theta$ 的概率 ( 以后称为置信 水平) 事先给定。下面给出区间估计的完整概念（如果看不懂可以直接看例子）：\n",
    "\n",
    "设 $\\theta$ 是总体的一个参数，其参数空间为 $\\Theta, x_{1}, x_{2}, \\cdots, x_{n}$ 是来自该总体的样本, 对给定的一个 $\\alpha(0<\\alpha<1)$， 假设有两个统计量 $\\hat{\\theta}_{L}=\\hat{\\theta}_{L}\\left(x_{1}, x_{2}, \\cdots, x_{n}\\right)$ 和 $\\hat{\\theta}_{U}=$ $\\hat{\\theta}_{U}\\left(x_{1}, x_{2}, \\cdots, x_{n}\\right)$， 若对任意的 $\\theta \\in \\Theta$， 有\n",
    "$$\n",
    "P_{\\theta}\\left(\\hat{\\theta}_{L} \\leqslant \\theta \\leqslant \\hat{\\theta}_{U}\\right) \\geqslant 1-\\alpha,\n",
    "$$\n",
    "则称随机区间 $\\left[\\hat{\\theta}_{L}, \\hat{\\theta}_{V}\\right]$ 为 $\\theta$ 的置信水平为 $1-\\alpha$ 的置信区间，或简称 $\\left[\\hat{\\theta}_{L}, \\hat{\\theta}_{V}\\right]$ 是 $\\theta$ 的 $1-\\alpha$ 置信区间， $\\hat{\\theta}_{L}$ 和 $\\hat{\\theta}_{U}$ 分别称为 $\\theta$ 的 (双侧) 置信下限和置信上限。\n",
    "\n",
    "那么，我们如何通过样本构造一个置信区间呢？如果按照理论来说，应该是枢轴量法，但是这个方法比较复杂而且在很多种情况下都不怎么快速可行（有兴趣可以去了解）。下面，我推荐一种简便的方法简单快速构造置信区间，这个方法叫做bootstrap方法。\n",
    "\n",
    "假设我们想要通过某个统计量T估计总体参数，置信水平为$1-\\alpha$。从总体中抽样$x_1,x_2,...,x_n$，我们只需要在样本中继续抽样（重抽样），每次抽样计算一次统计量T，这样就可以构造一个抽样分布，取抽样分布的$\\frac{\\alpha}{2}$分位数点和$1-\\frac{\\alpha}{2}$分位数点作为区间左右边界即可。\n"
   ]
  },
  {
   "cell_type": "code",
   "execution_count": null,
   "metadata": {},
   "outputs": [],
   "source": [
    "# 使用bootstrap方法计算N(0,1)的mu的置信区间：样本量为1000，重抽样样本量为500, 重抽样的次数为100000次\n",
    "T_list = []\n",
    "N, N_re = 1000, 500\n",
    "total_times = 10000\n",
    "alpha = 0.05\n",
    "x_i = np.random.randn(N)  # 抽样1000个\n",
    "for i in range(total_times):\n",
    "    x_re = np.random.choice(x_i, N_re, replace=True) # 从样本中重抽样\n",
    "    T = np.mean(x_re)\n",
    "    T_list.append(T)\n",
    "left = np.percentile(np.array(T_list), 100*alpha/2)\n",
    "right = np.percentile(np.array(T_list), 100*(1-alpha/2))\n",
    "print(\"正态总体的mu的置信区间为：[\"+str(left)+\", \"+str(right)+\"]\")\n"
   ]
  },
  {
   "cell_type": "markdown",
   "metadata": {},
   "source": [
    "现在反问大家，置信区间的置信水平是什么意思呢？一个样本可以构造一个置信区间，类似地， 我们也可以给出 100 个这样的区间，这 100 个区间中有 50 个包含参数真值 , 另外 50 个不包含参数真 值。这是置信水平 $1-\\alpha=0.50$ 的一个合理解释。当然，若换 100 个样本，也不一定正好 $50 \\%$ 包含真值，可能 49 个也可能 51 个，都是合理的。"
   ]
  },
  {
   "cell_type": "code",
   "execution_count": null,
   "metadata": {},
   "outputs": [],
   "source": [
    "# 探索置信度1-alpha的含义：\n",
    "def get_confident_interval(x_i):\n",
    "    T_list = []\n",
    "    N, N_re = 1000, 500\n",
    "    total_times = 10000\n",
    "    alpha = 0.05\n",
    "    x_i = np.random.randn(N) \n",
    "    for i in range(total_times):\n",
    "        x_re = np.random.choice(x_i, N_re, replace=True) # 从样本中重抽样\n",
    "        T = np.mean(x_re)\n",
    "        T_list.append(T)\n",
    "    left = np.percentile(np.array(T_list), 100*alpha/2)\n",
    "    right = np.percentile(np.array(T_list), 100*(1-alpha/2))\n",
    "    return {'left':left, 'right':right}\n",
    "\n",
    "left_right_list = []  #100个置信区间的列表\n",
    "for i in range(100):\n",
    "    x_i = np.random.randn(1000) #每次抽样1000个样本\n",
    "    T_i = get_confident_interval(x_i)\n",
    "    left_right_list.append(T_i)\n",
    "for i in range(len(left_right_list)):\n",
    "    plt.vlines(x=i+1, ymin=left_right_list[i]['left'], ymax=left_right_list[i]['right'])\n",
    "    plt.scatter(np.array([i+1]*2),np.array([left_right_list[i]['left'],left_right_list[i]['right']]),color='blue')\n",
    "plt.axhline(y=0, ls='--', color='b')\n",
    "plt.show()"
   ]
  },
  {
   "cell_type": "markdown",
   "metadata": {},
   "source": [
    "### 9.假设检验之基本思想"
   ]
  },
  {
   "cell_type": "markdown",
   "metadata": {},
   "source": [
    "（1）假设检验的基本概念：\n",
    "\n",
    "前面的内容，我们学习了统计学中的重要内容：估计，估计是使用样本统计量估计总体参数的一种方法。现在，我们来学习统计学的另一个重要主题：假设检验是对某一个说法做出检验，提出这个说法是正确还是错误。下面通过一个案例对假设检验的概念做一个叙述，这个案例就是鼎鼎大名的“女士品茶”的案例：\n",
    "\n",
    "在一个风和日丽的下午，有一群人正在喝奶茶，其中包括了鼎鼎大名的费希尔。我们知道奶茶是由牛奶和茶按照一定比例混合而成的，其中，有一个女士声称自己可以判断奶茶是先放奶再放茶还是先放茶再放奶。费希尔提议做一个实验来检测她是否有这个能力，那么该命题就变成了：\n",
    "$$\n",
    "\\text{假设}H_0 : \\text{该女士不具备鉴别能力} \\quad VS \\quad \\text{假设}H_1 : \\text{该女士具备鉴别能力}\n",
    "$$\n",
    "他准备了10杯奶茶给这位女士品尝，结果女士10杯奶茶都答对了！这时，应该对此做出怎样的判断呢，是接受$H_0$还是拒绝$H_0$而接受$H_1$呢？这就是假设检验的主要内容：给出一个命题，给出命题是接受还是拒绝。"
   ]
  },
  {
   "cell_type": "markdown",
   "metadata": {},
   "source": [
    "（2）假设检验的步骤：\n",
    "\n",
    "为了介绍假设检验的步骤，我们将使用一个例子给大家讲明白！某生产肉类的工厂生产肉类的质量服从正态分布$N(\\theta, 1)$（总体），其中$\\theta$设计值不低于1kg。为了保证肉类没有偷工减料，工厂每天都要对肉类的生产质量做抽样检查，检查肉类的平均质量不低于1kg。某天，从生产的肉类产品抽查10个产品，测量其质量为$x_1,x_2,...,x_{10}$，样本均值为$\\bar{x} = 0.96$ kg，问该天生产的肉类是否偷工减料？\n",
    "\n",
    "分析：\n",
    "\n",
    "（2.1）建立假设：\n",
    "\n",
    "我们需要回答的问题是：命题“肉类的平均质量不低于1kg”回答“是”还是“否”？因此回答该命题需要正确需要确定以下两个集合：\n",
    "$$\n",
    "\\Theta_{0}=\\{\\theta: \\theta \\geqslant 1\\}, \\quad \\Theta_{1}=\\{\\theta: \\theta<1\\}\n",
    "$$\n",
    "命题成立对应于$\\theta \\in \\Theta_{0}$，而命题不成立对应于$\\theta \\in \\Theta_{1}$。\n",
    "\n",
    "因此，假设就简化为：$H_{0}: \\theta \\in \\Theta_{0} \\quad \\text{vs} \\quad H_{1}: \\theta \\in \\Theta_{1}$，用以上案例来说就是$H_{0}: \\theta \\in \\Theta_{0}=\\{\\theta: \\theta \\geqslant 1\\} \\quad \\text{vs}  \\quad H_{1}: \\theta \\in \\Theta_{1}=\\{\\theta: \\theta<1\\}$，简写为：\n",
    "$$\n",
    "H_{0}: \\theta \\geqslant 1 \\text { vs } H_{1}: \\theta<1\n",
    "$$"
   ]
  },
  {
   "cell_type": "markdown",
   "metadata": {},
   "source": [
    "（2.2）选择统计量并给出拒绝域的形式：\n",
    "\n",
    "问题的原假设$H_0$与备择假设$H_1$是关于总体的假设，我们需要使用样本信息推断总体的假设是否是正确的，老套路就是使用统计量将所有样本的信息汇总成一个具体的数值，如：$x_1,x_2,...,x_n$浓缩成$\\bar{x}$。我们可以想像成有两个空间，一个能让我们通过样本信息拒绝原假设的拒绝域$W$，另一个是让我们通过样本信息接受原假设的接受域$\\bar{W}$，拒绝域$W$和接受域$\\bar{W}$都是可以通过样本信息构造出来的。因此，如果（检验）统计量落在拒绝域$W$则拒绝原假设，相反如果落在接受域$\\bar{W}$则接受原假设，但是拒绝域$W$和接受域$\\bar{W}$的构造方式目前还未知！接下来，我们使用上述的例子构造拒绝域：\n",
    "\n",
    "由于我们的原假设是正态总体的数学期望$\\theta \\ge 1$，因此样本均值$\\bar{x}$是一个不错的统计量。如果正态总体的数学期望$\\theta$越大，$\\bar{x}$越大则支持原假设的力度就会越大，反之$\\bar{x}$越小则越拒绝原假设。因此，当$\\bar{x}$小到一定的程度，就拒绝原假设，拒绝域的形式也随之出来：\n",
    "$$\n",
    "W=\\left\\{\\left(x_{1}, x_{2}, \\cdots, x_{n}\\right): \\bar{x} \\leqslant c\\right\\}=\\{\\bar{x} \\leqslant c\\}\n",
    "$$\n",
    "其中，$c$是未确定的。\n",
    "\n",
    "当拒绝域确定以后，如果某次的样本统计量位于拒绝域$W$则拒绝原假设，如果某次的统计量位于接受域$\\bar{W}$则接受原假设。"
   ]
  },
  {
   "cell_type": "markdown",
   "metadata": {},
   "source": [
    "（2.3）选择显著性水平：\n",
    "\n",
    "由于样本具有随机性，因此每次抽样的统计量的值都不一样，因此某次抽样的样本统计量可能会位于拒绝域，也有可能位于接受域。换句话说，由于样本的随机性，该次检验可能会犯错，犯错的类型有两种：\n",
    "| 观测数据情况 | 总 体 情 况 |  |\n",
    "| :---: | :---: | :---: |\n",
    "|  | $H_{(0)}$ 为真 | $H_{(1)}$ 为真 |\n",
    "| $(x_{(1)},x_{(2)},\\cdots,x_{(n)})\\in W$ | 犯第一类错误 | 正确 |\n",
    "| $(x_{(1)},x_{(2)},\\cdots,x_{(n)})\\in \\bar{W}$ | 正确 | 犯第二类错误 |\n",
    "\n",
    "当 $\\theta \\in \\Theta_{0}$ 时， 样本由于随机性却落人了拒绝域 $W$， 于是我们采取了拒绝 $H_{0}$ 的错误决策， 称这样的错误为第一类错误。\n",
    "\n",
    "当 $\\theta \\in \\Theta_{1}$ 时， 样本却落人了接受域 $\\bar{W}$， 于是我们采取了接受 $H_{0}$ 的错误决策， 称这样的错误为第二类错误。\n",
    "\n",
    "既然会犯两类错误，我们可以计算犯两类错误的概率，即：\n",
    "   - 犯第一类错误概率: $\\alpha(\\theta)=P_{\\theta}\\{\\boldsymbol{X} \\in W\\}, \\theta \\in \\Theta_{0}$。\n",
    "   - 犯第二类错误概率: $\\beta(\\theta)=P_{\\theta}\\{X \\in \\bar{W}\\}, \\theta \\in \\Theta_{1}$。\n",
    "\n",
    "接下来的任务就很简单啦，能不能同时减少两类错误的概率呢？答案是不能，这两类错误相互制约，一类错误的增加必然减少另一类错误的减少。因此，我们选择仅限制一类错误发生的概率，如：令$\\alpha(\\theta) = \\alpha \\le 0.05$"
   ]
  },
  {
   "cell_type": "markdown",
   "metadata": {},
   "source": [
    "（2.4）给出拒绝域：\n",
    "\n",
    "由于我们需要限制一类错误的概率小于等于0.05，即：$\\alpha(\\theta)=P_{\\theta}\\{\\boldsymbol{X} \\in W\\} \\le 0.05$，而拒绝域为$W=\\left\\{\\left(x_{1}, x_{2}, \\cdots, x_{n}\\right): \\bar{x} \\leqslant c\\right\\}=\\{\\bar{x} \\leqslant c\\}$，因此只需要让$c$等于$\\bar{x}$的分布的0.05分位数点即可。\n",
    "\n",
    "以上为理论介绍部分，如果大家只需要假设检验的一般步骤，在这里给大家总结：\n",
    "- 建立原假设于备择假设；\n",
    "- 选择合适的统计量解决检验问题；\n",
    "- 写出拒绝域的形式和显著性水平（一类错误的概率$\\alpha$）；\n",
    "- 计算拒绝域边界的统计量分布的分位数；\n",
    "- 观察统计量值是否位于拒绝域，位于拒绝域则拒绝原假设，否则接受原假设。\n",
    "\n",
    "<div>\n",
    "<img src=\"./images/18.png\" width=\"300\" align=\"middle\"/>\n",
    "</div>\n",
    "\n",
    "下面，我们使用python模拟以上的过程："
   ]
  },
  {
   "cell_type": "code",
   "execution_count": null,
   "metadata": {},
   "outputs": [],
   "source": [
    "# python模拟以上的假设检验：\n",
    "from scipy.stats import norm\n",
    "x_i = np.array([1.0, 0.85, 0.90, 0.98, 0.96, 1.0, 0.97, 0.98, 0.98, 0.98]) # 从当天生产的肉类总体中抽样10个\n",
    "x_mean = np.mean(x_i) # 构造样本均值统计量\n",
    "c = norm(loc=1, scale=np.sqrt(1/10)).ppf(0.05)  # 总体N(theta, 1)，则样本均值的抽样分布为N(theta, 1/n)，n为样本量\n",
    "print(\"样本均值为：\",x_mean)\n",
    "print(\"拒绝域为：（-inf， \"+str(c)+\"]\")\n",
    "print(\"x_mean位于接受域，接受原假设！\")"
   ]
  },
  {
   "cell_type": "markdown",
   "metadata": {},
   "source": [
    "### 10.假设检验之正态总体参数的假设检验"
   ]
  },
  {
   "cell_type": "markdown",
   "metadata": {},
   "source": [
    "在现实生活中，正态分布都是一个十分重要的分布，很多实际的数学模型都是建立在正态分布的基础上的，因此对正态分布的参数$\\mu$和$\\sigma^2$的检验就十分重要。下面，我们对正态总体的参数$\\mu$和$\\sigma^2$的各种检验做讨论：\n",
    "\n",
    "（1）单个正态总体**均值**的检验：\n",
    "\n",
    "设 $x_{1}, x_{2}, \\cdots, x_{n}$ 是来自 $N\\left(\\mu, \\sigma^{2}\\right)$ 的样本，关于 $\\mu$ 的检验问题有以下三种:\n",
    "\n",
    "I $H_{0}: \\mu \\leqslant \\mu_{0}$ vs $H_{1}: \\mu>\\mu_{0}$,\n",
    "\n",
    "II $H_{0}: \\mu \\geqslant \\mu_{0}$ vs $H_{1}: \\mu<\\mu_{0}$,\n",
    "\n",
    "III $H_{0}: \\mu=\\mu_{0}$ vs $H_{1}: \\mu \\neq \\mu_{0}$,\n",
    "\n",
    "其中 $\\mu_{0}$ 是已知常数。 由于正态总体含两个参数，而总体方差 $\\sigma^{2}$ 是否已知对检验会产生很大影响，因此下面我们将分成方差已知和方差未知两种情况：\n",
    "\n",
    "（a）$\\sigma=\\sigma_{0}$ 已知时的 $u$ 检验：\n",
    "- 写出原假设与备择假设：$H_{0}: \\mu \\leqslant \\mu_{0}$ vs $H_{1}: \\mu>\\mu_{0}$\n",
    "- 构造合适的统计量：$u=\\frac{\\bar{x}-\\mu_{0}}{\\sigma_{0} / \\sqrt{n}} ～ N(0,1)$。\n",
    "- 写出拒绝域的形式：$W_{1}=\\left\\{\\left(x_{1}, x_{2}, \\cdots, x_{n}\\right): u \\geqslant c\\right\\}$，取$\\alpha=0.05$；\n",
    "   <div>\n",
    "   <img src=\"./images/19.png\" width=\"200\" align=\"middle\"/>\n",
    "   </div>\n",
    "- 计算统计量分布的分位数：$u_{1-\\alpha} = u_{0.95}$\n",
    "- 计算样本统计量，并观察统计量是否落在拒绝域。\n",
    "\n",
    "【例子】某条公路上的汽车速度是服从正态分布$N(\\mu, 0.4^2)$的随机变量，现在从这条公路上随机抽样10辆车，记录速度分别为：\n",
    "$$\n",
    "60, \\quad 72, \\quad 67, \\quad 89, \\quad 90, \\quad 100, \\quad 67, \\quad 76, \\quad 87, \\quad78\n",
    "$$\n",
    "附近居民猜测此公路的速度为65，问是否能接受这个猜测。\n",
    "\n",
    "解：\n",
    "- 写出原假设与备择假设：$H_{0}: \\mu=65 \\quad$ vs $\\quad H_{1}: \\mu \\neq 65$；\n",
    "- 构造合适的统计量：$u=\\frac{\\bar{x}-65}{0.4 / \\sqrt{10}} ～ N(0,1)$；\n",
    "- 写出拒绝域的形式：$W = \\{u \\le u_{\\alpha/2},\\quad u \\ge u_{1-\\alpha/2} \\},\\quad\\alpha=0.05$\n",
    "   <div>\n",
    "   <img src=\"./images/20.png\" width=\"200\" align=\"middle\"/>\n",
    "   </div>\n",
    "- 计算统计量分布的分位数：$u_{1-\\alpha/2} = u_{0.975}=1.96, \\quad u_{\\alpha/2} = u_{0.025}=-1.96$\n",
    "- 计算样本统计量$u = \\frac{78.6-65}{0.4 / \\sqrt{10}} = 107.517$，位于拒绝域，拒绝原假设！（认为不能接受居民的猜测。）"
   ]
  },
  {
   "cell_type": "code",
   "execution_count": null,
   "metadata": {},
   "outputs": [],
   "source": [
    "# 使用python模拟u检验：\n",
    "from scipy.stats import norm\n",
    "mu_0, sigma= 65, 0.4\n",
    "x_i = np.array([60, 72, 67, 89, 90, 100, 67, 76, 87, 78])  #样本\n",
    "u_T = (np.mean(x_i) - mu) / (sigma / np.sqrt(len(x_i))) # 计算样本统计量\n",
    "left = norm(loc=0, scale=1).ppf(0.025)\n",
    "right = norm(loc=0, scale=1).ppf(0.975)\n",
    "print(\"拒绝域为：[\"+str(left)+\",\"+str(right)+\"]\")\n",
    "print(\"u统计量为：\",u_T)\n",
    "print(\"u_T位于拒绝域，拒绝原假设！\")"
   ]
  },
  {
   "cell_type": "markdown",
   "metadata": {},
   "source": [
    "（b）$\\sigma$未知的单样本t检验：\n",
    "\n",
    "u检验（z检验）完成的是当总体方差已知条件下的单个正态总体均值的检验，在实际中大多数情况下总体方差都是未知的，因此当总体方差未知时，u检验（z检验）将失效，取而代之的是t检验。下面以一个例子说明t检验的基本流程：\n",
    "\n",
    "\n",
    "【例子】某工厂生产以发光产品，发光产品的发光时长服从正态分布$N(\\mu, \\sigma^2)$，产品的发光时长设定均值为250h。现在从一批产品中抽取10个产品，测得发光时长为（单位为：h）：\n",
    "$$\n",
    "248.8,\\quad 249.2,\\quad 250.7,\\quad 251.2,\\quad 248.0,\\quad 253.0,\\quad 248.9,\\quad 250.2,\\quad 251.2,\\quad 249.2\\quad\n",
    "$$\n",
    "问该厂的发光产品是否符合要求？\n",
    "\n",
    "解：由于问题想检验正态总体的均值，而且方差未知，因此z（u）检验失效，应该使用t检验：\n",
    "- 写出原假设与备择假设：$H_{0}: \\mu \\ge 250$ vs $H_{1}: \\mu< 250$\n",
    "- 构造合适的统计量：$t=\\frac{\\bar{x}-\\mu_{0}}{s / \\sqrt{n}} =  \\frac{\\bar{x} - 250}{1.503 / \\sqrt{10}} ～ t(9)$；\n",
    "- 写出拒绝域的形式：$W_{1}=\\left\\{\\left(x_{1}, x_{2}, \\cdots, x_{n}\\right): u \\leqslant c\\right\\}$，取$\\alpha=0.05$；\n",
    "- 计算统计量分布的分位数：$u_{\\alpha} = u_{0.05} = 1.833$\n",
    "- 计算样本统计量$t = \\frac{250.04- 250}{1.503 / \\sqrt{10}} = 0.0799$，并观察统计量是否落在拒绝域。"
   ]
  },
  {
   "cell_type": "code",
   "execution_count": null,
   "metadata": {},
   "outputs": [],
   "source": [
    "# 使用python模拟单样本t检验\n",
    "from scipy.stats import t\n",
    "mu_0 = 250\n",
    "x_i = np.array([248.8, 249.2, 250.7, 251.2, 248.0, 253.0, 248.9, 250.2, 251.2, 249.2]) # 样本\n",
    "t_T = (np.mean(x_i)-mu_0)/(np.std(x_i, ddof=1)/np.sqrt(len(x_i)-1)) # 样本统计量\n",
    "right = t(len(x_i)-1).ppf(0.05)\n",
    "print(\"拒绝域为：(-inf, \"+str(right)+\"]\")\n",
    "print(\"t统计量为：\",t_T)\n",
    "print(\"t_T位于接受域，不能拒绝原假设！\")"
   ]
  },
  {
   "cell_type": "code",
   "execution_count": null,
   "metadata": {},
   "outputs": [],
   "source": [
    "# 使用scipy进行单样本t检验\n",
    "from scipy.stats import ttest_1samp\n",
    "x_i = np.array([248.8, 249.2, 250.7, 251.2, 248.0, 253.0, 248.9, 250.2, 251.2, 249.2]) # 样本\n",
    "t_T, p_value = ttest_1samp(x_i, popmean=250, alternative=\"less\") # popmean:总体的期望， alternative={‘two-sided’（双侧）, ‘less’（左侧）, ‘greater’（右侧）} ； 返回：t统计量和p值\n",
    "print(\"p = \", p_value)\n",
    "print(\"由于p>0.05，不能拒绝原假设！\")"
   ]
  },
  {
   "cell_type": "markdown",
   "metadata": {},
   "source": [
    "在这里，对p值做一个说明：p值是指根据样本所能计算出来的最小的一类错误概率值（显著性水平），如果我们设定的一类错误的概率$\\alpha$大于p值，那么拒绝原假设！如：$\\alpha=0.05,\\quad p=0,002$，由于$p < \\alpha$则拒绝原假设。可以简记：\n",
    "$$\n",
    "p < \\alpha=0.05, \\text{拒绝原假设}\n",
    "$$"
   ]
  },
  {
   "cell_type": "markdown",
   "metadata": {},
   "source": [
    "（2）两个正态总体均值差的检验：\n",
    "\n",
    "（a）$\\sigma_{1}, \\sigma_{2}$ 已知时的两样本 $u$ 检验：\n",
    "\n",
    "【例子】假设现在公司的网站需要修复一个bug，假设公司网站的每个人的浏览时长服从正态分布，且假设修复bug前后方差均为0.4，现在抽取修复bug前的10个客户以及修复之后的10个客户样本，并且观察样本的网站浏览时长，样本如下：\n",
    "- 修复前（单位h）：$2.2、3.1、2.5、2.8、3.0、5.0、4.3、1.8、0.2、1.0$；\n",
    "- 修复后（单位h）：$3.2、2.8、2.2、1.4、4.4、3.4、6.4、4.0、3.9、2.1$；\n",
    "\n",
    "请问：修复bug前后，用户在网站的浏览时长是否发生了显著变化？\n",
    "\n",
    "解：\n",
    "\n",
    "这个问题涉及两个总体，修复bug前后的客户总体，我们需要比较两组总体的浏览网站时长的均值是否发生显著改变，因此，问题可以抽象成如下：\n",
    "\n",
    "设 $x_{1}, x_{2}, \\cdots, x_{m}$ 是来自正态总体 $N\\left(\\mu_{1}, \\sigma_{1}^{2}\\right)$ 的样本， $y_{1}, y_{2}, \\cdots, y_{n}$ 是来自另一个正态总体 $N\\left(\\mu_{2}, \\sigma_{2}^{2}\\right)$ 的样本（$\\sigma_1^2$与$\\sigma_2^2$已知）， 两个样本相互独立。 \n",
    "- 因此，我们的假设是：\n",
    "$$\n",
    "H_{0}: \\mu_{1}-\\mu_{2}=0 \\quad \\text { vs } \\quad H_{1}: \\mu_{1}-\\mu_{2} \\neq 0\n",
    "$$\n",
    "- 由于$\\bar{x}-\\bar{y} \\sim N\\left(\\mu_{1}-\\mu_{2}, \\frac{\\sigma_{1}^{2}}{m}+\\frac{\\sigma_{2}^{2}}{n}\\right)$，因此统计量可以设置为：\n",
    "$$\n",
    "u=\\frac{\\bar{x}-\\bar{y}}{\\sqrt{\\frac{\\sigma_{1}^{2}}{m}+\\frac{\\sigma_{2}^{2}}{n}}}～N(0,1)\n",
    "$$\n",
    "- 拒绝域为：$W_{1}=\\left\\{u \\geqslant u_{1-\\alpha/2}\\right\\}$与$\\left\\{u \\leqslant u_{\\alpha/2}\\right\\}$，假设显著性水平$\\alpha = 0.05$\n",
    "- 计算样本统计量，观察是否位于拒绝域，判断是否拒绝原假设。"
   ]
  },
  {
   "cell_type": "code",
   "execution_count": null,
   "metadata": {},
   "outputs": [],
   "source": [
    "# 使用python进行两个正态总体的均值差检验\n",
    "from scipy.stats import norm \n",
    "sigma2_1 = sigma2_2 = 0.4\n",
    "x_i = np.array([2.2, 3.1, 2.5, 2.8, 3.0, 5.0, 4.3, 1.8, 0.2, 1.0]) # 修复前的样本\n",
    "y_i = np.array([3.2, 2.8, 2.2, 1.4, 4.4, 3.4, 6.4, 4.0, 3.9, 2.1]) # 修复后的样本\n",
    "m, n = len(x_i), len(y_i)  # 样本数\n",
    "u_T = (np.mean(x_i) - np.mean(y_i)) / np.sqrt(sigma2_1/m + sigma2_2/n)  #计算检验统计量\n",
    "left = norm(loc=0, scale=1).ppf(0.025)  #拒绝域左边界\n",
    "right = norm(loc=0, scale=1).ppf(0.975) # 拒绝域右边界\n",
    "print(\"样本统计量为：\", u_T)\n",
    "print(\"拒绝域为：(-inf, \"+str(left)+\"]与[\"+str(right)+\", +inf)\")\n",
    "print(\"样本统计量位于拒绝域，拒绝原假设！\")\n"
   ]
  },
  {
   "cell_type": "markdown",
   "metadata": {},
   "source": [
    "（b）$\\sigma$ 未知时的两样本 $t$ 检验：\n",
    "\n",
    "还是以刚刚为例子：假设现在公司的网站需要修复一个bug，假设公司网站的每个人的浏览时长服从正态分布，现在抽取修复bug前的10个客户以及修复之后的10个客户样本，并且观察样本的网站浏览时长，样本如下：\n",
    "- 修复前（单位h）：$2.2、3.1、2.5、2.8、3.0、5.0、4.3、1.8、0.2、1.0$；\n",
    "- 修复后（单位h）：$3.2、2.8、2.2、1.4、4.4、3.4、6.4、4.0、3.9、2.1$；\n",
    "\n",
    "请问：修复bug前后，用户在网站的浏览时长是否发生了显著变化？\n",
    "\n",
    "当总体方差未知时，情况就会变得十分复杂，在这里需要说明的是：\n",
    "- 当总体方差未知，但相等时，则统计量可以取：$t=\\frac{(\\bar{x}-\\bar{y})-\\left(\\mu_{1}-\\mu_{2}\\right)}{s_{w} \\sqrt{\\frac{1}{m}+\\frac{1}{n}}} \\sim t(m+n-2)$，其中$s_{w}^{2}=\\frac{1}{m+n-2}\\left[\\sum_{i=1}^{m}\\left(x_{i}-\\bar{x}\\right)^{2}+\\sum_{i=1}^{n}\\left(y_{i}-\\bar{y}\\right)^{2}\\right]$，其他过程与（a）不变；\n",
    "- 当总体方差未知且不相等时，可以使用Welch's t-test，统计量可以取$t = \\frac{\\bar{x}-\\bar{y}}{\\sqrt{\\frac{S_{x}^{2}}{n}+\\frac{S_{y}^{2}}{m}}}～t(u),\\quad u=\\frac{\\left(\\frac{S_{X}^{2}}{n}+\\frac{S_{Y}^{2}}{m}\\right)^{2}}{\\frac{S_{X}^{4}}{n^{2}(n-1)}+\\frac{S_{Y}^{4}}{m^{2}(m-1)}}$（近似服从）。由于这个统计量构造十分麻烦，具体的原理在这里就不赘述，十分复杂，大家知道就好了！\n",
    "\n",
    "看着十分麻烦，幸亏python的scipy都有很好的集成这两个方法！"
   ]
  },
  {
   "cell_type": "code",
   "execution_count": null,
   "metadata": {},
   "outputs": [],
   "source": [
    "# 使用python的scipy进行方差未知时，两个正态总体的均值差检验\n",
    "from scipy.stats import ttest_ind\n",
    "x_i = np.array([2.2, 3.1, 2.5, 2.8, 3.0, 5.0, 4.3, 1.8, 0.2, 1.0]) # 修复前的样本\n",
    "y_i = np.array([3.2, 2.8, 2.2, 1.4, 4.4, 3.4, 6.4, 4.0, 3.9, 2.1]) # 修复后的样本\n",
    "m, n = len(x_i), len(y_i)  # 样本数\n",
    "t_T, p_value = ttest_ind(x_i, y_i, equal_var=False, alternative='two-sided') # equal_var=True默认同方差， alternative={‘two-sided’（双侧）, ‘less’（左侧）, ‘greater’（右侧）} ； 返回：t统计量和p值\n",
    "print(\"p值为：\",p_value)\n",
    "print(\"p>0.05, 则不能拒绝原假设！\")"
   ]
  },
  {
   "cell_type": "markdown",
   "metadata": {},
   "source": [
    "（3）正态总体方差的检验\n",
    "\n",
    "（a）单个正态总体方差的 $\\chi^{2}$ 检验：\n",
    "\n",
    "【例子】假设你是一位出色的股票分析师，你物色了一家具有升值潜力的上市公司，但是你不希望承受太大的风险，因此你希望该公司的股票价格不会发生太大的波动，价格的方差在一定的数值以内。现在，假设股票价格服从正态分布，你选取了过去十天的股票价格：\n",
    "$$\n",
    "23.3,\\quad 24.7,\\quad 23.1,\\quad 19.4,\\quad 18.9,\\quad 20.3,\\quad 24.9,\\quad 30.2,\\quad 19.0,\\quad 20.9\\quad\n",
    "$$\n",
    "你希望该股票的价格方差不大于2，请问该股票满足吗？\n",
    "\n",
    "解：\n",
    "\n",
    "设 $x_{1}, x_{2}, \\cdots, x_{n}$ 是来自 $N\\left(\\mu, \\sigma^{2}\\right)$ 的样本，因此：\n",
    "- 假设：$H_{0}: \\sigma^{2} \\leqslant \\sigma_{0}^{2} \\quad$ vs $\\quad H_{1}: \\sigma^{2}>\\sigma_{0}^{2},\\quad \\sigma_0^2 = 2$\n",
    "- 统计量：$(n-1) s^{2} / \\sigma_{0}^{2} ～ \\chi^2(n-1)$\n",
    "- 拒绝域为：$W_{1}=\\left\\{\\chi^{2} \\geqslant \\chi_{1-\\alpha}^{2}(n-1)\\right\\}$，假设显著性水平$\\alpha = 0.05$\n",
    "- 计算样本统计量，观察是否位于拒绝域，判断是否拒绝原假设。"
   ]
  },
  {
   "cell_type": "code",
   "execution_count": null,
   "metadata": {},
   "outputs": [],
   "source": [
    "# 使用python进行单个正态总体的方差检验\n",
    "from scipy.stats import chi2\n",
    "sigma0_2 = 2.0\n",
    "x_i = np.array([23.3, 24.7, 23.1, 19.4, 18.9, 20.3, 24.9, 30.2, 19.0, 20.9]) # 样本\n",
    "n = len(x_i) # 样本量\n",
    "chi_T = (n-1)*np.std(x_i, ddof=1) / sigma0_2 #检验统计量\n",
    "W_right = chi2(df = n-1).ppf(0.95) #拒绝域的边界\n",
    "print(\"检验统计量为：\",chi_T)\n",
    "print(\"拒绝域为：[\"+str(W_right)+\", +inf)\")\n",
    "print(\"统计量位于接受域，不能拒绝原假设！\")"
   ]
  },
  {
   "cell_type": "markdown",
   "metadata": {},
   "source": [
    "（b）两个正态总体方差比的 $F$ 检验：\n",
    "\n",
    "【例子】你现在还是一位出色的股票分析师，你挑选了两家同行业都很优秀的股票，你想对比下它们之间的风险谁大谁小？因此，你收集了两家股票前10天的股票价格：\n",
    "$$\n",
    "\\text{A公司：}23.3,\\quad 24.7,\\quad 23.1,\\quad 19.4,\\quad 18.9,\\quad 20.3,\\quad 24.9,\\quad 30.2,\\quad 19.0,\\quad 20.9\\quad \\\\\n",
    "\\text{B公司：}34.1,\\quad  43.2,\\quad 31.1,\\quad 12.4,\\quad 36.9,\\quad 21.3,\\quad 39.9,\\quad 20.2,\\quad 39.0,\\quad 12.2\\quad \\\\\n",
    "$$\n",
    "因此，你想看看是否A公司的股价方差显著大于B公司呢？\n",
    "\n",
    "解：\n",
    "\n",
    "设 $x_{1}, x_{2}, \\cdots, x_{m}$ 是来自 $N\\left(\\mu_{1}, \\sigma_{1}^{2}\\right)$ 的样本， $y_{1}, y_{2}, \\cdots, y_{n}$ 是来自 $N\\left(\\mu_{2}, \\sigma_{2}^{2}\\right)$ 的样本，因此：\n",
    "- 假设：$H_{0}: \\sigma_{1}^{2} \\geqslant \\sigma_{2}^{2}$ vs $H_{1}: \\sigma_{1}^{2}<\\sigma_{2}^{2}$\n",
    "- 统计量：$F=\\frac{s_{x}^{2}}{s_{y}^{2}}～F(m-1, n-1)$\n",
    "- 拒绝域：$W_{\\mathbb{I}}=\\left\\{F \\leqslant F_{\\alpha}(m-1, n-1)\\right\\}$，显著性水平假设为：$\\alpha=0.05$\n",
    "- 计算样本统计量，观察是否位于拒绝域，判断是否拒绝原假设。"
   ]
  },
  {
   "cell_type": "code",
   "execution_count": null,
   "metadata": {},
   "outputs": [],
   "source": [
    "# 使用python做两个正态总体方差比的 $F$ 检验：\n",
    "from scipy.stats import f\n",
    "x_i = np.array([23.3, 24.7, 23.1, 19.4, 18.9, 20.3, 24.9, 30.2, 19.0, 20.9]) # 样本X\n",
    "y_i = np.array([34.1, 43.2, 31.1, 12.4, 36.9, 21.3, 39.9, 20.2, 39.0, 12.2]) # 样本Y\n",
    "m,n = len(x_i), len(y_i) # 样本量\n",
    "F_T = np.std(x_i, ddof=1) / np.std(y_i, ddof=1) #检验统计量\n",
    "W_left = f(dfn=m-1, dfd=n-1).ppf(0.05)\n",
    "print(\"统计量为：\", F_T)\n",
    "print(\"拒绝域为：(0, \"+str(W_left)+\"]\")\n",
    "print(\"统计量位于拒绝域，拒绝原假设！\")"
   ]
  },
  {
   "cell_type": "markdown",
   "metadata": {},
   "source": [
    "### 11.假设检验之似然比检验与Bootstrap方法"
   ]
  },
  {
   "cell_type": "markdown",
   "metadata": {},
   "source": [
    "正如在点估计中的方法有矩估计和极大似然估计一样，假设检验也有多种方法，之前学过的所有假设检验的方法都是费希尔提出的假设检验，**费希尔假设检验对应的是区间估计**，每次拒绝域边界取统计量抽样分布的分位数点。其中，另一种假设检验方法就是与极大似然估计对应的似然比检验，它是1928年奈曼和E皮尔逊提出的。似然比检验方法是一种应用非常广泛的检验方法，它在假设检验的地位如同极大似然估计在参数估计的地位一样。\n",
    "\n",
    "回顾假设检验的假设：\n",
    "$$\n",
    "H_{0}: \\theta \\in \\Theta_{0} \\quad \\text { vs } \\quad H_{1}: \\theta \\in \\Theta_{1}=\\Theta-\\Theta_{0}\n",
    "$$\n",
    "其中，$\\Theta$是全体参数空间。我们现在需要设置一个统计量，这个统计量能反映说明 $\\theta \\in \\Theta_{0}$ 的可能性相对于 $\\theta \\in \\Theta_{1}$ 的可能性的大小关系。如果说明 $\\theta \\in \\Theta_{0}$ 的可能性要比 $\\theta \\in \\Theta_{1}$ 的可能性小，那么很有可能原假设$H_0$不成立；同理，如果说明 $\\theta \\in \\Theta_{0}$ 的可能性要比 $\\theta \\in \\Theta_{1}$ 的可能性大，那么很有可能原假设$H_0$成立。因此：\n",
    "\n",
    "设 $x_{1}, x_{2}, \\cdots, x_{n}$ 为来自密度函数为 $p(x ; \\theta), \\theta \\in \\Theta$ 的总体的样本， 考虑如下检验问题:\n",
    "$$\n",
    "H_{0}: \\theta \\in \\Theta_{0} \\quad \\text { vs } \\quad H_{1}: \\theta \\in \\Theta_{1}=\\Theta-\\Theta_{0}\n",
    "$$\n",
    "令\n",
    "$$\n",
    "\\Lambda\\left(x_{1}, x_{2}, \\cdots, x_{n}\\right)=\\frac{\\sup _{\\theta \\in \\Theta} p\\left(x_{1}, x_{2}, \\cdots, x_{n} ; \\theta\\right)}{\\sup _{\\theta \\in \\Theta_{0}} p\\left(x_{1}, x_{2}, \\cdots, x_{n} ; \\theta\\right)},\n",
    "$$\n",
    "则我们称统计量 $\\Lambda\\left(x_{1}, x_{2}, \\cdots, x_{n}\\right)$ 为假设的似然比 ( likelihood ratio), 有时也称之为广义似然比。\n",
    "$\\Lambda\\left(x_{1}, x_{2}, \\cdots, x_{n}\\right)$ 也可以写成如下形式：\n",
    "$$\n",
    "\\Lambda\\left(x_{1}, x_{2}, \\cdots, x_{n}\\right)=\\frac{p\\left(x_{1}, x_{2}, \\cdots, x_{n} ; \\hat{\\theta}\\right)}{p\\left(x_{1}, x_{2}, \\cdots, x_{n} ; \\hat{\\theta}_{0}\\right)},\n",
    "$$\n",
    "其中 $\\hat{\\theta}$ 表示在全参数空间 $\\Theta$ 上 $\\theta$ 的最大似然估计， $\\hat{\\theta}_{0}$ 表示在子参数空间 $\\Theta_{0}$ 上 $\\theta$ 的最大似然估计。也就是说, $\\Lambda\\left(x_{1}, x_{2}, \\cdots, x_{n}\\right)$ 的分子表示没有假设时的似然函数最大值，分母表示在原假设成立条件下的似然函数最大值。\n",
    "\n",
    "假设检验需要知道统计量的分布是什么，很遗憾的是似然比检验的统计量并没有一个统一的精确分布，但是2倍对数似然比渐近服从卡方分布，卡方分布的自由度为独立参数的个数（需要检验的参数维度）。\n",
    "\n",
    "\n",
    "【例子】假設观察某种疾病的发生情况： $n=100$ 人中发生了 $k=10$ 个事件。假定数据服从二项分布, 理论已知人群中每個人发生該事件的概率为 $\\pi_{0}=0.2$ 。试对该假设做假设检验？\n",
    "\n",
    "解：按照似然比检验的要求：\n",
    "- 假设：$H_{0}: \\pi=\\pi_{0}=0.2$ v.s. $H_{1}: \\pi \\neq \\pi_{0}=0.2$；\n",
    "- 计算2倍对数似然比统计量：\n",
    "- 设定检验显著性水平$\\alpha=0.05$，计算拒绝域的边界：\n",
    "- 观察检验统计量是否在拒绝域，判断是否拒绝原假设。\n"
   ]
  },
  {
   "cell_type": "code",
   "execution_count": null,
   "metadata": {},
   "outputs": [],
   "source": [
    "# 使用python做似然比检验：\n",
    "from sympy import *\n",
    "from scipy .stats import chi2\n",
    "p = Symbol('p')  #定义总体参数\n",
    "p0 = 0.2  # 设默认概率为0.2\n",
    "f_x = ln(binomial(100,10)*p**10*(1-p)**(100-10))   # 对数似然函数\n",
    "diff_fx = diff(f_x, p)\n",
    "p_opt = solve(diff_fx, p)\n",
    "G_T = 2 * f_x.evalf(subs ={'p':p0}) / f_x.evalf(subs ={'p':float(p_opt[0])})  #计算2倍对数似然比\n",
    "left = chi2(df=1).ppf(0.025)\n",
    "right = chi2(df=1).ppf(0.975)\n",
    "print(\"检验统计量为：\", G_T)\n",
    "print(\"拒绝域为：(0, \"+str(left)+\"] 和 [\"+str(right)+\", +inf)\")\n",
    "print(\"检验统计量位于拒绝域，拒绝原假设！\")\n"
   ]
  },
  {
   "cell_type": "markdown",
   "metadata": {},
   "source": [
    "在刚刚的讨论中，我们知道似然比检验需要确定2倍似然比统计量分布的近似分布———卡方分布的自由度，如果分布的自由度难以确定，这个方法将难以进行下去。换句话说，当我们碰到某个统计量的分布难以确定活着未知的时候能否做假设检验呢？答案是：可以但是不够精确，这个方法就是Bootstrap方法。什么是Bootstrap方法呢？Bootstrap方法是一种重抽样方法，是一种使用样本继续抽样的方法，如何使用Bootstrap近似统计量的分布呢，我们使用一个例子说明：\n",
    "\n",
    "【例子】某工厂生产以发光产品，发光产品的发光时长服从正态分布$N(\\mu, \\sigma^2)$，产品的发光时长设定均值为250h。现在从一批产品中抽取10个产品，测得发光时长为（单位为：h）：\n",
    "$$\n",
    "248.8,\\quad 249.2,\\quad 250.7,\\quad 251.2,\\quad 248.0,\\quad 253.0,\\quad 248.9,\\quad 250.2,\\quad 251.2,\\quad 249.2\\quad\n",
    "$$\n",
    "问该厂的发光产品是否符合要求？\n",
    "\n",
    "解：使用似然比检验\n",
    "- 写出原假设与备择假设：$H_{0}: \\mu \\ge 250$ vs $H_{1}: \\mu< 250$\n",
    "- 计算检验统计量：$\\bar{x} = 250.04$\n",
    "- 设定显著性水平$\\alpha=0.05$，计算拒绝域：将样本再次抽样N次，将N次结果的$\\alpha$分位数作为拒绝域边界\n",
    "- 根据检验统计量是否落在拒绝域判断是否绝句原假设"
   ]
  },
  {
   "cell_type": "code",
   "execution_count": null,
   "metadata": {},
   "outputs": [],
   "source": [
    "# 使用Bootstrap做假设检验\n",
    "mu_0 = 250\n",
    "x_i = np.array([248.8, 249.2, 250.7, 251.2, 248.0, 253.0, 248.9, 250.2, 251.2, 249.2]) # 样本\n",
    "x_bar_T = np.mean(x_i)  #计算检验统计量\n",
    "## Bootstrap重抽样构造统计量的抽样分布过程\n",
    "T_list = []\n",
    "N = 10000  # 重抽样次数\n",
    "for i in range(N):\n",
    "    x_i_resample = np.random.choice(x_i, len(x_i), replace=True)\n",
    "    x_bar_resample = np.mean(x_i_resample)\n",
    "    T_list.append(x_bar_resample)\n",
    "right = np.percentile(T_list, 5)\n",
    "print(\"检验统计量为：\",x_bar_T)\n",
    "print(\"拒绝域为：(-inf, \"+str(right)+\"]\")\n",
    "print(\"检验统计量位于接受域，不能拒绝原假设！\")\n"
   ]
  },
  {
   "cell_type": "code",
   "execution_count": null,
   "metadata": {},
   "outputs": [],
   "source": [
    "# t检验解决以上问题\n",
    "from scipy.stats import t\n",
    "mu_0 = 250\n",
    "x_i = np.array([248.8, 249.2, 250.7, 251.2, 248.0, 253.0, 248.9, 250.2, 251.2, 249.2]) # 样本\n",
    "t_T = (np.mean(x_i)-mu_0)/(np.std(x_i, ddof=1)/np.sqrt(len(x_i)-1)) # 样本统计量\n",
    "right = t(len(x_i)-1).ppf(0.05)\n",
    "print(\"拒绝域为：(-inf, \"+str(right)+\"]\")\n",
    "print(\"t统计量为：\",t_T)\n",
    "print(\"t_T位于接受域，不能拒绝原假设！\")"
   ]
  },
  {
   "cell_type": "markdown",
   "metadata": {},
   "source": [
    "### 12.数学建模案例分析：量化投资的投资组合分析"
   ]
  },
  {
   "cell_type": "markdown",
   "metadata": {},
   "source": [
    "GitModel公司根据客户的要求，选定了 600000 浦发银行， 600004 白云机场， 600019 宝钢股份， 600028 中国石化， 600030 中信证券五个股票为一篮子股票。投资者都是风险厌恶型（Risk averse），那么在同等收益水平下，他们会选择风险更小的资产。同理，当风险水平相同，投资者们会倾向于选择高收益资产，因此客户希望按照风险最小原则计算各个股票的最优投资比例。"
   ]
  },
  {
   "cell_type": "code",
   "execution_count": null,
   "metadata": {},
   "outputs": [],
   "source": [
    "# 学会使用baostock获取金融数据\n",
    "import numpy as np\n",
    "import pandas as pd\n",
    "import baostock as bs\n",
    "plt.style.use('ggplot')\n",
    "# 登陆系统\n",
    "lg = bs.login()\n",
    "# 显示登陆返回信息\n",
    "print('login respond error_code:'+lg.error_code)\n",
    "print('login respond  error_msg:'+lg.error_msg)\n",
    "\n",
    "# 获取指数(综合指数、规模指数、一级行业指数、二级行业指数、策略指数、成长指数、价值指数、主题指数)K线数据\n",
    "# 综合指数，例如：sh.000001 上证指数，sz.399106 深证综指 等；\n",
    "# 规模指数，例如：sh.000016 上证50，sh.000300 沪深300，sh.000905 中证500，sz.399001 深证成指等；\n",
    "# 一级行业指数，例如：sh.000037 上证医药，sz.399433 国证交运 等；\n",
    "# 二级行业指数，例如：sh.000952 300地产，sz.399951 300银行 等；\n",
    "# 策略指数，例如：sh.000050 50等权，sh.000982 500等权 等；\n",
    "# 成长指数，例如：sz.399376 小盘成长 等；\n",
    "# 价值指数，例如：sh.000029 180价值 等；\n",
    "# 主题指数，例如：sh.000015 红利指数，sh.000063 上证周期 等；\n",
    "\n",
    "# 详细指标参数，参见“历史行情指标参数”章节\n",
    "index_list = []\n",
    "stock_codes = ['sh.000001','sz.399001','sh.000905','sh.000300']\n",
    "stock_names = ['上证综指','深证成指','中证500','沪深300']\n",
    "for i in stock_codes:\n",
    "    rs = bs.query_history_k_data_plus(i,\n",
    "    \"date,code,open,high,low,close,preclose,volume,amount,pctChg\",\n",
    "    start_date='2008-01-02', end_date='2020-05-28', frequency=\"d\")\n",
    "    print('query_history_k_data_plus respond error_code:'+rs.error_code)\n",
    "    print('query_history_k_data_plus respond  error_msg:'+rs.error_msg)\n",
    "    # 打印结果集\n",
    "    data_list = []\n",
    "    while (rs.error_code == '0') & rs.next():\n",
    "        # 获取一条记录，将记录合并在一起\n",
    "        data_list.append(rs.get_row_data())\n",
    "    result = pd.DataFrame(data_list, columns=rs.fields)\n",
    "    result['date'] = pd.to_datetime(result['date'])\n",
    "    result['close'] = result['close'].astype(\"float\")\n",
    "    index_list.append(result[['date','close']])\n",
    "# 绘图\n",
    "plt.figure(figsize=(16,8))\n",
    "for i in range(4):\n",
    "    plt.subplot(2,2,i+1)\n",
    "    plt.plot(index_list[i]['date'],index_list[i]['close'],c=\"#e74c3c\")\n",
    "    plt.legend((stock_names[i],),loc = 'best',fontsize=15)\n",
    "    plt.xlabel('交易日')\n",
    "    plt.xticks()\n",
    "plt.show()"
   ]
  },
  {
   "cell_type": "markdown",
   "metadata": {},
   "source": [
    "在建模前，先介绍几个相关的金融概念：\n",
    "- 股票的收益：所谓收益，其实就是股票的买入价和卖出价之差，如果每天都进行交易，那么股票的日收益就是交易当天的收盘价减去昨日收盘价，即：$y_t - y_{t-1}$；\n",
    "- 股票的收益率：收益率就是收益的比率版本，即：$r_t = \\frac{y_t-y_{t-1}}{y_{t-1}}$\n",
    "- 股票的对数收益率：大多数时候，我们不会直接使用收益率，而是使用对数收益率，即：\n",
    "$$\n",
    "r_t = \\frac{y_t-y_{t-1}}{y_{t-1}} = \\frac{y_{t}}{y_{t-1}}-1 \\sim ln(\\frac{y_{t}}{y_{t-1}})\n",
    "$$\n",
    "- 为什么要使用对数收益率而不是直接使用收益率呢？对数收益率在直观上更接近真实的表现。比如股票价格从 1 元涨到 10 元， 相当于翻了 10 倍， 再从 10 元涨到 100 元， 也是翻了 10 倍。如果单纯计算收益率, 那么从 10 元涨到 100 元的这一段明显会 “看起来涨了更多”。如果换算成对数收益率，都是$ln(10)$ ，那么就不会有这种直观偏差。\n",
    "- 股票的预期收益率：预期收益率也称为期望收益率，是指如果没有意外事件发生时根据已知信息所预测能得到的收益率。最简单的情况，其实就是历史收益率的数学期望，表示如果没有意外情况还会按照历史平均收益情况进行变化。\n",
    "- 股票的风险：所谓风险，就是收益率的波动情况，衡量波动最简单的方式就是使用标准差$\\sigma$。\n",
    "\n",
    "假设存在一个投资组合， 它由$N$只股票构成， 描述一个投资组合需要用到包括投资组合的预期收益率以及投资组合收益率的波动率两个重要的变量。\n",
    "1. 投资组合的预期收益率\n",
    "$$\n",
    "\\begin{gathered}\n",
    "E\\left(R_{p}\\right)=E\\left(\\sum_{i=1}^{N} w_{i} R_{i}\\right)=\\sum_{i=1}^{N} w_{i} E\\left(R_{i}\\right) \\\\\n",
    "=\\left[w_{1}, w_{2}, \\ldots, w_{N}\\right]\\left[E\\left(R_{1}\\right), E\\left(R_{2}\\right), \\ldots, E\\left(R_{N}\\right)\\right]^{T}\n",
    "\\end{gathered}\n",
    "$$\n",
    "其中， $E\\left(R_{p}\\right)$ 代表了投资组合的预期收益率， $w_{i}$ 代表了投资组合中第 $i$ 只股票所占的权重， 通常是股票的市值占投资组合整体市值的比例，\n",
    "同时： $\\sum_{i=1}^{N} w_{i}=1, E\\left(R_{i}\\right.$ )代表了投资组合中第 $i$ 只股票的预期收益率， 通常用该股票过去收益率的均值代替; $\\left[w_{1}, w_{2}, \\ldots, w_{N}\\right]$ 代表了每只股票权重的向量； $\\left[E\\left(R_{1}\\right), E\\left(R_{2}\\right), \\ldots, E\\left(R_{N}\\right)\\right]^{T}$ 代表了每只股票预期收益率的向量 (列向量) 在计算 $R_{i t}$ 即第 $i$ 只股票在第 $t$ 个交易日的收益率时， 常使用对数收益率（连续复利的收益率) : $R_{i t}=\\ln \\left(\\frac{P_{i t}}{P_{i t-1}}\\right)$。\n",
    "\n",
    " $P_{i t}$ 表示第 $i$ 个股票在第 $t$ 个时刻的价格， $P_{i t-1}$ 表示第 $i$ 个股票在第 $t-1$ 个时刻的价格。\n",
    "\n",
    "按照一般规律：\n",
    "周波动率 $=\\sqrt{5} \\times$ 日波动率，月波动率 $=\\sqrt{22} \\times$ 日波动率，年波动率 $=\\sqrt{252} \\times$ 日波动率。\n",
    "\n",
    "2. 投资组合的波动率 (风险)\n",
    "考虑 $N$ 个股票的收益波动率：\n",
    "$$\n",
    "\\sigma_{p}=\\sqrt{\\sum_{i=1}^{N} \\sum_{j=1}^{N} w_{i} w_{j} \\operatorname{Cov}\\left(R_{i}, R_{j}\\right)}\n",
    "$$\n",
    "由于相关系数 $\\rho_{i j}=\\frac{\\operatorname{Cov}\\left(R_{i}, R_{j}\\right)}{\\sigma_{i} \\sigma_{j}}$， 因此 $\\sigma_{p}=\\sqrt{\\sum_{i=1}^{N} \\sum_{j=1}^{N} \\rho_{i j} w_{i} w_{j} \\sigma_{i} \\sigma_{j}}$。\n",
    "\n",
    "写成矩阵的形式: $\\sigma_{p}=\\sqrt{w \\Sigma w^{T}}$, 其中 $w=\\left[w_{1}, w_{2}, \\ldots, w_{N}\\right], \\Sigma=\\left[\\begin{array}{cccc}\\sigma_{1}^{2} & \\sigma_{12} & \\cdots & \\sigma_{1 N} \\\\ \\sigma_{21} & \\sigma_{2}^{2} & \\cdots & \\sigma_{2 N} \\\\ \\vdots & \\vdots & \\ddots & \\vdots \\\\ \\sigma_{N 1} & \\sigma_{N 2} & \\cdots & \\sigma_{N}^{2}\\end{array}\\right]$"
   ]
  },
  {
   "cell_type": "markdown",
   "metadata": {},
   "source": [
    "那什么是最优投资组合呢？其实十分简单：期望收益下的风险最小的组合。有效前沿是可行集的一条包络线，他表示了在不同的风险条件下能够给投资者带来的最高预期收益率，或者在不同预测收益条件下能够给投资者带来的最低波动率（风险）。其实有效前沿就是求解以下最优条件:\n",
    "$$\n",
    "\\min _{w_{i}} \\sigma_{p}=\\min _{w_{i}} \\sqrt{\\sum_{i=1}^{N} \\sum_{j=1}^{N} w_{i} w_{j} \\operatorname{Cov}\\left(R_{i}, R_{j}\\right)}\n",
    "$$\n",
    "约束条件是： $\\left\\{\\begin{array}{l}\\sum_{i=1}^{N} w_{i}=1 \\quad \\text{组合内每个股票投资比例之和为1}\\\\ E\\left(R_{p}\\right)=E\\left(\\sum_{i=1}^{N} w_{i} R_{i}\\right)\\quad \\text{客户想要的收益率} \\\\ w_{i}>0 \\text { (不允许卖空（不允许借入股票）, 即不允许融券) }\\end{array}\\right.$"
   ]
  },
  {
   "cell_type": "code",
   "execution_count": null,
   "metadata": {},
   "outputs": [],
   "source": [
    "# 获取组合股票数据： 600000 浦发银行， 600004 白云机场， 600019 宝钢股份， 600028 中国石化， 600030 中信证券\n",
    "\n",
    "#### 获取沪深A股历史K线数据 ####\n",
    "# 详细指标参数，参见“历史行情指标参数”章节；“分钟线”参数与“日线”参数不同。\n",
    "# 分钟线指标：date,time,code,open,high,low,close,volume,amount,adjustflag\n",
    "stock_codes = ['sh.600000','sh.600004','sh.600019','sh.600028','sh.600030']\n",
    "stock_datalist = []\n",
    "for i in stock_codes:\n",
    "    rs = bs.query_history_k_data_plus(i,\n",
    "        \"date,close\",\n",
    "        start_date='2016-01-01', end_date='2021-12-31',\n",
    "        frequency=\"d\", adjustflag=\"3\")\n",
    "    print('query_history_k_data_plus respond error_code:'+rs.error_code)\n",
    "    print('query_history_k_data_plus respond  error_msg:'+rs.error_msg)\n",
    "\n",
    "    #### 打印结果集 ####\n",
    "    data_list = []\n",
    "    while (rs.error_code == '0') & rs.next():\n",
    "        # 获取一条记录，将记录合并在一起\n",
    "        data_list.append(rs.get_row_data())\n",
    "    result = pd.DataFrame(data_list, columns=rs.fields)\n",
    "    stock_datalist.append(result)\n",
    "    print(result)"
   ]
  },
  {
   "cell_type": "code",
   "execution_count": null,
   "metadata": {},
   "outputs": [],
   "source": [
    "# 处理数据 \n",
    "data_stock = pd.DataFrame(\n",
    "    {\n",
    "        'date': stock_datalist[0]['date'],\n",
    "        '浦发银行': stock_datalist[0]['close'],\n",
    "        '白云机场': stock_datalist[1]['close'],\n",
    "        '宝钢股份': stock_datalist[2]['close'],\n",
    "        '中国石化': stock_datalist[3]['close'],\n",
    "        '中信证券': stock_datalist[4]['close'],\n",
    "    }\n",
    ")\n",
    "print(data_stock.dtypes)  #转换数据格式\n",
    "data_stock['date'] = pd.to_datetime(data_stock['date'])\n",
    "data_stock['浦发银行'] = data_stock['浦发银行'].astype('float')\n",
    "data_stock['白云机场'] = data_stock['白云机场'].astype('float')\n",
    "data_stock['宝钢股份'] = data_stock['宝钢股份'].astype('float')\n",
    "data_stock['中国石化'] = data_stock['中国石化'].astype('float')\n",
    "data_stock['中信证券'] = data_stock['中信证券'].astype('float')\n",
    "print(data_stock.dtypes)  \n",
    "\n",
    "data_stock = data_stock.set_index('date')\n",
    "# 归一化\n",
    "(data_stock/data_stock.iloc[0]).plot(figsize=(14,8))\n",
    "plt.show()"
   ]
  },
  {
   "cell_type": "code",
   "execution_count": null,
   "metadata": {},
   "outputs": [],
   "source": [
    "# 计算对数收益率\n",
    "R = np.log(data_stock/data_stock.shift(1)) # log(y_t) - log(y_{t-1})\n",
    "R = R.dropna()\n",
    "R.describe()"
   ]
  },
  {
   "cell_type": "code",
   "execution_count": null,
   "metadata": {},
   "outputs": [],
   "source": [
    "# 可视化对数收益率\n",
    "R.hist(bins=40,figsize=(20,20),alpha=0.95)\n",
    "plt.show()"
   ]
  },
  {
   "cell_type": "code",
   "execution_count": null,
   "metadata": {},
   "outputs": [],
   "source": [
    "# 计算每只股票的平均收益率\n",
    "R_mean = R.mean()*252   # 计算股票的平均年化收益率\n",
    "print(\"平均年化收益率:\\n\",R_mean)"
   ]
  },
  {
   "cell_type": "code",
   "execution_count": null,
   "metadata": {},
   "outputs": [],
   "source": [
    "#计算每只股票的波动率，协方差\n",
    "R_cov = R.cov()*252   # 计算股票的协方差矩阵并且年化处理\n",
    "print(\"协方差矩阵\")\n",
    "R_cov"
   ]
  },
  {
   "cell_type": "code",
   "execution_count": null,
   "metadata": {},
   "outputs": [],
   "source": [
    "# 计算每个股票的相关系数矩阵\n",
    "R_corr = R.corr()    # 计算股票的相关系数矩阵\n",
    "print(\"相关系数矩阵:\")\n",
    "R_corr"
   ]
  },
  {
   "cell_type": "code",
   "execution_count": null,
   "metadata": {},
   "outputs": [],
   "source": [
    "# 计算每个股票的年化收益波动率\n",
    "R_vol = R.std()*np.sqrt(252)  # 计算股票收益率的年化波动率(方差)\n",
    "print('股票收益率的年化波动率(方差):\\n',R_vol)"
   ]
  },
  {
   "cell_type": "code",
   "execution_count": null,
   "metadata": {},
   "outputs": [],
   "source": [
    "# 1. 绘制可行集,每种波动率条件下的收益率变化\n",
    "Rp_list = []   # 初始的投资组合收益率数组\n",
    "Vp_list = []   # 初始的投资组合收益波动率数组\n",
    "for i in np.arange(10000):   # 生成1000个不同权重的预期收益率和收益波动率\n",
    "    x = np.random.random(5)\n",
    "    weight = x/np.sum(x)\n",
    "    Rp_list.append(np.sum(weight*R_mean))\n",
    "    Vp_list.append(np.sqrt(np.dot(weight,np.dot(R_cov,weight.T))))\n",
    "plt.figure(figsize=(8,6))\n",
    "plt.scatter(Vp_list,Rp_list,alpha=0.95)\n",
    "plt.xlabel(u\"波动率\",fontsize=13)\n",
    "plt.ylabel(u'收益率',fontsize=13,rotation=90)\n",
    "plt.xticks(fontsize=13)\n",
    "plt.yticks(fontsize=13)\n",
    "plt.xlim(0.16,0.3)\n",
    "plt.ylim(-0.1,0.1)\n",
    "plt.title(u'投资组合收益率与波动率的关系',fontsize=13)\n",
    "plt.show()"
   ]
  },
  {
   "cell_type": "code",
   "execution_count": null,
   "metadata": {},
   "outputs": [],
   "source": [
    "# 构建有限前沿\n",
    "import scipy.optimize as sco\n",
    "\n",
    "def f(w):  # 构建最优化函数\n",
    "    w = np.array(w)\n",
    "    Rp_opt = np.sum(w*R_mean)\n",
    "    Vp_opt = np.sqrt(np.dot(w,np.dot(R_cov,w.T))) \n",
    "    return np.array([Rp_opt,Vp_opt])\n",
    "\n",
    "def Vmin_f(w):   # 获得最小波动率\n",
    "    return f(w)[1]\n",
    "\n",
    "cons = ({'type':'eq','fun':lambda x:np.sum(x)-1}) # 所有权重和为1\n",
    "bnds = tuple((0,1) for x in range(len(R_mean))) # 每个权重必须要在区间(0,1)\n",
    "\n",
    "result = sco.minimize(Vmin_f,len(R_mean)*[1.0/len(R_mean)],method='SLSQP',bounds=bnds,constraints=cons)\n",
    "print(\"投资组合预期收益率 10% 时浦发银行的权重\",round(result['x'][0],4))\n",
    "print(\"投资组合预期收益率 10% 时白云机场的权重\",round(result['x'][1],4))\n",
    "print(\"投资组合预期收益率 10% 时宝钢股份的权重\",round(result['x'][2],4))\n",
    "print(\"投资组合预期收益率 10% 时中国石化的权重\",round(result['x'][3],4))\n",
    "print(\"投资组合预期收益率 10% 时中信证券的权重\",round(result['x'][4],4))"
   ]
  },
  {
   "cell_type": "code",
   "execution_count": null,
   "metadata": {},
   "outputs": [],
   "source": [
    "Rp_vmin = np.sum(R_mean*result['x'])\n",
    "Vp_vmin = result['fun']\n",
    "print('波动率在可行集是全局最小值的投资组合预期收益率',round(Rp_vmin,4))\n",
    "print('在可行集是全局最小值的波动率',round(Vp_vmin,4))"
   ]
  },
  {
   "cell_type": "code",
   "execution_count": null,
   "metadata": {},
   "outputs": [],
   "source": [
    "# 绘制有效前沿\n",
    "Rp_target = np.linspace(-0.2,0.3,100)   \n",
    "Vp_target = []\n",
    "for r in Rp_target:\n",
    "    cons_new = ({'type':'eq','fun':lambda x:np.sum(x)-1},{'type':'eq','fun':lambda x:f(x)[0]-r})\n",
    "    bnds = tuple((0,1) for x in range(len(R_mean))) # 每个权重必须要在区间(0,1)\n",
    "    result_new = sco.minimize(Vmin_f,len(R_mean)*[1.0/len(R_mean),],method='SLSQP',bounds=bnds,constraints=cons_new)\n",
    "    Vp_target.append(result_new['fun'])\n",
    "plt.figure(figsize=(8,6))\n",
    "plt.scatter(Vp_list,Rp_list)\n",
    "plt.plot(Vp_target,Rp_target,'r-',label=u'有效前沿',lw=2.5)\n",
    "plt.plot(Vp_vmin,Rp_vmin,'b*',label=u'全局最小波动率',markersize=18)\n",
    "plt.xlabel(u'波动率',fontsize=13)\n",
    "plt.ylabel(u'收益率',fontsize=13,rotation=90)\n",
    "plt.xticks(fontsize=13)\n",
    "plt.yticks(fontsize=13)\n",
    "plt.xlim(0.15,0.28)\n",
    "plt.ylim(-0.1,0.25)\n",
    "plt.title(u'投资组合有效前沿',fontsize=13)\n",
    "plt.legend(fontsize=13)\n",
    "plt.show()"
   ]
  },
  {
   "cell_type": "markdown",
   "metadata": {},
   "source": [
    "我们刚刚构建的组合都是基于有风险的资产，如：股票等，并没涉及无风险资产，如：国债、存款等.\n",
    "<div class=\"alert alert-warning\" role=\"alert\">\n",
    "  <h3>📋任务</h3> \n",
    "    现在大家可以将无风险资产纳入投资组合中，存在无风险资产时，投资者可以通过贷出自有资金减少自己的风险，当然这样会降低期望报酬率；也可以通过借入资金，增加购买风险资产的投入资金，从而提高期望报酬率。这样也就意味着投资者可以按照无风险利率借入或者借出任何数量的资金， 这样就引出的是：<strong>资产市场线</strong>.\n",
    "</div>"
   ]
  },
  {
   "cell_type": "markdown",
   "metadata": {},
   "source": [
    "假设投资组合的风险资产$M$和无风险资产资产$F$，设$R_M$为风险资产收益率，风险资产的期望收益$E(R_M)$，风险资产的波动率为：$\\sigma_M$，无风险资产的收益率为$R_F$，无风险资产的波动率为0（无风险）。\n",
    "\n",
    "假设风险资产与无风险资产的投资比例为$y$和$1-y$，那么整个组合的收益率为：$R_p = yE(R_M)+(1-y)R_F = R_F+y[E(R_M)-R_F]$。因此整个组合的预期收益率为：\n",
    "$$\n",
    "E(R_p) = R_F+y[E(R_M)-R_F]\n",
    "$$\n",
    "整个组合的波动率为：\n",
    "$$\n",
    "\\sigma_p = y\\sigma_M\n",
    "$$\n",
    "因此，$y = \\frac{\\sigma_p}{\\sigma_M}$，代入整个组合的预期收益率方程得：$E(R_p) = R_F+[E(R_M)-R_F]\\frac{\\sigma_p}{\\sigma_M}$，我们把$\\frac{E(R_M)-R_F}{\\sigma_M}$称为夏普比率，夏普比率就是整个组合预期收益率直线的斜率，我们希望斜率越大越好，这样获得的收益就会越大。\n",
    "\n",
    "$\\frac{E\\left(R_{M}\\right)-R_{F}}{\\sigma_{M}}$ 是资本市场线的斜率, 也就是夏普比率 (Sharpe Ratio)。\n",
    "\n",
    "因此：计算资本市场线的斜率就是求解以下优化问题：\n",
    "$$\n",
    "\\max _{w_{i}} \\frac{E\\left(R_{M}\\right)-R_{F}}{\\sigma_{M}} \n",
    "$$\n",
    "约束为$\\sum_{i=1}^{N} w_{i}=1$，其中$w_i$为第$i$种风险资产在风险资产组合中的比例。\n"
   ]
  },
  {
   "cell_type": "code",
   "execution_count": 61,
   "metadata": {},
   "outputs": [
    {
     "name": "stdout",
     "output_type": "stream",
     "text": [
      "市场组合的预期收益率 0.0678\n",
      "市场组合的波动率 0.2962\n"
     ]
    }
   ],
   "source": [
    "# 求解资本市场线(请在“----------------”处补全代码)\n",
    "def F(w):\n",
    "    Rf = 0.02\n",
    "    w = np.array(w)\n",
    "    # 请根据风险组合的预期收益率公式补全以下代码\n",
    "    # RM_opt = -------------------------   # E(R_M)\n",
    "    RM_opt = np.sum(w*R_mean)   # E(R_M)\n",
    "    # 请根据市场组合的波动率补全以下代码\n",
    "    # VM_opt = -------------------------- # sigma_M\n",
    "    VM_opt = np.sqrt(np.dot(w,np.dot(R_cov,w.T)))\n",
    "    # 请根据夏普比率公式补全以下代码\n",
    "    # SR = --------------------------\n",
    "    SR = (RM_opt-Rf)/VM_opt\n",
    "    return np.array([RM_opt,VM_opt,SR])\n",
    "\n",
    "# 最大值等于最小化负的最小值\n",
    "def SRmin_F(w):\n",
    "    return -F(w)[2]\n",
    "\n",
    "# 请根据约束：所有风险组合的投资比例和为1的约束补全以下代码\n",
    "# cons_SR = ({'type':---------------,'fun':lambda x:---------------})\n",
    "cons_SR = ({'type':'eq','fun':lambda x:np.sum(x)-1})\n",
    "bnds = tuple((0,1) for x in range(len(R_mean))) # 每个权重必须要在区间(0,1)，禁止卖空\n",
    "# 请根据最优化的目标表达式和约束条件补全以下代码\n",
    "# result_SR = sco.minimize(-------------------------------)\n",
    "result_SR = sco.minimize(SRmin_F,len(R_mean)*[1.0/len(R_mean)],method='SLSQP',bounds=bnds,constraints=cons_SR)\n",
    "Rf = 0.02\n",
    "slope = -result_SR['fun']   # 资本市场线斜率\n",
    "Rm = np.sum(R_mean*result_SR['x'])   #计算风险组合的预期收益率\n",
    "Vm = (Rm-Rf) / slope # #计算风险组合的波动率\n",
    "print('市场组合的预期收益率',round(Rm,4))\n",
    "print('市场组合的波动率',round(Vm,4))"
   ]
  },
  {
   "cell_type": "code",
   "execution_count": 62,
   "metadata": {},
   "outputs": [
    {
     "data": {
      "image/png": "[encoded data removed]",
      "text/plain": [
       "<Figure size 576x432 with 1 Axes>"
      ]
     },
     "metadata": {},
     "output_type": "display_data"
    }
   ],
   "source": [
    "# 资本市场线可视化\n",
    "Rp_cml = np.linspace(0.02,0.25)   \n",
    "Vp_cml = (Rp_cml-Rf) / slope\n",
    "\n",
    "plt.figure(figsize=(8,6))\n",
    "plt.scatter(Vp_list,Rp_list)\n",
    "plt.plot(Vp_target,Rp_target,'r-',label=u'有效前沿',lw=2.5)\n",
    "plt.plot(Vp_cml,Rp_cml,'b--',label=u'资本市场线',lw=2.5)\n",
    "plt.plot(Vp_vmin,Rp_vmin,'b*',label=u'全局最小波动率',markersize=18)\n",
    "plt.plot(Vm,Rm,'g*',label=u'市场组合',markersize=14)\n",
    "plt.xlabel(u'波动率',fontsize=13)\n",
    "plt.ylabel(u'收益率',fontsize=13,rotation=90)\n",
    "plt.xticks(fontsize=13)\n",
    "plt.yticks(fontsize=13)\n",
    "plt.xlim(0,0.32)\n",
    "plt.ylim(-0.1,0.25)\n",
    "plt.title(u'投资组合理论的可视化',fontsize=13)\n",
    "plt.legend(fontsize=13)\n",
    "plt.show()\n"
   ]
  },
  {
   "cell_type": "markdown",
   "metadata": {},
   "source": [
    "在蓝色的资本市场线上，当$x=0$时，代表购入全部的资产都是无风险资产，绿色的市场组合点表示所有资金都投资风险资产，因此在资本市场线上可以出现以下情况：\n",
    "\n",
    "| 风险资产占总投资资产的投资比例 | 投资情况                    | 期望报酬率     | 风险     |\n",
    "| :-------------- | :---------------------- | :-------- | :----- |\n",
    "| y > 1           | 把自有资金与借入资金都投入风险投资       | 高于市场报酬率   | 高于市场风险 |\n",
    "| y = 1           | 把自有资金全部投入风险投资           | 等于市场报酬率   | 等于市场风险 |\n",
    "| y < 1           | 把自有资金部分投资风险资产，部分投资无风险资产 | 低于市场报酬率   | 低于市场风险 |\n",
    "| y = 0           | 把自有资产全部投资于无风险资产         | 等于无风险资产利率 | 无风险    |\n",
    "\n",
    "资本市场线实际上指出了有效投资组合风险与预期收益率之间的关系，提供了衡量有效投资组合风险的方法。对于每一个有效投资组合而言，给定其风险的大小，便可根据资本市场线知道其预期收益率的大小。"
   ]
  },
  {
   "cell_type": "markdown",
   "metadata": {},
   "source": [
    "<div class=\"alert alert-success\" role=\"alert\">\n",
    "  <h4 class=\"alert-heading\">Well done!</h4>\n",
    "  <p>恭喜你，完成了《动手学数理统计》的学习，希望在日后的数模竞赛中，通过本课程的学习，你可以更加灵活掌握各类统计学的工具，取得优异的成绩.</p>\n",
    "  <hr>\n",
    "  <p class=\"mb-0\">如有需要领取本次组队学习的答案，敬请关注公众号以及留意直播讲解！</p>\n",
    "</div>"
   ]
  },
  {
   "cell_type": "code",
   "execution_count": null,
   "metadata": {},
   "outputs": [],
   "source": []
  }
 ],
 "metadata": {
  "kernelspec": {
   "display_name": "Python 3.8.5 ('base')",
   "language": "python",
   "name": "python3"
  },
  "language_info": {
   "codemirror_mode": {
    "name": "ipython",
    "version": 3
   },
   "file_extension": ".py",
   "mimetype": "text/x-python",
   "name": "python",
   "nbconvert_exporter": "python",
   "pygments_lexer": "ipython3",
   "version": "3.8.5"
  },
  "latex_envs": {
   "LaTeX_envs_menu_present": true,
   "autoclose": false,
   "autocomplete": true,
   "bibliofile": "biblio.bib",
   "cite_by": "apalike",
   "current_citInitial": 1,
   "eqLabelWithNumbers": true,
   "eqNumInitial": 1,
   "hotkeys": {
    "equation": "Ctrl-E",
    "itemize": "Ctrl-I"
   },
   "labels_anchors": false,
   "latex_user_defs": false,
   "report_style_numbering": false,
   "user_envs_cfg": false
  },
  "vscode": {
   "interpreter": {
    "hash": "ad2bdc8ecc057115af97d19610ffacc2b4e99fae6737bb82f5d7fb13d2f2c186"
   }
  }
 },
 "nbformat": 4,
 "nbformat_minor": 2
}
