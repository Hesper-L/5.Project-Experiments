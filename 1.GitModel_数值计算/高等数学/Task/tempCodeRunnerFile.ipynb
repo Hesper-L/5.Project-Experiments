y2 = np.array(ap)[:,1]   # 当年
y1 = y2[1:len(y2)]     # 前一年