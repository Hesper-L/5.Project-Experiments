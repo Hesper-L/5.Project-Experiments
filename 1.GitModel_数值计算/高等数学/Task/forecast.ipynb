{
 "cells": [
  {
   "cell_type": "markdown",
   "metadata": {},
   "source": [
    "## 分析数据"
   ]
  },
  {
   "cell_type": "code",
   "execution_count": 3,
   "metadata": {},
   "outputs": [
    {
     "data": {
      "text/html": [
       "<div>\n",
       "<style scoped>\n",
       "    .dataframe tbody tr th:only-of-type {\n",
       "        vertical-align: middle;\n",
       "    }\n",
       "\n",
       "    .dataframe tbody tr th {\n",
       "        vertical-align: top;\n",
       "    }\n",
       "\n",
       "    .dataframe thead th {\n",
       "        text-align: right;\n",
       "    }\n",
       "</style>\n",
       "<table border=\"1\" class=\"dataframe\">\n",
       "  <thead>\n",
       "    <tr style=\"text-align: right;\">\n",
       "      <th></th>\n",
       "      <th>年份</th>\n",
       "      <th>人口/亿</th>\n",
       "    </tr>\n",
       "  </thead>\n",
       "  <tbody>\n",
       "    <tr>\n",
       "      <th>0</th>\n",
       "      <td>2020</td>\n",
       "      <td>3.32</td>\n",
       "    </tr>\n",
       "    <tr>\n",
       "      <th>1</th>\n",
       "      <td>2019</td>\n",
       "      <td>3.28</td>\n",
       "    </tr>\n",
       "    <tr>\n",
       "      <th>2</th>\n",
       "      <td>2018</td>\n",
       "      <td>3.27</td>\n",
       "    </tr>\n",
       "    <tr>\n",
       "      <th>3</th>\n",
       "      <td>2017</td>\n",
       "      <td>3.25</td>\n",
       "    </tr>\n",
       "    <tr>\n",
       "      <th>4</th>\n",
       "      <td>2016</td>\n",
       "      <td>3.23</td>\n",
       "    </tr>\n",
       "  </tbody>\n",
       "</table>\n",
       "</div>"
      ],
      "text/plain": [
       "     年份  人口/亿\n",
       "0  2020  3.32\n",
       "1  2019  3.28\n",
       "2  2018  3.27\n",
       "3  2017  3.25\n",
       "4  2016  3.23"
      ]
     },
     "execution_count": 3,
     "metadata": {},
     "output_type": "execute_result"
    }
   ],
   "source": [
    "import numpy as np\n",
    "import pandas as pd\n",
    "import matplotlib.pyplot as plt\n",
    "\n",
    "from matplotlib.font_manager import FontProperties  # 导入FontProperties\n",
    "\n",
    "ap = pd.read_csv('data_americanPopulation.csv')\n",
    "ap.head()"
   ]
  },
  {
   "cell_type": "code",
   "execution_count": 4,
   "metadata": {},
   "outputs": [
    {
     "data": {
      "text/plain": [
       "(71, 2)"
      ]
     },
     "execution_count": 4,
     "metadata": {},
     "output_type": "execute_result"
    }
   ],
   "source": [
    "ap.shape"
   ]
  },
  {
   "cell_type": "code",
   "execution_count": 9,
   "metadata": {},
   "outputs": [
    {
     "name": "stderr",
     "output_type": "stream",
     "text": [
      "<ipython-input-9-3e072fe9fe27>:9: MatplotlibDeprecationWarning: Case-insensitive properties were deprecated in 3.3 and support will be removed two minor releases later\n",
      "  plt.title('美国1950-2020的总人口数',fontProperties = font,size = 16)\n"
     ]
    },
    {
     "data": {
      "image/png": "[encoded data removed]",
      "text/plain": [
       "<Figure size 432x288 with 1 Axes>"
      ]
     },
     "metadata": {
      "needs_background": "light"
     },
     "output_type": "display_data"
    }
   ],
   "source": [
    "x = sorted(np.array(ap)[:,0])\n",
    "y = sorted(np.array(ap)[:,1])\n",
    "\n",
    "font = FontProperties(fname=\"C:/Windows/Fonts/SimHei.ttf\", size=14)  # 设置字体\n",
    "\n",
    "plt.plot(x, y, color='m', linestyle='', marker='.')\n",
    "plt.xlabel('年份',fontproperties=font)\n",
    "plt.ylabel('总人口数',fontproperties=font)\n",
    "plt.title('美国1950-2020的总人口数',fontProperties = font,size = 16)\n",
    "plt.show()"
   ]
  },
  {
   "cell_type": "markdown",
   "metadata": {},
   "source": [
    "## Summary\n",
    "### 确立模型\n",
    "由作图的结论得出：美国随年份而变化的总人口数可近似视为线性关系$，$可建立线性模型预测2030年的人口数量$。$\n",
    "\n",
    "考虑到人口基数作用问题以及之前学过的传染病模型$，$建立上一年人口数和当年人口总数递推线性模型$。$\n",
    "\n",
    "其中，用预测值与实际真实值的差值作为预测误差，衡量建立模型的优缺。\n",
    "\n",
    "### 模型建立\n",
    "设此关系的线性方程为$\\hat y_i = ax_{i-1}+b+\\epsilon，i\\in[1950,2020],$则第i年预测的美国人口总数为\n",
    "$$\\hat y_i = ax_{i-1}+b，i\\in[1950,2030]$$\n",
    "预测误差为 $\\epsilon = y_i-\\hat y_i\\ $\n",
    "\n",
    "其中 $，y_{i-1}和y_i$ 分别表示美国第 $i-1年和第i$年的总人口数 $，\\epsilon$ 表示预测误差。\n",
    "\n",
    "## 模型求解\n",
    "基于已有数据，将所有的预测误差累加得到的函数作为**目标函数**进行优化，其最小值即认为是参数最优的目标模型。目标函数可表示为\n",
    "$$\\epsilon = \\sum\\limits_i ({y_i- ay_{i-1}-b)^2}$$ \n"
   ]
  },
  {
   "cell_type": "code",
   "execution_count": 10,
   "metadata": {},
   "outputs": [
    {
     "data": {
      "text/html": [
       "<div>\n",
       "<style scoped>\n",
       "    .dataframe tbody tr th:only-of-type {\n",
       "        vertical-align: middle;\n",
       "    }\n",
       "\n",
       "    .dataframe tbody tr th {\n",
       "        vertical-align: top;\n",
       "    }\n",
       "\n",
       "    .dataframe thead th {\n",
       "        text-align: right;\n",
       "    }\n",
       "</style>\n",
       "<table border=\"1\" class=\"dataframe\">\n",
       "  <thead>\n",
       "    <tr style=\"text-align: right;\">\n",
       "      <th></th>\n",
       "      <th>年份</th>\n",
       "      <th>人口/亿</th>\n",
       "    </tr>\n",
       "  </thead>\n",
       "  <tbody>\n",
       "    <tr>\n",
       "      <th>0</th>\n",
       "      <td>2020</td>\n",
       "      <td>3.32</td>\n",
       "    </tr>\n",
       "    <tr>\n",
       "      <th>1</th>\n",
       "      <td>2019</td>\n",
       "      <td>3.28</td>\n",
       "    </tr>\n",
       "    <tr>\n",
       "      <th>2</th>\n",
       "      <td>2018</td>\n",
       "      <td>3.27</td>\n",
       "    </tr>\n",
       "    <tr>\n",
       "      <th>3</th>\n",
       "      <td>2017</td>\n",
       "      <td>3.25</td>\n",
       "    </tr>\n",
       "    <tr>\n",
       "      <th>4</th>\n",
       "      <td>2016</td>\n",
       "      <td>3.23</td>\n",
       "    </tr>\n",
       "    <tr>\n",
       "      <th>...</th>\n",
       "      <td>...</td>\n",
       "      <td>...</td>\n",
       "    </tr>\n",
       "    <tr>\n",
       "      <th>66</th>\n",
       "      <td>1954</td>\n",
       "      <td>1.62</td>\n",
       "    </tr>\n",
       "    <tr>\n",
       "      <th>67</th>\n",
       "      <td>1953</td>\n",
       "      <td>1.60</td>\n",
       "    </tr>\n",
       "    <tr>\n",
       "      <th>68</th>\n",
       "      <td>1952</td>\n",
       "      <td>1.57</td>\n",
       "    </tr>\n",
       "    <tr>\n",
       "      <th>69</th>\n",
       "      <td>1951</td>\n",
       "      <td>1.54</td>\n",
       "    </tr>\n",
       "    <tr>\n",
       "      <th>70</th>\n",
       "      <td>1950</td>\n",
       "      <td>1.51</td>\n",
       "    </tr>\n",
       "  </tbody>\n",
       "</table>\n",
       "<p>71 rows × 2 columns</p>\n",
       "</div>"
      ],
      "text/plain": [
       "      年份  人口/亿\n",
       "0   2020  3.32\n",
       "1   2019  3.28\n",
       "2   2018  3.27\n",
       "3   2017  3.25\n",
       "4   2016  3.23\n",
       "..   ...   ...\n",
       "66  1954  1.62\n",
       "67  1953  1.60\n",
       "68  1952  1.57\n",
       "69  1951  1.54\n",
       "70  1950  1.51\n",
       "\n",
       "[71 rows x 2 columns]"
      ]
     },
     "execution_count": 10,
     "metadata": {},
     "output_type": "execute_result"
    }
   ],
   "source": [
    "from sympy import *\n",
    "import numpy as np\n",
    "import pandas as pd\n",
    "import matplotlib.pyplot as plt\n",
    "import scipy.optimize as opt\n",
    "from matplotlib.font_manager import FontProperties\n",
    "\n",
    "ap = pd.read_csv('data_americanPopulation.csv')\n",
    "ap"
   ]
  },
  {
   "cell_type": "code",
   "execution_count": 11,
   "metadata": {},
   "outputs": [],
   "source": [
    "y2 = np.array(ap)[:,1]   # 当年\n",
    "y1 = y2[1:len(y2)]       # 前一年\n",
    "\n",
    "\n",
    "y1 = np.zeros(len(y1))\n",
    "y2 = np.zeros(len(y2))"
   ]
  },
  {
   "cell_type": "code",
   "execution_count": 12,
   "metadata": {},
   "outputs": [],
   "source": [
    "def discrepance(x):\n",
    "    return sum((yi - x[0]*yi_1 - x[1]) ** 2 for yi, yi_1 in zip(y2, y1))"
   ]
  },
  {
   "cell_type": "code",
   "execution_count": 13,
   "metadata": {},
   "outputs": [
    {
     "name": "stdout",
     "output_type": "stream",
     "text": [
      "a: 0.0, b: 0.0\n"
     ]
    }
   ],
   "source": [
    "res = opt.minimize(discrepance, x0=[0, 0], method='nelder-mead')\n",
    "\n",
    "print(\"a: {}, b: {}\".format(res.x[0], res.x[1]))"
   ]
  },
  {
   "cell_type": "code",
   "execution_count": 14,
   "metadata": {},
   "outputs": [
    {
     "data": {
      "text/latex": [
       "$\\displaystyle 0$"
      ],
      "text/plain": [
       "0"
      ]
     },
     "execution_count": 14,
     "metadata": {},
     "output_type": "execute_result"
    }
   ],
   "source": [
    "# 得出模型\n",
    "yi_1 = symbols('yi_1')\n",
    "y_p = res.x[0] * yi_1 + res.x[1]\n",
    "y_p"
   ]
  },
  {
   "cell_type": "code",
   "execution_count": 15,
   "metadata": {},
   "outputs": [],
   "source": [
    "# 最后，将拟合的模型对应到真实的数据中\n",
    "# def y__(x):\n",
    "#     return res.x[0] * x + res.x[1]\n",
    "# y_pre = y__(years)\n",
    "# plt.plot(years, people_num, '-', years, y_pre, '--')\n",
    "# plt.xlabel('Year')\n",
    "# plt.ylabel('People Number')\n",
    "# plt.title('American Census from 1950 to 2020')\n",
    "# plt.legend(['real data', 'predict data'])\n",
    "# plt.shoa()"
   ]
  },
  {
   "cell_type": "code",
   "execution_count": 16,
   "metadata": {},
   "outputs": [],
   "source": [
    "# # 预测2020年和2021年的美国人口\n",
    "# year_2020 = y_p.evalf(subs={x:2020})\n",
    "# year_2021 = y_p.evalf(subs={x:2021})\n",
    "# print(year_2020)\n",
    "# print(331761000)\n",
    "# print(\"美国2020年的人口总数预测结果为为：{:.0f}，与实际值的误差为：{:.0f}\".format(year_2020, np.abs(year_2020-331761000.0)))\n",
    "# print(\"美国2021年的人口总数预测结果为为：{:.0f}，与实际值的误差为：{:.0f}\".format(year_2021, np.abs(year_2021-332213000)))\n",
    "# # 预测美国2030年人口总数\n",
    "# year_2030 = y.evalf(subs={x:2030})\n",
    "# print(\"美国2030年的人口总数预测结果为为：{:.0f}。\".format(year_2030))\n"
   ]
  },
  {
   "cell_type": "code",
   "execution_count": 17,
   "metadata": {},
   "outputs": [
    {
     "ename": "TypeError",
     "evalue": "unsupported format string passed to Zero.__format__",
     "output_type": "error",
     "traceback": [
      "\u001b[1;31m---------------------------------------------------------------------------\u001b[0m",
      "\u001b[1;31mTypeError\u001b[0m                                 Traceback (most recent call last)",
      "\u001b[1;32m<ipython-input-17-ff842427cac3>\u001b[0m in \u001b[0;36m<module>\u001b[1;34m\u001b[0m\n\u001b[0;32m      1\u001b[0m \u001b[1;31m# 验证2021年，并预测2030年\u001b[0m\u001b[1;33m\u001b[0m\u001b[1;33m\u001b[0m\u001b[1;33m\u001b[0m\u001b[0m\n\u001b[0;32m      2\u001b[0m \u001b[0my_2021\u001b[0m \u001b[1;33m=\u001b[0m \u001b[0my_p\u001b[0m\u001b[1;33m.\u001b[0m\u001b[0mevalf\u001b[0m\u001b[1;33m(\u001b[0m\u001b[0msubs\u001b[0m\u001b[1;33m=\u001b[0m\u001b[1;36m3.32\u001b[0m\u001b[1;33m)\u001b[0m\u001b[1;33m\u001b[0m\u001b[1;33m\u001b[0m\u001b[0m\n\u001b[1;32m----> 3\u001b[1;33m \u001b[0mprint\u001b[0m\u001b[1;33m(\u001b[0m\u001b[1;34m\"美国2021年的人口预测为：{:.0f}， 与真实人口的误差为：{:.0f}\"\u001b[0m\u001b[1;33m.\u001b[0m\u001b[0mformat\u001b[0m\u001b[1;33m(\u001b[0m\u001b[0my_2021\u001b[0m\u001b[1;33m,\u001b[0m \u001b[0mnp\u001b[0m\u001b[1;33m.\u001b[0m\u001b[0mabs\u001b[0m\u001b[1;33m(\u001b[0m\u001b[0my_2021\u001b[0m \u001b[1;33m-\u001b[0m \u001b[1;36m3.32\u001b[0m\u001b[1;33m)\u001b[0m\u001b[1;33m)\u001b[0m\u001b[1;33m)\u001b[0m\u001b[1;33m\u001b[0m\u001b[1;33m\u001b[0m\u001b[0m\n\u001b[0m\u001b[0;32m      4\u001b[0m \u001b[0mtemp\u001b[0m \u001b[1;33m=\u001b[0m \u001b[0my_2021\u001b[0m\u001b[1;33m\u001b[0m\u001b[1;33m\u001b[0m\u001b[0m\n\u001b[0;32m      5\u001b[0m \u001b[1;32mfor\u001b[0m \u001b[0mi\u001b[0m \u001b[1;32min\u001b[0m \u001b[0mrange\u001b[0m\u001b[1;33m(\u001b[0m\u001b[1;36m8\u001b[0m\u001b[1;33m)\u001b[0m\u001b[1;33m:\u001b[0m\u001b[1;33m\u001b[0m\u001b[1;33m\u001b[0m\u001b[0m\n",
      "\u001b[1;31mTypeError\u001b[0m: unsupported format string passed to Zero.__format__"
     ]
    }
   ],
   "source": [
    "# 验证2021年，并预测2030年\n",
    "y_2021 = y_p.evalf(subs=3.32)\n",
    "print(\"美国2021年的人口预测为：{:.0f}， 与真实人口的误差为：{:.0f}\".format(y_2021, np.abs(y_2021 - 3.32)))\n",
    "temp = y_2021\n",
    "for i in range(8):\n",
    "    temp = y_p.evalf(subs={yi_1:temp})\n",
    "    print(\"美国{}年的人口预测为：{:.0f}。\".format((2022+i+1),temp))\n"
   ]
  },
  {
   "cell_type": "code",
   "execution_count": null,
   "metadata": {},
   "outputs": [],
   "source": []
  }
 ],
 "metadata": {
  "kernelspec": {
   "display_name": "Python 3.8.5 ('base')",
   "language": "python",
   "name": "python3"
  },
  "language_info": {
   "codemirror_mode": {
    "name": "ipython",
    "version": 3
   },
   "file_extension": ".py",
   "mimetype": "text/x-python",
   "name": "python",
   "nbconvert_exporter": "python",
   "pygments_lexer": "ipython3",
   "version": "3.8.5"
  },
  "orig_nbformat": 4,
  "vscode": {
   "interpreter": {
    "hash": "ad2bdc8ecc057115af97d19610ffacc2b4e99fae6737bb82f5d7fb13d2f2c186"
   }
  }
 },
 "nbformat": 4,
 "nbformat_minor": 2
}
